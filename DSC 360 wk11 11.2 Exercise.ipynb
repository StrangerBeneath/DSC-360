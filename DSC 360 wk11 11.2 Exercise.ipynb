{
 "cells": [
  {
   "cell_type": "markdown",
   "source": [
    "# **Title: 11.2 Exercise**\n",
    "# **Author: Michael J. Montana**\n",
    "# **Date: 28 May 2023**\n",
    "# **Modified By: N/A**\n",
    "# **Description: Sentiment Analysis using Deep Learning**"
   ],
   "metadata": {
    "collapsed": false,
    "pycharm": {
     "name": "#%% md\n"
    }
   }
  },
  {
   "cell_type": "markdown",
   "source": [
    "# <font color=6220e6>**Using the hotel reviews dataset from Week 10, create a deep learning model with the same universal sentence encoder used in Chapter 10 of the text. Create the same types of output, especially the model evaluation metrics.**"
   ],
   "metadata": {
    "collapsed": false,
    "pycharm": {
     "name": "#%% md\n"
    }
   }
  },
  {
   "cell_type": "code",
   "execution_count": 1,
   "outputs": [],
   "source": [
    "import pandas as pd\n",
    "hotel_df = pd.read_csv('data/hotel-reviews.csv')"
   ],
   "metadata": {
    "collapsed": false,
    "pycharm": {
     "name": "#%%\n"
    }
   }
  },
  {
   "cell_type": "markdown",
   "source": [
    "# <font color=6220e6>**Cleaning**"
   ],
   "metadata": {
    "collapsed": false,
    "pycharm": {
     "name": "#%% md\n"
    }
   }
  },
  {
   "cell_type": "code",
   "execution_count": 2,
   "outputs": [
    {
     "name": "stdout",
     "output_type": "stream",
     "text": [
      "Hotel Reviews:\n"
     ]
    },
    {
     "name": "stderr",
     "output_type": "stream",
     "text": [
      "Cleaning: 100%|\u001B[32m██████████\u001B[0m| 9/9 [12:54<00:00, 86.08s/it] \n"
     ]
    }
   ],
   "source": [
    "from myclassesv6 import Normalize_Corpus\n",
    "import nltk\n",
    "#using nltk stopword list with but, not, and no removed\n",
    "stopword_list=nltk.corpus.stopwords.words('english')\n",
    "stopword_list.remove(\"but\")\n",
    "stopword_list.remove(\"not\")\n",
    "stopword_list.remove(\"no\")\n",
    "\n",
    "norm=Normalize_Corpus()#instantitaing class\n",
    "\n",
    "# cleaning hotel data\n",
    "hotel_clean = hotel_df\n",
    "print('Hotel Reviews:')\n",
    "hotel_clean['Description']= norm.normalize(hotel_clean['Description'],stopword_list, html_stripping=True, contraction_expansion=True,\n",
    "                                             accented_char_removal=True, text_lower_case=True,\n",
    "                                             text_lemmatization=True, special_char_removal=True,\n",
    "                                             stopword_removal=True, digits_removal=True)"
   ],
   "metadata": {
    "collapsed": false,
    "pycharm": {
     "name": "#%%\n"
    }
   }
  },
  {
   "cell_type": "markdown",
   "source": [
    "# <font color=6220e6>**Saving Clean Data Set**"
   ],
   "metadata": {
    "collapsed": false,
    "pycharm": {
     "name": "#%% md\n"
    }
   }
  },
  {
   "cell_type": "code",
   "execution_count": 3,
   "outputs": [],
   "source": [
    "dataset=hotel_clean.copy()\n",
    "dataset['sentiment'] = dataset['Is_Response'].astype('category').cat.codes\n",
    "dataset = dataset.rename(columns={'Description':'review'})\n",
    "dataset = dataset.drop(columns=['User_ID','Browser_Used','Device_Used','Is_Response'])\n",
    "dataset.to_csv('data/hotel-reviews_clean.csv', index=False)"
   ],
   "metadata": {
    "collapsed": false,
    "pycharm": {
     "name": "#%%\n"
    }
   }
  },
  {
   "cell_type": "markdown",
   "source": [
    "# <font color=6220e6>**Importing Cleaned data and Splitting to Training, Testing, and Validation Datasets**"
   ],
   "metadata": {
    "collapsed": false,
    "pycharm": {
     "name": "#%% md\n"
    }
   }
  },
  {
   "cell_type": "code",
   "execution_count": 4,
   "outputs": [],
   "source": [
    "from sklearn.model_selection import train_test_split  #https://scikit-learn.org/stable/modules/generated/sklearn.model_selection.train_test_split.html\n",
    "import pandas as pd\n",
    "dataset = pd.read_csv('data/clean_hotel_review.csv')\n",
    "#splitting dataset into training and testing; using stratify to match positive/negative ratios for the samples\n",
    "rev_train, rev_test, sen_train, sen_test = train_test_split(dataset['review'], dataset['sentiment'], test_size=.15,random_state=1, stratify=dataset['sentiment'])\n",
    "#splitting validation from training\n",
    "rev_train, rev_val, sen_train, sen_val = train_test_split(rev_train, sen_train, test_size=.17, random_state=1, stratify=sen_train)"
   ],
   "metadata": {
    "collapsed": false,
    "pycharm": {
     "name": "#%%\n"
    }
   }
  },
  {
   "cell_type": "code",
   "execution_count": 5,
   "outputs": [],
   "source": [
    "#combining and resetting the index the split data and reset the index\n",
    "rev=pd.concat([rev_train,rev_val,rev_test],ignore_index=False)\n",
    "sen=pd.concat([sen_train,sen_val,sen_test],ignore_index=False)\n",
    "dataset2 = pd.concat([rev,sen],axis=1)"
   ],
   "metadata": {
    "collapsed": false,
    "pycharm": {
     "name": "#%%\n"
    }
   }
  },
  {
   "cell_type": "code",
   "execution_count": 6,
   "outputs": [
    {
     "data": {
      "text/plain": "((27252,), (5839,), (5841,))"
     },
     "execution_count": 6,
     "metadata": {},
     "output_type": "execute_result"
    }
   ],
   "source": [
    "#splitting the data as show in the examples\n",
    "reviews = dataset['review'].values\n",
    "sentiments = dataset['sentiment'].values\n",
    "\n",
    "train_reviews = reviews[:27252]\n",
    "train_sentiments = sentiments[:27252]\n",
    "\n",
    "val_reviews = reviews[27252:33091]\n",
    "val_sentiments = sentiments[27252:33091]\n",
    "\n",
    "test_reviews = reviews[33091:]\n",
    "test_sentiments = sentiments[33091:]\n",
    "\n",
    "train_reviews.shape, val_reviews.shape, test_reviews.shape"
   ],
   "metadata": {
    "collapsed": false,
    "pycharm": {
     "name": "#%%\n"
    }
   }
  },
  {
   "cell_type": "markdown",
   "source": [
    "# <font color=6220e6>**Data Ingestion Functions**"
   ],
   "metadata": {
    "collapsed": false,
    "pycharm": {
     "name": "#%% md\n"
    }
   }
  },
  {
   "cell_type": "code",
   "execution_count": 7,
   "outputs": [
    {
     "name": "stdout",
     "output_type": "stream",
     "text": [
      "WARNING:tensorflow:From C:\\Users\\michaelmontana\\AppData\\Local\\Packages\\PythonSoftwareFoundation.Python.3.9_qbz5n2kfra8p0\\LocalCache\\local-packages\\Python39\\site-packages\\tensorflow\\python\\util\\lazy_loader.py:59: The name tf.estimator.inputs is deprecated. Please use tf.compat.v1.estimator.inputs instead.\n",
      "\n",
      "WARNING:tensorflow:From C:\\Users\\michaelmontana\\AppData\\Local\\Temp\\ipykernel_17096\\872698633.py:3: The name tf.estimator.inputs.numpy_input_fn is deprecated. Please use tf.compat.v1.estimator.inputs.numpy_input_fn instead.\n",
      "\n"
     ]
    }
   ],
   "source": [
    "import tensorflow as tf\n",
    "# Training input on the whole training set with no limit on training epochs.\n",
    "train_input_fn = tf.compat.v1.estimator.inputs.numpy_input_fn(\n",
    "    {'sentence': train_reviews}, train_sentiments,\n",
    "    batch_size=100, num_epochs=None, shuffle=True)"
   ],
   "metadata": {
    "collapsed": false,
    "pycharm": {
     "name": "#%%\n"
    }
   }
  },
  {
   "cell_type": "code",
   "execution_count": 8,
   "outputs": [],
   "source": [
    "# Prediction on the whole training set.\n",
    "predict_train_input_fn = tf.compat.v1.estimator.inputs.numpy_input_fn(\n",
    "    {'sentence': train_reviews}, train_sentiments, shuffle=False)"
   ],
   "metadata": {
    "collapsed": false,
    "pycharm": {
     "name": "#%%\n"
    }
   }
  },
  {
   "cell_type": "code",
   "execution_count": 9,
   "outputs": [],
   "source": [
    "# Prediction on the whole validation set.\n",
    "predict_val_input_fn = tf.compat.v1.estimator.inputs.numpy_input_fn(\n",
    "    {'sentence': val_reviews}, val_sentiments, shuffle=False)"
   ],
   "metadata": {
    "collapsed": false,
    "pycharm": {
     "name": "#%%\n"
    }
   }
  },
  {
   "cell_type": "code",
   "execution_count": 10,
   "outputs": [],
   "source": [
    "# Prediction on the test set.\n",
    "predict_test_input_fn = tf.compat.v1.estimator.inputs.numpy_input_fn(\n",
    "    {'sentence': test_reviews}, test_sentiments, shuffle=False)"
   ],
   "metadata": {
    "collapsed": false,
    "pycharm": {
     "name": "#%%\n"
    }
   }
  },
  {
   "cell_type": "markdown",
   "source": [
    "# <font color=6220e6>**Deep Learning Model with Universal Sentence Encoder**"
   ],
   "metadata": {
    "collapsed": false,
    "pycharm": {
     "name": "#%% md\n"
    }
   }
  },
  {
   "cell_type": "code",
   "execution_count": 11,
   "outputs": [],
   "source": [
    "import tensorflow_hub as hub\n",
    "#build deep learning model with universal sentecnce encoder\n",
    "#TF2.0 Saved Model (v4): Encoder of greater-than-word length text trained on a variety of data\n",
    "embedding_feature = hub.text_embedding_column(\n",
    "    key='sentence',\n",
    "    module_spec=\"https://tfhub.dev/google/universal-sentence-encoder/2\",\n",
    "    trainable=False)"
   ],
   "metadata": {
    "collapsed": false,
    "pycharm": {
     "name": "#%%\n"
    }
   }
  },
  {
   "cell_type": "code",
   "execution_count": 12,
   "outputs": [
    {
     "name": "stdout",
     "output_type": "stream",
     "text": [
      "INFO:tensorflow:Using default config.\n"
     ]
    },
    {
     "name": "stderr",
     "output_type": "stream",
     "text": [
      "INFO:tensorflow:Using default config.\n"
     ]
    },
    {
     "name": "stdout",
     "output_type": "stream",
     "text": [
      "WARNING:tensorflow:Using temporary folder as model directory: C:\\Users\\MICHAE~1\\AppData\\Local\\Temp\\tmp4qrbpr7c\n"
     ]
    },
    {
     "name": "stderr",
     "output_type": "stream",
     "text": [
      "WARNING:tensorflow:Using temporary folder as model directory: C:\\Users\\MICHAE~1\\AppData\\Local\\Temp\\tmp4qrbpr7c\n"
     ]
    },
    {
     "name": "stdout",
     "output_type": "stream",
     "text": [
      "INFO:tensorflow:Using config: {'_model_dir': 'C:\\\\Users\\\\MICHAE~1\\\\AppData\\\\Local\\\\Temp\\\\tmp4qrbpr7c', '_tf_random_seed': None, '_save_summary_steps': 100, '_save_checkpoints_steps': None, '_save_checkpoints_secs': 600, '_session_config': allow_soft_placement: true\n",
      "graph_options {\n",
      "  rewrite_options {\n",
      "    meta_optimizer_iterations: ONE\n",
      "  }\n",
      "}\n",
      ", '_keep_checkpoint_max': 5, '_keep_checkpoint_every_n_hours': 10000, '_log_step_count_steps': 100, '_train_distribute': None, '_device_fn': None, '_protocol': None, '_eval_distribute': None, '_experimental_distribute': None, '_experimental_max_worker_delay_secs': None, '_session_creation_timeout_secs': 7200, '_checkpoint_save_graph_def': True, '_service': None, '_cluster_spec': ClusterSpec({}), '_task_type': 'worker', '_task_id': 0, '_global_id_in_cluster': 0, '_master': '', '_evaluation_master': '', '_is_chief': True, '_num_ps_replicas': 0, '_num_worker_replicas': 1}\n"
     ]
    },
    {
     "name": "stderr",
     "output_type": "stream",
     "text": [
      "INFO:tensorflow:Using config: {'_model_dir': 'C:\\\\Users\\\\MICHAE~1\\\\AppData\\\\Local\\\\Temp\\\\tmp4qrbpr7c', '_tf_random_seed': None, '_save_summary_steps': 100, '_save_checkpoints_steps': None, '_save_checkpoints_secs': 600, '_session_config': allow_soft_placement: true\n",
      "graph_options {\n",
      "  rewrite_options {\n",
      "    meta_optimizer_iterations: ONE\n",
      "  }\n",
      "}\n",
      ", '_keep_checkpoint_max': 5, '_keep_checkpoint_every_n_hours': 10000, '_log_step_count_steps': 100, '_train_distribute': None, '_device_fn': None, '_protocol': None, '_eval_distribute': None, '_experimental_distribute': None, '_experimental_max_worker_delay_secs': None, '_session_creation_timeout_secs': 7200, '_checkpoint_save_graph_def': True, '_service': None, '_cluster_spec': ClusterSpec({}), '_task_type': 'worker', '_task_id': 0, '_global_id_in_cluster': 0, '_master': '', '_evaluation_master': '', '_is_chief': True, '_num_ps_replicas': 0, '_num_worker_replicas': 1}\n"
     ]
    }
   ],
   "source": [
    "# A classifier for Tensor Flow DNN models which is deprecated and not recommended for new code. https://www.tensorflow.org/api_docs/python/tf/compat/v1/estimator/DNNClassifier\n",
    "dnn = tf.compat.v1.estimator.DNNClassifier(\n",
    "    hidden_units=[512, 128],\n",
    "    feature_columns=[embedding_feature],\n",
    "    n_classes=2,\n",
    "    activation_fn=tf.nn.relu,\n",
    "    dropout=0.1,\n",
    "    optimizer=tf.compat.v1.train.AdagradOptimizer(learning_rate=0.005))"
   ],
   "metadata": {
    "collapsed": false,
    "pycharm": {
     "name": "#%%\n"
    }
   }
  },
  {
   "cell_type": "markdown",
   "source": [
    "# <font color=6220e6>**Model Training**"
   ],
   "metadata": {
    "collapsed": false,
    "pycharm": {
     "name": "#%% md\n"
    }
   }
  },
  {
   "cell_type": "code",
   "execution_count": 13,
   "outputs": [
    {
     "name": "stdout",
     "output_type": "stream",
     "text": [
      "\n",
      "----------------------------------------------------------------------------------------------------\n",
      "Training for step = 0\n",
      "Train Time (s): 24.56814932823181\n",
      "Eval Metrics (Train): {'accuracy': 0.6831792, 'accuracy_baseline': 0.68317926, 'auc': 0.83331925, 'auc_precision_recall': 0.73225534, 'average_loss': 0.56829166, 'label/mean': 0.31682077, 'loss': 72.70932, 'precision': 0.0, 'prediction/mean': 0.30049092, 'recall': 0.0, 'global_step': 10}\n",
      "Eval Metrics (Validation): {'accuracy': 0.67357427, 'accuracy_baseline': 0.6735742, 'auc': 0.8427738, 'auc_precision_recall': 0.7571548, 'average_loss': 0.5744241, 'label/mean': 0.32642576, 'loss': 72.9144, 'precision': 0.0, 'prediction/mean': 0.30001217, 'recall': 0.0, 'global_step': 10}\n",
      "\n",
      "----------------------------------------------------------------------------------------------------\n",
      "Training for step = 10\n",
      "Train Time (s): 23.204465627670288\n",
      "Eval Metrics (Train): {'accuracy': 0.79318947, 'accuracy_baseline': 0.68317926, 'auc': 0.8542784, 'auc_precision_recall': 0.7664143, 'average_loss': 0.49244338, 'label/mean': 0.31682077, 'loss': 63.005013, 'precision': 0.86348206, 'prediction/mean': 0.32847717, 'recall': 0.4124392, 'global_step': 20}\n",
      "Eval Metrics (Validation): {'accuracy': 0.7852372, 'accuracy_baseline': 0.6735742, 'auc': 0.86317545, 'auc_precision_recall': 0.7844654, 'average_loss': 0.49389222, 'label/mean': 0.32642576, 'loss': 62.6921, 'precision': 0.8773148, 'prediction/mean': 0.32726473, 'recall': 0.3976915, 'global_step': 20}\n",
      "\n",
      "----------------------------------------------------------------------------------------------------\n",
      "Training for step = 20\n",
      "Train Time (s): 22.94815969467163\n",
      "Eval Metrics (Train): {'accuracy': 0.79487747, 'accuracy_baseline': 0.68317926, 'auc': 0.8621343, 'auc_precision_recall': 0.77697957, 'average_loss': 0.45033488, 'label/mean': 0.31682077, 'loss': 57.617496, 'precision': 0.8721271, 'prediction/mean': 0.24749205, 'recall': 0.41313413, 'global_step': 30}\n",
      "Eval Metrics (Validation): {'accuracy': 0.78729236, 'accuracy_baseline': 0.6735742, 'auc': 0.8701449, 'auc_precision_recall': 0.79488593, 'average_loss': 0.45401844, 'label/mean': 0.32642576, 'loss': 57.630733, 'precision': 0.8842593, 'prediction/mean': 0.24593069, 'recall': 0.40083945, 'global_step': 30}\n",
      "\n",
      "----------------------------------------------------------------------------------------------------\n",
      "Training for step = 30\n",
      "Train Time (s): 23.250726461410522\n",
      "Eval Metrics (Train): {'accuracy': 0.81814176, 'accuracy_baseline': 0.68317926, 'auc': 0.869707, 'auc_precision_recall': 0.78745055, 'average_loss': 0.41975546, 'label/mean': 0.31682077, 'loss': 53.70505, 'precision': 0.81085193, 'prediction/mean': 0.29520014, 'recall': 0.55559415, 'global_step': 40}\n",
      "Eval Metrics (Validation): {'accuracy': 0.8186333, 'accuracy_baseline': 0.6735742, 'auc': 0.8765701, 'auc_precision_recall': 0.8025786, 'average_loss': 0.41973832, 'label/mean': 0.32642576, 'loss': 53.279392, 'precision': 0.82905984, 'prediction/mean': 0.293988, 'recall': 0.5598111, 'global_step': 40}\n",
      "\n",
      "----------------------------------------------------------------------------------------------------\n",
      "Training for step = 40\n",
      "Train Time (s): 23.629104375839233\n",
      "Eval Metrics (Train): {'accuracy': 0.8114267, 'accuracy_baseline': 0.68317926, 'auc': 0.8811104, 'auc_precision_recall': 0.8025421, 'average_loss': 0.4205575, 'label/mean': 0.31682077, 'loss': 53.807667, 'precision': 0.8744375, 'prediction/mean': 0.24195404, 'recall': 0.4726662, 'global_step': 50}\n",
      "Eval Metrics (Validation): {'accuracy': 0.8039048, 'accuracy_baseline': 0.6735742, 'auc': 0.88698864, 'auc_precision_recall': 0.8167988, 'average_loss': 0.42514277, 'label/mean': 0.32642576, 'loss': 53.965405, 'precision': 0.88164496, 'prediction/mean': 0.24097037, 'recall': 0.46117523, 'global_step': 50}\n",
      "\n",
      "----------------------------------------------------------------------------------------------------\n",
      "Training for step = 50\n",
      "Train Time (s): 23.477840185165405\n",
      "Eval Metrics (Train): {'accuracy': 0.8226919, 'accuracy_baseline': 0.68317926, 'auc': 0.8858875, 'auc_precision_recall': 0.8083028, 'average_loss': 0.40381408, 'label/mean': 0.31682077, 'loss': 51.66545, 'precision': 0.7133558, 'prediction/mean': 0.37611872, 'recall': 0.7361594, 'global_step': 60}\n",
      "Eval Metrics (Validation): {'accuracy': 0.8273677, 'accuracy_baseline': 0.6735742, 'auc': 0.89085466, 'auc_precision_recall': 0.81942856, 'average_loss': 0.3988036, 'label/mean': 0.32642576, 'loss': 50.622047, 'precision': 0.7353249, 'prediction/mean': 0.37592965, 'recall': 0.73609656, 'global_step': 60}\n",
      "\n",
      "----------------------------------------------------------------------------------------------------\n",
      "Training for step = 60\n",
      "Train Time (s): 24.601922273635864\n",
      "Eval Metrics (Train): {'accuracy': 0.8343975, 'accuracy_baseline': 0.68317926, 'auc': 0.8923251, 'auc_precision_recall': 0.817012, 'average_loss': 0.38108587, 'label/mean': 0.31682077, 'loss': 48.757523, 'precision': 0.79448336, 'prediction/mean': 0.31312606, 'recall': 0.6438499, 'global_step': 70}\n",
      "Eval Metrics (Validation): {'accuracy': 0.8350745, 'accuracy_baseline': 0.6735742, 'auc': 0.8962476, 'auc_precision_recall': 0.82724375, 'average_loss': 0.38127574, 'label/mean': 0.32642576, 'loss': 48.397152, 'precision': 0.814543, 'prediction/mean': 0.31338477, 'recall': 0.6406086, 'global_step': 70}\n",
      "\n",
      "----------------------------------------------------------------------------------------------------\n",
      "Training for step = 70\n",
      "Train Time (s): 23.385950565338135\n",
      "Eval Metrics (Train): {'accuracy': 0.830251, 'accuracy_baseline': 0.68317926, 'auc': 0.8958489, 'auc_precision_recall': 0.8205582, 'average_loss': 0.38391885, 'label/mean': 0.31682077, 'loss': 49.119984, 'precision': 0.84504133, 'prediction/mean': 0.26708925, 'recall': 0.56845033, 'global_step': 80}\n",
      "Eval Metrics (Validation): {'accuracy': 0.8292516, 'accuracy_baseline': 0.6735742, 'auc': 0.8990484, 'auc_precision_recall': 0.8302023, 'average_loss': 0.38828135, 'label/mean': 0.32642576, 'loss': 49.286407, 'precision': 0.85759246, 'prediction/mean': 0.2675048, 'recall': 0.57187825, 'global_step': 80}\n",
      "\n",
      "----------------------------------------------------------------------------------------------------\n",
      "Training for step = 80\n",
      "Train Time (s): 24.7575945854187\n",
      "Eval Metrics (Train): {'accuracy': 0.83795685, 'accuracy_baseline': 0.68317926, 'auc': 0.8973588, 'auc_precision_recall': 0.82306874, 'average_loss': 0.3746271, 'label/mean': 0.31682077, 'loss': 47.931164, 'precision': 0.7607567, 'prediction/mean': 0.34362364, 'recall': 0.7126477, 'global_step': 90}\n",
      "Eval Metrics (Validation): {'accuracy': 0.83387566, 'accuracy_baseline': 0.6735742, 'auc': 0.8999733, 'auc_precision_recall': 0.83058226, 'average_loss': 0.37436783, 'label/mean': 0.32642576, 'loss': 47.5203, 'precision': 0.7677345, 'prediction/mean': 0.34456807, 'recall': 0.7040923, 'global_step': 90}\n",
      "\n",
      "----------------------------------------------------------------------------------------------------\n",
      "Training for step = 90\n",
      "Train Time (s): 22.942737579345703\n",
      "Eval Metrics (Train): {'accuracy': 0.8349479, 'accuracy_baseline': 0.68317926, 'auc': 0.89766693, 'auc_precision_recall': 0.82332146, 'average_loss': 0.37513834, 'label/mean': 0.31682077, 'loss': 47.996574, 'precision': 0.74068904, 'prediction/mean': 0.35569465, 'recall': 0.73708594, 'global_step': 100}\n",
      "Eval Metrics (Validation): {'accuracy': 0.83353317, 'accuracy_baseline': 0.6735742, 'auc': 0.9002157, 'auc_precision_recall': 0.83110356, 'average_loss': 0.37377864, 'label/mean': 0.32642576, 'loss': 47.445507, 'precision': 0.7535288, 'prediction/mean': 0.3567571, 'recall': 0.72822666, 'global_step': 100}\n",
      "\n",
      "----------------------------------------------------------------------------------------------------\n",
      "Training for step = 100\n",
      "Train Time (s): 24.1015465259552\n",
      "Eval Metrics (Train): {'accuracy': 0.8364891, 'accuracy_baseline': 0.68317926, 'auc': 0.8997468, 'auc_precision_recall': 0.8260243, 'average_loss': 0.37136164, 'label/mean': 0.31682077, 'loss': 47.51337, 'precision': 0.8280465, 'prediction/mean': 0.2784226, 'recall': 0.61072505, 'global_step': 110}\n",
      "Eval Metrics (Validation): {'accuracy': 0.83336186, 'accuracy_baseline': 0.6735742, 'auc': 0.9022603, 'auc_precision_recall': 0.83414453, 'average_loss': 0.37552696, 'label/mean': 0.32642576, 'loss': 47.66743, 'precision': 0.8382886, 'prediction/mean': 0.2790494, 'recall': 0.60650575, 'global_step': 110}\n"
     ]
    }
   ],
   "source": [
    "tf.compat.v1.logging.set_verbosity(tf.compat.v1.logging.ERROR)\n",
    "import time\n",
    "\n",
    "TOTAL_STEPS = 100 #change to 100 per instruction\n",
    "STEP_SIZE = 10 #change to 10 per instruction\n",
    "for step in range(0, TOTAL_STEPS+1, STEP_SIZE):\n",
    "    print()\n",
    "    print('-'*100)\n",
    "    print('Training for step =', step) #provides a reference\n",
    "    start_time = time.time() #capturing start time\n",
    "    dnn.train(input_fn=train_input_fn, steps=STEP_SIZE) #\n",
    "    elapsed_time = time.time() - start_time #calculates training time\n",
    "    print('Train Time (s):', elapsed_time) #print training time\n",
    "    print('Eval Metrics (Train):', dnn.evaluate(input_fn=predict_train_input_fn)) #evaluate using training data -- https://www.tensorflow.org/api_docs/python/tf/keras/Model#evaluate\n",
    "    print('Eval Metrics (Validation):', dnn.evaluate(input_fn=predict_val_input_fn))"
   ],
   "metadata": {
    "collapsed": false,
    "pycharm": {
     "name": "#%%\n"
    }
   }
  },
  {
   "cell_type": "markdown",
   "source": [
    "# <font color=6220e6>**Model Eval**"
   ],
   "metadata": {
    "collapsed": false,
    "pycharm": {
     "name": "#%% md\n"
    }
   }
  },
  {
   "cell_type": "code",
   "execution_count": 14,
   "outputs": [
    {
     "data": {
      "text/plain": "{'accuracy': 0.8406095,\n 'accuracy_baseline': 0.67967814,\n 'auc': 0.89957637,\n 'auc_precision_recall': 0.83305323,\n 'average_loss': 0.37111276,\n 'label/mean': 0.32032186,\n 'loss': 47.123253,\n 'precision': 0.8259362,\n 'prediction/mean': 0.28512377,\n 'recall': 0.636558,\n 'global_step': 110}"
     },
     "execution_count": 14,
     "metadata": {},
     "output_type": "execute_result"
    }
   ],
   "source": [
    "# Evaluating deep neural network model using test and training dataset\n",
    "dnn.evaluate(input_fn=predict_train_input_fn)\n",
    "dnn.evaluate(input_fn=predict_test_input_fn)"
   ],
   "metadata": {
    "collapsed": false,
    "pycharm": {
     "name": "#%%\n"
    }
   }
  },
  {
   "cell_type": "code",
   "execution_count": 15,
   "outputs": [
    {
     "data": {
      "text/plain": "[0, 1, 0, 1, 1, 0, 0, 1, 0, 1]"
     },
     "execution_count": 15,
     "metadata": {},
     "output_type": "execute_result"
    }
   ],
   "source": [
    "def get_predictions(estimator, input_fn):\n",
    "    return [x[\"class_ids\"][0] for x in estimator.predict(input_fn=input_fn)]\n",
    "\n",
    "predictions = get_predictions(estimator=dnn, input_fn=predict_test_input_fn)\n",
    "predictions[:10]"
   ],
   "metadata": {
    "collapsed": false,
    "pycharm": {
     "name": "#%%\n"
    }
   }
  },
  {
   "cell_type": "code",
   "execution_count": 16,
   "outputs": [
    {
     "data": {
      "text/plain": "<Figure size 432x288 with 2 Axes>",
      "image/png": "[encoded data removed]"
     },
     "metadata": {
      "needs_background": "light"
     },
     "output_type": "display_data"
    }
   ],
   "source": [
    "#producing a heatmap of the confusion matrix to show correct and incorrect prediction\n",
    "import seaborn as sns\n",
    "import matplotlib.pyplot as plt\n",
    "\n",
    "%matplotlib inline\n",
    "\n",
    "with tf.compat.v1.Session() as session:\n",
    "    cm = tf.compat.v1.confusion_matrix(test_sentiments, predictions).eval()\n",
    "\n",
    "LABELS = ['negative', 'positive']\n",
    "sns.heatmap(cm, annot=True, xticklabels=LABELS, yticklabels=LABELS, fmt='g')\n",
    "xl = plt.xlabel(\"Predicted\")\n",
    "yl = plt.ylabel(\"Actuals\")"
   ],
   "metadata": {
    "collapsed": false,
    "pycharm": {
     "name": "#%%\n"
    }
   }
  },
  {
   "cell_type": "code",
   "execution_count": 17,
   "outputs": [
    {
     "name": "stdout",
     "output_type": "stream",
     "text": [
      "              precision    recall  f1-score   support\n",
      "\n",
      "    negative       0.85      0.94      0.89      3970\n",
      "    positive       0.83      0.64      0.72      1871\n",
      "\n",
      "    accuracy                           0.84      5841\n",
      "   macro avg       0.84      0.79      0.80      5841\n",
      "weighted avg       0.84      0.84      0.83      5841\n",
      "\n"
     ]
    }
   ],
   "source": [
    "from sklearn.metrics import classification_report\n",
    "print(classification_report(y_true=test_sentiments, y_pred=predictions, target_names=LABELS))"
   ],
   "metadata": {
    "collapsed": false,
    "pycharm": {
     "name": "#%%\n"
    }
   }
  }
 ],
 "metadata": {
  "kernelspec": {
   "display_name": "Python 3",
   "language": "python",
   "name": "python3"
  },
  "language_info": {
   "codemirror_mode": {
    "name": "ipython",
    "version": 2
   },
   "file_extension": ".py",
   "mimetype": "text/x-python",
   "name": "python",
   "nbconvert_exporter": "python",
   "pygments_lexer": "ipython2",
   "version": "2.7.6"
  }
 },
 "nbformat": 4,
 "nbformat_minor": 0
}
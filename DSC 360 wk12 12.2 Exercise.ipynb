{
 "cells": [
  {
   "cell_type": "markdown",
   "source": [
    "# **Title: 12.2 Exercise**\n",
    "# **Author: Michael J. Montana**\n",
    "# **Date: 3 June 2023**\n",
    "# **Modified By: N/A**\n",
    "# **Description:Demonstrates Spacy token and phrase matching functions**"
   ],
   "metadata": {
    "collapsed": false,
    "pycharm": {
     "name": "#%% md\n"
    }
   }
  },
  {
   "cell_type": "markdown",
   "source": [
    "# <font color=2d5db5>**Using the tweets.csv dataset from Week 3, use pattern matching to find every term that can be categorized as “SOCIAL_CAUSE”. Your result should be a Pandas DataFrame that contains the following information (the DataFrame can be very simple or very nice – that’s up to you):**\n",
    "\n",
    "1. Matcher\n",
    "2. PhraseMatcher (at least once)\n",
    "3. on_match callback (at least one)\n",
    "4. Matches on more than just specific text – use POS, IS_PUNCT or any other token attributes (for no less than one match pattern, but I encourage you to use other token attributes often since this is the real power of spaCy pattern matching)\n",
    "5. Regular expression (at least once)\n",
    "\n",
    "Note that the beauty of this Python package is that you define what a SOCIAL_CAUSE is, explicitly, using the text as your guide. This feature is especially important when dealing with domain-specific corpora, since the language is not simply Wikipedia data."
   ],
   "metadata": {
    "collapsed": false,
    "pycharm": {
     "name": "#%% md\n"
    }
   }
  },
  {
   "cell_type": "markdown",
   "source": [
    "# <font color=2d5db5>**Importing Data**"
   ],
   "metadata": {
    "collapsed": false,
    "pycharm": {
     "name": "#%% md\n"
    }
   }
  },
  {
   "cell_type": "code",
   "execution_count": 1,
   "outputs": [
    {
     "data": {
      "text/plain": "      author                                            content  \\\n0  katyperry  Is history repeating itself...?#DONTNORMALIZEH...   \n1  katyperry  @barackobama Thank you for your incredible gra...   \n2  katyperry                Life goals. https://t.co/XIn1qKMKQl   \n3  katyperry            Me right now 🙏🏻 https://t.co/gW55C1wrwd   \n4  katyperry  SISTERS ARE DOIN' IT FOR THEMSELVES! 🙌🏻💪🏻❤️ ht...   \n\n         date_time  \n0  12/1/2017 19:52  \n1   11/1/2017 8:38  \n2   11/1/2017 2:52  \n3   11/1/2017 2:44  \n4   10/1/2017 5:22  ",
      "text/html": "<div>\n<style scoped>\n    .dataframe tbody tr th:only-of-type {\n        vertical-align: middle;\n    }\n\n    .dataframe tbody tr th {\n        vertical-align: top;\n    }\n\n    .dataframe thead th {\n        text-align: right;\n    }\n</style>\n<table border=\"1\" class=\"dataframe\">\n  <thead>\n    <tr style=\"text-align: right;\">\n      <th></th>\n      <th>author</th>\n      <th>content</th>\n      <th>date_time</th>\n    </tr>\n  </thead>\n  <tbody>\n    <tr>\n      <th>0</th>\n      <td>katyperry</td>\n      <td>Is history repeating itself...?#DONTNORMALIZEH...</td>\n      <td>12/1/2017 19:52</td>\n    </tr>\n    <tr>\n      <th>1</th>\n      <td>katyperry</td>\n      <td>@barackobama Thank you for your incredible gra...</td>\n      <td>11/1/2017 8:38</td>\n    </tr>\n    <tr>\n      <th>2</th>\n      <td>katyperry</td>\n      <td>Life goals. https://t.co/XIn1qKMKQl</td>\n      <td>11/1/2017 2:52</td>\n    </tr>\n    <tr>\n      <th>3</th>\n      <td>katyperry</td>\n      <td>Me right now 🙏🏻 https://t.co/gW55C1wrwd</td>\n      <td>11/1/2017 2:44</td>\n    </tr>\n    <tr>\n      <th>4</th>\n      <td>katyperry</td>\n      <td>SISTERS ARE DOIN' IT FOR THEMSELVES! 🙌🏻💪🏻❤️ ht...</td>\n      <td>10/1/2017 5:22</td>\n    </tr>\n  </tbody>\n</table>\n</div>"
     },
     "execution_count": 1,
     "metadata": {},
     "output_type": "execute_result"
    }
   ],
   "source": [
    "#reading in tweets\n",
    "import pandas as pd\n",
    "tweets = pd.read_csv('data/tweets.csv')\n",
    "tweets=tweets.drop(columns='country')\n",
    "tweets.head()"
   ],
   "metadata": {
    "collapsed": false,
    "pycharm": {
     "name": "#%%\n"
    }
   }
  },
  {
   "cell_type": "markdown",
   "source": [
    "# <font color=2d5db5>**Cleaning Data**"
   ],
   "metadata": {
    "collapsed": false,
    "pycharm": {
     "name": "#%% md\n"
    }
   }
  },
  {
   "cell_type": "code",
   "execution_count": 2,
   "outputs": [
    {
     "name": "stderr",
     "output_type": "stream",
     "text": [
      "Cleaning: 100%|\u001B[32m██████████\u001B[0m| 9/9 [03:49<00:00, 25.52s/it]\n"
     ]
    },
    {
     "data": {
      "text/plain": "      author                                            content  \\\n0  katyperry  Is history repeating itself...?#DONTNORMALIZEH...   \n1  katyperry  @barackobama Thank you for your incredible gra...   \n2  katyperry                Life goals. https://t.co/XIn1qKMKQl   \n3  katyperry            Me right now 🙏🏻 https://t.co/gW55C1wrwd   \n4  katyperry  SISTERS ARE DOIN' IT FOR THEMSELVES! 🙌🏻💪🏻❤️ ht...   \n\n         date_time                                      clean_content  \n0  12/1/2017 19:52                   history repeat dontnormalizehate  \n1   11/1/2017 8:38  barackobama thank incredible grace leadership ...  \n2   11/1/2017 2:52                                          life goal  \n3   11/1/2017 2:44                                              right  \n4   10/1/2017 5:22                                        sister doin  ",
      "text/html": "<div>\n<style scoped>\n    .dataframe tbody tr th:only-of-type {\n        vertical-align: middle;\n    }\n\n    .dataframe tbody tr th {\n        vertical-align: top;\n    }\n\n    .dataframe thead th {\n        text-align: right;\n    }\n</style>\n<table border=\"1\" class=\"dataframe\">\n  <thead>\n    <tr style=\"text-align: right;\">\n      <th></th>\n      <th>author</th>\n      <th>content</th>\n      <th>date_time</th>\n      <th>clean_content</th>\n    </tr>\n  </thead>\n  <tbody>\n    <tr>\n      <th>0</th>\n      <td>katyperry</td>\n      <td>Is history repeating itself...?#DONTNORMALIZEH...</td>\n      <td>12/1/2017 19:52</td>\n      <td>history repeat dontnormalizehate</td>\n    </tr>\n    <tr>\n      <th>1</th>\n      <td>katyperry</td>\n      <td>@barackobama Thank you for your incredible gra...</td>\n      <td>11/1/2017 8:38</td>\n      <td>barackobama thank incredible grace leadership ...</td>\n    </tr>\n    <tr>\n      <th>2</th>\n      <td>katyperry</td>\n      <td>Life goals. https://t.co/XIn1qKMKQl</td>\n      <td>11/1/2017 2:52</td>\n      <td>life goal</td>\n    </tr>\n    <tr>\n      <th>3</th>\n      <td>katyperry</td>\n      <td>Me right now 🙏🏻 https://t.co/gW55C1wrwd</td>\n      <td>11/1/2017 2:44</td>\n      <td>right</td>\n    </tr>\n    <tr>\n      <th>4</th>\n      <td>katyperry</td>\n      <td>SISTERS ARE DOIN' IT FOR THEMSELVES! 🙌🏻💪🏻❤️ ht...</td>\n      <td>10/1/2017 5:22</td>\n      <td>sister doin</td>\n    </tr>\n  </tbody>\n</table>\n</div>"
     },
     "execution_count": 2,
     "metadata": {},
     "output_type": "execute_result"
    }
   ],
   "source": [
    "from myclassesv8 import Normalize_Corpus\n",
    "import nltk\n",
    "#using nltk stopword list with but, not, and no removed\n",
    "stopword_list=nltk.corpus.stopwords.words('english')\n",
    "\n",
    "norm=Normalize_Corpus()#instantitaing class\n",
    "\n",
    "# cleaning tweets and adding new column\n",
    "tweets_clean = tweets.copy()\n",
    "tweets_clean['clean_content'] = norm.normalize(tweets_clean['content'],stopword_list, html_stripping=True, contraction_expansion=True,\n",
    "                                             accented_char_removal=True, text_lower_case=True,\n",
    "                                             text_lemmatization=True, special_char_removal=True,\n",
    "                                             stopword_removal=True, digits_removal=True)\n",
    "tweets_clean = tweets_clean.replace('', float('NaN')).dropna()\n",
    "tweets_clean.head()"
   ],
   "metadata": {
    "collapsed": false,
    "pycharm": {
     "name": "#%%\n"
    }
   }
  },
  {
   "cell_type": "markdown",
   "source": [
    "# <font color=2d5db5>**Saving Cleaned Data**"
   ],
   "metadata": {
    "collapsed": false,
    "pycharm": {
     "name": "#%% md\n"
    }
   }
  },
  {
   "cell_type": "code",
   "execution_count": 3,
   "outputs": [],
   "source": [
    "tweets_clean.to_csv('data/tweets_cleaned.csv', index=False)"
   ],
   "metadata": {
    "collapsed": false,
    "pycharm": {
     "name": "#%%\n"
    }
   }
  },
  {
   "cell_type": "markdown",
   "source": [
    "# <font color=2d5db5>**Importing Clean Data**"
   ],
   "metadata": {
    "collapsed": false,
    "pycharm": {
     "name": "#%% md\n"
    }
   }
  },
  {
   "cell_type": "code",
   "execution_count": 4,
   "outputs": [
    {
     "data": {
      "text/plain": "      author                                            content  \\\n0  katyperry  Is history repeating itself...?#DONTNORMALIZEH...   \n1  katyperry  @barackobama Thank you for your incredible gra...   \n2  katyperry                Life goals. https://t.co/XIn1qKMKQl   \n3  katyperry            Me right now 🙏🏻 https://t.co/gW55C1wrwd   \n4  katyperry  SISTERS ARE DOIN' IT FOR THEMSELVES! 🙌🏻💪🏻❤️ ht...   \n\n         date_time                                      clean_content  \n0  12/1/2017 19:52                   history repeat dontnormalizehate  \n1   11/1/2017 8:38  barackobama thank incredible grace leadership ...  \n2   11/1/2017 2:52                                          life goal  \n3   11/1/2017 2:44                                              right  \n4   10/1/2017 5:22                                        sister doin  ",
      "text/html": "<div>\n<style scoped>\n    .dataframe tbody tr th:only-of-type {\n        vertical-align: middle;\n    }\n\n    .dataframe tbody tr th {\n        vertical-align: top;\n    }\n\n    .dataframe thead th {\n        text-align: right;\n    }\n</style>\n<table border=\"1\" class=\"dataframe\">\n  <thead>\n    <tr style=\"text-align: right;\">\n      <th></th>\n      <th>author</th>\n      <th>content</th>\n      <th>date_time</th>\n      <th>clean_content</th>\n    </tr>\n  </thead>\n  <tbody>\n    <tr>\n      <th>0</th>\n      <td>katyperry</td>\n      <td>Is history repeating itself...?#DONTNORMALIZEH...</td>\n      <td>12/1/2017 19:52</td>\n      <td>history repeat dontnormalizehate</td>\n    </tr>\n    <tr>\n      <th>1</th>\n      <td>katyperry</td>\n      <td>@barackobama Thank you for your incredible gra...</td>\n      <td>11/1/2017 8:38</td>\n      <td>barackobama thank incredible grace leadership ...</td>\n    </tr>\n    <tr>\n      <th>2</th>\n      <td>katyperry</td>\n      <td>Life goals. https://t.co/XIn1qKMKQl</td>\n      <td>11/1/2017 2:52</td>\n      <td>life goal</td>\n    </tr>\n    <tr>\n      <th>3</th>\n      <td>katyperry</td>\n      <td>Me right now 🙏🏻 https://t.co/gW55C1wrwd</td>\n      <td>11/1/2017 2:44</td>\n      <td>right</td>\n    </tr>\n    <tr>\n      <th>4</th>\n      <td>katyperry</td>\n      <td>SISTERS ARE DOIN' IT FOR THEMSELVES! 🙌🏻💪🏻❤️ ht...</td>\n      <td>10/1/2017 5:22</td>\n      <td>sister doin</td>\n    </tr>\n  </tbody>\n</table>\n</div>"
     },
     "execution_count": 4,
     "metadata": {},
     "output_type": "execute_result"
    }
   ],
   "source": [
    "df=pd.read_csv('data/tweets_cleaned.csv')\n",
    "df.head()"
   ],
   "metadata": {
    "collapsed": false,
    "pycharm": {
     "name": "#%%\n"
    }
   }
  },
  {
   "cell_type": "markdown",
   "source": [
    "# <font color=2d5db5>**Word Matcher**"
   ],
   "metadata": {
    "collapsed": false,
    "pycharm": {
     "name": "#%% md\n"
    }
   }
  },
  {
   "cell_type": "code",
   "execution_count": 5,
   "outputs": [
    {
     "name": "stderr",
     "output_type": "stream",
     "text": [
      "Processing: 100%|██████████| 51482/51482 [03:10<00:00, 270.67text/s]\n"
     ]
    },
    {
     "data": {
      "text/plain": "          author  \\\n41     katyperry   \n50     katyperry   \n185    katyperry   \n239    katyperry   \n246    katyperry   \n...          ...   \n51240   ddlovato   \n51310   ddlovato   \n51380   ddlovato   \n51415   ddlovato   \n51419   ddlovato   \n\n                                                                                                                                            content  \\\n41                                   Thank you to the men and women protecting Freedom, Liberty, and Equality for all. 🙏🏼🇺🇸 https://t.co/0LcB7VYDrx   \n50                                                                                                                              POWER TO THE PEOPLE   \n185    Difficult subjects I'd like to hear thoughts on tonight are: national security, climate change, excess incarceration (aka modern slavery)...   \n239                                                       TOMORROW, I USE MY BODY AS CLICK BAIT TO HELP CHANGE THE WORLD 👊🏼 https://t.co/1a2GMm6PMi   \n246                                                                             . @akaruikaty cause you can't have fun if you don't feel safe bb 💁🏻   \n...                                                                                                                                             ...   \n51240                  Cause I'm dreaming of you tonight..... 💔 20 yrs ago today the world lost an incredibly talented and… https://t.co/tEuFWHKwFl   \n51310                                                                 Wow... My mind is blown. Civil war in the studio right now. #blueandblack 💙◾️   \n51380  What I can say is this will be my best work yet... Already game changing music and I've barely scratched the surface on creating this album.   \n51415  I joined @MentalHealthAm to fight in the open 4 #mentalhealth by telling my story and helping to change perspectives: http://t.co/TgUr2vTbjl   \n51419                Posting my #NoMakeupMonday selfie for mommy even though I don't wear makeup... Cause I'm a boy.... And… http://t.co/V3SWtOaBMz   \n\n              date_time  \\\n41     11/11/2016 19:55   \n50       9/11/2016 8:10   \n185     9/10/2016 23:49   \n239    26/09/2016 21:03   \n246    25/09/2016 06:44   \n...                 ...   \n51240     1/4/2015 4:56   \n51310  27/02/2015 02:57   \n51380    8/2/2015 11:13   \n51415  28/01/2015 18:46   \n51419  27/01/2015 00:53   \n\n                                                                                                                    clean_content  \\\n41                                                                               thank man woman protect freedom liberty equality   \n50                                                                                                                   power people   \n185    difficult subject would like hear thought tonight national security climate change excess incarceration aka modern slavery   \n239                                                                                tomorrow use body click bait help change world   \n246                                                                                             akaruikaty cause fun feel safe bb   \n...                                                                                                                           ...   \n51240                                                             cause dream tonight yr ago today world lose incredibly talented   \n51310                                                                           wow mind blow civil war studio right blueandblack   \n51380                                             say good work yet already game change music barely scratch surface create album   \n51415                                              join mentalhealtham fight open mentalhealth tell story help change perspective   \n51419                                                          post nomakeupmonday selfie mommy even though wear makeup cause boy   \n\n       token_matches  \n41              True  \n50              True  \n185             True  \n239             True  \n246             True  \n...              ...  \n51240           True  \n51310           True  \n51380           True  \n51415           True  \n51419           True  \n\n[742 rows x 5 columns]",
      "text/html": "<div>\n<style scoped>\n    .dataframe tbody tr th:only-of-type {\n        vertical-align: middle;\n    }\n\n    .dataframe tbody tr th {\n        vertical-align: top;\n    }\n\n    .dataframe thead th {\n        text-align: right;\n    }\n</style>\n<table border=\"1\" class=\"dataframe\">\n  <thead>\n    <tr style=\"text-align: right;\">\n      <th></th>\n      <th>author</th>\n      <th>content</th>\n      <th>date_time</th>\n      <th>clean_content</th>\n      <th>token_matches</th>\n    </tr>\n  </thead>\n  <tbody>\n    <tr>\n      <th>41</th>\n      <td>katyperry</td>\n      <td>Thank you to the men and women protecting Freedom, Liberty, and Equality for all. 🙏🏼🇺🇸 https://t.co/0LcB7VYDrx</td>\n      <td>11/11/2016 19:55</td>\n      <td>thank man woman protect freedom liberty equality</td>\n      <td>True</td>\n    </tr>\n    <tr>\n      <th>50</th>\n      <td>katyperry</td>\n      <td>POWER TO THE PEOPLE</td>\n      <td>9/11/2016 8:10</td>\n      <td>power people</td>\n      <td>True</td>\n    </tr>\n    <tr>\n      <th>185</th>\n      <td>katyperry</td>\n      <td>Difficult subjects I'd like to hear thoughts on tonight are: national security, climate change, excess incarceration (aka modern slavery)...</td>\n      <td>9/10/2016 23:49</td>\n      <td>difficult subject would like hear thought tonight national security climate change excess incarceration aka modern slavery</td>\n      <td>True</td>\n    </tr>\n    <tr>\n      <th>239</th>\n      <td>katyperry</td>\n      <td>TOMORROW, I USE MY BODY AS CLICK BAIT TO HELP CHANGE THE WORLD 👊🏼 https://t.co/1a2GMm6PMi</td>\n      <td>26/09/2016 21:03</td>\n      <td>tomorrow use body click bait help change world</td>\n      <td>True</td>\n    </tr>\n    <tr>\n      <th>246</th>\n      <td>katyperry</td>\n      <td>. @akaruikaty cause you can't have fun if you don't feel safe bb 💁🏻</td>\n      <td>25/09/2016 06:44</td>\n      <td>akaruikaty cause fun feel safe bb</td>\n      <td>True</td>\n    </tr>\n    <tr>\n      <th>...</th>\n      <td>...</td>\n      <td>...</td>\n      <td>...</td>\n      <td>...</td>\n      <td>...</td>\n    </tr>\n    <tr>\n      <th>51240</th>\n      <td>ddlovato</td>\n      <td>Cause I'm dreaming of you tonight..... 💔 20 yrs ago today the world lost an incredibly talented and… https://t.co/tEuFWHKwFl</td>\n      <td>1/4/2015 4:56</td>\n      <td>cause dream tonight yr ago today world lose incredibly talented</td>\n      <td>True</td>\n    </tr>\n    <tr>\n      <th>51310</th>\n      <td>ddlovato</td>\n      <td>Wow... My mind is blown. Civil war in the studio right now. #blueandblack 💙◾️</td>\n      <td>27/02/2015 02:57</td>\n      <td>wow mind blow civil war studio right blueandblack</td>\n      <td>True</td>\n    </tr>\n    <tr>\n      <th>51380</th>\n      <td>ddlovato</td>\n      <td>What I can say is this will be my best work yet... Already game changing music and I've barely scratched the surface on creating this album.</td>\n      <td>8/2/2015 11:13</td>\n      <td>say good work yet already game change music barely scratch surface create album</td>\n      <td>True</td>\n    </tr>\n    <tr>\n      <th>51415</th>\n      <td>ddlovato</td>\n      <td>I joined @MentalHealthAm to fight in the open 4 #mentalhealth by telling my story and helping to change perspectives: http://t.co/TgUr2vTbjl</td>\n      <td>28/01/2015 18:46</td>\n      <td>join mentalhealtham fight open mentalhealth tell story help change perspective</td>\n      <td>True</td>\n    </tr>\n    <tr>\n      <th>51419</th>\n      <td>ddlovato</td>\n      <td>Posting my #NoMakeupMonday selfie for mommy even though I don't wear makeup... Cause I'm a boy.... And… http://t.co/V3SWtOaBMz</td>\n      <td>27/01/2015 00:53</td>\n      <td>post nomakeupmonday selfie mommy even though wear makeup cause boy</td>\n      <td>True</td>\n    </tr>\n  </tbody>\n</table>\n<p>742 rows × 5 columns</p>\n</div>"
     },
     "execution_count": 5,
     "metadata": {},
     "output_type": "execute_result"
    }
   ],
   "source": [
    "import pandas as pd\n",
    "import spacy\n",
    "from spacy.matcher import Matcher\n",
    "from tqdm import tqdm\n",
    "\n",
    "nlp = spacy.load(\"en_core_web_sm\") # Load the language model\n",
    "matcher = Matcher(nlp.vocab) # Initialize the matcher\n",
    "\n",
    "# Creating the pattern\n",
    "pattern = [[\n",
    "    {\"LOWER\": {'IN': [\"cause\", \"movement\",\"freedom\",\"change\",\"violence\",\"gun\",\"climate\",\"racism\",\"justice\",\"power\",\"poverty\",\"prayers\",\"hate\",\"war\",\"peace\"]}},\n",
    "    {'POS': {'IN': ['NOUN', 'ADJ', 'ADV']}}\n",
    "]]\n",
    "matcher.add('general_cause_words', pattern)\n",
    "\n",
    "matches = []\n",
    "for text in tqdm(df['clean_content'], desc='Processing', unit='text'): #running matcher and captureing boolean results\n",
    "    doc = nlp(text)\n",
    "    text_matches = any(matcher(doc))\n",
    "    matches.append(text_matches)\n",
    "\n",
    "df['token_matches']=matches\n",
    "matched_df = df[matches] # Filter the dataframe\n",
    "pd.set_option('display.max_colwidth', None) # Remove column width\n",
    "matched_df # Show filtered dataframe"
   ],
   "metadata": {
    "collapsed": false,
    "pycharm": {
     "name": "#%%\n"
    }
   }
  },
  {
   "cell_type": "code",
   "execution_count": 6,
   "outputs": [],
   "source": [
    "#saving again\n",
    "df.to_csv('data/tweets_token_matches.csv', index=False)"
   ],
   "metadata": {
    "collapsed": false,
    "pycharm": {
     "name": "#%%\n"
    }
   }
  },
  {
   "cell_type": "markdown",
   "source": [
    "# <font color=2d5db5>**Phrase Matcher**"
   ],
   "metadata": {
    "collapsed": false,
    "pycharm": {
     "name": "#%% md\n"
    }
   }
  },
  {
   "cell_type": "code",
   "execution_count": 7,
   "outputs": [],
   "source": [
    "df=pd.read_csv('data/tweets_token_matches.csv')"
   ],
   "metadata": {
    "collapsed": false,
    "pycharm": {
     "name": "#%%\n"
    }
   }
  },
  {
   "cell_type": "code",
   "execution_count": 8,
   "outputs": [
    {
     "name": "stderr",
     "output_type": "stream",
     "text": [
      "Processing: 100%|██████████| 51482/51482 [03:05<00:00, 277.06text/s]\n"
     ]
    },
    {
     "data": {
      "text/plain": "            author  \\\n50       katyperry   \n7040   BarackObama   \n7588   BarackObama   \n8026   BarackObama   \n8102   BarackObama   \n8425   BarackObama   \n8481   BarackObama   \n8789   BarackObama   \n14078      YouTube   \n15271      YouTube   \n15694     ladygaga   \n15695     ladygaga   \n15696     ladygaga   \n15842     ladygaga   \n16088     ladygaga   \n16107     ladygaga   \n22345      Twitter   \n\n                                                                                                                                              content  \\\n50                                                                                                                                POWER TO THE PEOPLE   \n7040                      Don't let misinformation go unchallenged. Join the @OFA Truth Team and get the facts to fight back: https://t.co/Vs5CT07FZm   \n7588     Extreme voices in Congress have tried to dismantle #Obamacare more than 60 times—join the team that's fighting back: https://t.co/6gxO4bMTwA   \n8026                               Be part of the team fighting back against misinformation with facts: http://t.co/icg1JZ1EUE http://t.co/loxbvboLwq   \n8102                                            Be part of the @OFATruthTeam—and fight back with facts: http://t.co/Euq5nih3Rn http://t.co/HiU7jQ5m93   \n8425        Legislators across the country are consistently attacking women's rights. It's time to fight back: http://t.co/ce1vuZPBdG #StandWithWomen   \n8481          Add your name to join the team fighting back against climate change denial: http://t.co/JNEXVHyT0q #ActOnClimate http://t.co/Hbu3cZcUgR   \n8789                                    \"With effort, we can roll back poverty and the roadblocks to opportunity.\" —President Obama #Selma50 #MarchOn   \n14078     Creators respond to the shootings of Alton Sterling and Philando Castile. https://t.co/m90VwXFp1O #BlackLivesMatter https://t.co/LeUp1inqmV   \n15271         #BlackLivesMatter activist @deray talks racism and white privilege with @StephenAtHome. https://t.co/6JjKYv1BBd https://t.co/Lh5Vmx3bzI   \n15694     In a room full of hope, we will be heard. @deray #blacklivesmatter Stand up for kindness, equality, and love. ❤️🇺🇸… https://t.co/IkdvAleK0M   \n15695     In a room full of hope, we will be heard. Nothing can stop us. With @deray #blacklivesmatter Stand up for kindness, equality, and love.❤️🇺🇸   \n15696     In a room full of hope, we will be heard.  Nothing can stop us. @iamderay #blacklivesmatter Stand up for kindness,… https://t.co/yiQkMc2OXH   \n15842   @joncaramanica I'll be performing that song tonight in honor of \\n#BlackLivesMatter as I'm honored by YOUR publicati… https://t.co/eb73rEZRsX   \n16088       Paul O'neal. #BlackLivesMatter How many children must we lose b4 our justice system does something? #Chicago #USA https://t.co/DvvAxMJSeI   \n16107  I pray for the black community who suffer fear of prejudice, violence &amp; injustice. We need lawfulness, fairness, unity. #BlackLivesMatters   \n22345               Watch as Twitter shifts from “#BlackLivesMatter” to “#ICantBreathe” — and back again, via @washingtonpost: http://t.co/Uxy08KLsF3   \n\n              date_time  \\\n50       9/11/2016 8:10   \n7040    11/8/2016 17:34   \n7588   22/01/2016 21:56   \n8026   15/09/2015 15:50   \n8102   19/08/2015 16:23   \n8425   19/06/2015 18:30   \n8481   29/05/2015 21:22   \n8789     7/3/2015 20:49   \n14078    8/7/2016 20:35   \n15271  20/01/2016 23:00   \n15694    9/11/2016 5:39   \n15695    9/11/2016 5:37   \n15696    9/11/2016 5:35   \n15842  20/10/2016 00:18   \n16088    7/8/2016 20:13   \n16107  21/07/2016 03:20   \n22345   5/12/2014 23:41   \n\n                                                                                                       clean_content  \\\n50                                                                                                      power people   \n7040                                      let misinformation go unchallenged join ofa truth team get fact fight back   \n7588                                        extreme voice congress try dismantle obamacare timesjoin team fight back   \n8026                                                                        part team fight back misinformation fact   \n8102                                                                            part ofatruthteamand fight back fact   \n8425                       legislator across country consistently attack womens right time fight back standwithwoman   \n8481                                                add name join team fight back climate change denial actonclimate   \n8789                                    effort roll back poverty roadblock opportunity president obama selma marchon   \n14078                                      creator respond shooting alton sterling philando castile blacklivesmatter   \n15271                                      blacklivesmatter activist deray talk racism white privilege stephenathome   \n15694                                        room full hope hear deray blacklivesmatter stand kindness equality love   \n15695                           room full hope hear nothing stop deray blacklivesmatter stand kindness equality love   \n15696                                      room full hope hear nothing stop iamderay blacklivesmatter stand kindness   \n15842                                      joncaramanica perform song tonight honor blacklivesmatter honor publicati   \n16088                        paul oneal blacklivesmatter many child must lose b justice system something chicago usa   \n16107  pray black community suffer fear prejudice violence injustice need lawfulness fairness unity blacklivesmatter   \n22345                                      watch twitter shift blacklivesmatter icantbreathe back via washingtonpost   \n\n       token_matches  phrase_matches  \n50              True            True  \n7040           False            True  \n7588           False            True  \n8026           False            True  \n8102           False            True  \n8425           False            True  \n8481            True            True  \n8789            True            True  \n14078          False            True  \n15271          False            True  \n15694          False            True  \n15695          False            True  \n15696          False            True  \n15842          False            True  \n16088           True            True  \n16107           True            True  \n22345          False            True  ",
      "text/html": "<div>\n<style scoped>\n    .dataframe tbody tr th:only-of-type {\n        vertical-align: middle;\n    }\n\n    .dataframe tbody tr th {\n        vertical-align: top;\n    }\n\n    .dataframe thead th {\n        text-align: right;\n    }\n</style>\n<table border=\"1\" class=\"dataframe\">\n  <thead>\n    <tr style=\"text-align: right;\">\n      <th></th>\n      <th>author</th>\n      <th>content</th>\n      <th>date_time</th>\n      <th>clean_content</th>\n      <th>token_matches</th>\n      <th>phrase_matches</th>\n    </tr>\n  </thead>\n  <tbody>\n    <tr>\n      <th>50</th>\n      <td>katyperry</td>\n      <td>POWER TO THE PEOPLE</td>\n      <td>9/11/2016 8:10</td>\n      <td>power people</td>\n      <td>True</td>\n      <td>True</td>\n    </tr>\n    <tr>\n      <th>7040</th>\n      <td>BarackObama</td>\n      <td>Don't let misinformation go unchallenged. Join the @OFA Truth Team and get the facts to fight back: https://t.co/Vs5CT07FZm</td>\n      <td>11/8/2016 17:34</td>\n      <td>let misinformation go unchallenged join ofa truth team get fact fight back</td>\n      <td>False</td>\n      <td>True</td>\n    </tr>\n    <tr>\n      <th>7588</th>\n      <td>BarackObama</td>\n      <td>Extreme voices in Congress have tried to dismantle #Obamacare more than 60 times—join the team that's fighting back: https://t.co/6gxO4bMTwA</td>\n      <td>22/01/2016 21:56</td>\n      <td>extreme voice congress try dismantle obamacare timesjoin team fight back</td>\n      <td>False</td>\n      <td>True</td>\n    </tr>\n    <tr>\n      <th>8026</th>\n      <td>BarackObama</td>\n      <td>Be part of the team fighting back against misinformation with facts: http://t.co/icg1JZ1EUE http://t.co/loxbvboLwq</td>\n      <td>15/09/2015 15:50</td>\n      <td>part team fight back misinformation fact</td>\n      <td>False</td>\n      <td>True</td>\n    </tr>\n    <tr>\n      <th>8102</th>\n      <td>BarackObama</td>\n      <td>Be part of the @OFATruthTeam—and fight back with facts: http://t.co/Euq5nih3Rn http://t.co/HiU7jQ5m93</td>\n      <td>19/08/2015 16:23</td>\n      <td>part ofatruthteamand fight back fact</td>\n      <td>False</td>\n      <td>True</td>\n    </tr>\n    <tr>\n      <th>8425</th>\n      <td>BarackObama</td>\n      <td>Legislators across the country are consistently attacking women's rights. It's time to fight back: http://t.co/ce1vuZPBdG #StandWithWomen</td>\n      <td>19/06/2015 18:30</td>\n      <td>legislator across country consistently attack womens right time fight back standwithwoman</td>\n      <td>False</td>\n      <td>True</td>\n    </tr>\n    <tr>\n      <th>8481</th>\n      <td>BarackObama</td>\n      <td>Add your name to join the team fighting back against climate change denial: http://t.co/JNEXVHyT0q #ActOnClimate http://t.co/Hbu3cZcUgR</td>\n      <td>29/05/2015 21:22</td>\n      <td>add name join team fight back climate change denial actonclimate</td>\n      <td>True</td>\n      <td>True</td>\n    </tr>\n    <tr>\n      <th>8789</th>\n      <td>BarackObama</td>\n      <td>\"With effort, we can roll back poverty and the roadblocks to opportunity.\" —President Obama #Selma50 #MarchOn</td>\n      <td>7/3/2015 20:49</td>\n      <td>effort roll back poverty roadblock opportunity president obama selma marchon</td>\n      <td>True</td>\n      <td>True</td>\n    </tr>\n    <tr>\n      <th>14078</th>\n      <td>YouTube</td>\n      <td>Creators respond to the shootings of Alton Sterling and Philando Castile. https://t.co/m90VwXFp1O #BlackLivesMatter https://t.co/LeUp1inqmV</td>\n      <td>8/7/2016 20:35</td>\n      <td>creator respond shooting alton sterling philando castile blacklivesmatter</td>\n      <td>False</td>\n      <td>True</td>\n    </tr>\n    <tr>\n      <th>15271</th>\n      <td>YouTube</td>\n      <td>#BlackLivesMatter activist @deray talks racism and white privilege with @StephenAtHome. https://t.co/6JjKYv1BBd https://t.co/Lh5Vmx3bzI</td>\n      <td>20/01/2016 23:00</td>\n      <td>blacklivesmatter activist deray talk racism white privilege stephenathome</td>\n      <td>False</td>\n      <td>True</td>\n    </tr>\n    <tr>\n      <th>15694</th>\n      <td>ladygaga</td>\n      <td>In a room full of hope, we will be heard. @deray #blacklivesmatter Stand up for kindness, equality, and love. ❤️🇺🇸… https://t.co/IkdvAleK0M</td>\n      <td>9/11/2016 5:39</td>\n      <td>room full hope hear deray blacklivesmatter stand kindness equality love</td>\n      <td>False</td>\n      <td>True</td>\n    </tr>\n    <tr>\n      <th>15695</th>\n      <td>ladygaga</td>\n      <td>In a room full of hope, we will be heard. Nothing can stop us. With @deray #blacklivesmatter Stand up for kindness, equality, and love.❤️🇺🇸</td>\n      <td>9/11/2016 5:37</td>\n      <td>room full hope hear nothing stop deray blacklivesmatter stand kindness equality love</td>\n      <td>False</td>\n      <td>True</td>\n    </tr>\n    <tr>\n      <th>15696</th>\n      <td>ladygaga</td>\n      <td>In a room full of hope, we will be heard.  Nothing can stop us. @iamderay #blacklivesmatter Stand up for kindness,… https://t.co/yiQkMc2OXH</td>\n      <td>9/11/2016 5:35</td>\n      <td>room full hope hear nothing stop iamderay blacklivesmatter stand kindness</td>\n      <td>False</td>\n      <td>True</td>\n    </tr>\n    <tr>\n      <th>15842</th>\n      <td>ladygaga</td>\n      <td>@joncaramanica I'll be performing that song tonight in honor of \\n#BlackLivesMatter as I'm honored by YOUR publicati… https://t.co/eb73rEZRsX</td>\n      <td>20/10/2016 00:18</td>\n      <td>joncaramanica perform song tonight honor blacklivesmatter honor publicati</td>\n      <td>False</td>\n      <td>True</td>\n    </tr>\n    <tr>\n      <th>16088</th>\n      <td>ladygaga</td>\n      <td>Paul O'neal. #BlackLivesMatter How many children must we lose b4 our justice system does something? #Chicago #USA https://t.co/DvvAxMJSeI</td>\n      <td>7/8/2016 20:13</td>\n      <td>paul oneal blacklivesmatter many child must lose b justice system something chicago usa</td>\n      <td>True</td>\n      <td>True</td>\n    </tr>\n    <tr>\n      <th>16107</th>\n      <td>ladygaga</td>\n      <td>I pray for the black community who suffer fear of prejudice, violence &amp;amp; injustice. We need lawfulness, fairness, unity. #BlackLivesMatters</td>\n      <td>21/07/2016 03:20</td>\n      <td>pray black community suffer fear prejudice violence injustice need lawfulness fairness unity blacklivesmatter</td>\n      <td>True</td>\n      <td>True</td>\n    </tr>\n    <tr>\n      <th>22345</th>\n      <td>Twitter</td>\n      <td>Watch as Twitter shifts from “#BlackLivesMatter” to “#ICantBreathe” — and back again, via @washingtonpost: http://t.co/Uxy08KLsF3</td>\n      <td>5/12/2014 23:41</td>\n      <td>watch twitter shift blacklivesmatter icantbreathe back via washingtonpost</td>\n      <td>False</td>\n      <td>True</td>\n    </tr>\n  </tbody>\n</table>\n</div>"
     },
     "execution_count": 8,
     "metadata": {},
     "output_type": "execute_result"
    }
   ],
   "source": [
    "import spacy\n",
    "from spacy.matcher import PhraseMatcher\n",
    "nlp = spacy.load(\"en_core_web_sm\")\n",
    "p_matcher = PhraseMatcher(nlp.vocab, attr='LOWER')\n",
    "\n",
    "# the list containing the pharses to be matched\n",
    "pattern = [nlp('power people'),\n",
    "                  nlp('roll back poverty'),\n",
    "                  nlp('in your prayers'),\n",
    "                  nlp('blacklivesmatter'),\n",
    "                  nlp('rise up'),\n",
    "                  nlp('unite against'),\n",
    "                  nlp('fight against'),\n",
    "                  nlp('fight back')]\n",
    "\n",
    "# add the patterns to the matcher object without any callbacks\n",
    "p_matcher.add(\"Phrase Matching\", pattern)\n",
    "\n",
    "matches = []\n",
    "for text in tqdm(df['clean_content'], desc='Processing', unit='text'): #running matcher and captureing boolean results\n",
    "    doc = nlp(text)\n",
    "    text_matches = any(p_matcher(doc))\n",
    "    matches.append(text_matches)\n",
    "\n",
    "df['phrase_matches']=matches #adding matched boolean data\n",
    "matched_df = df[matches] # Filter the dataframe\n",
    "pd.set_option('display.max_colwidth', None) # Remove column width\n",
    "matched_df # Show filtered dataframe\n"
   ],
   "metadata": {
    "collapsed": false,
    "pycharm": {
     "name": "#%%\n"
    }
   }
  },
  {
   "cell_type": "code",
   "execution_count": 9,
   "outputs": [
    {
     "name": "stdout",
     "output_type": "stream",
     "text": [
      "Matched phrases: ['power people']\n",
      "Matched phrases: ['fight back']\n",
      "Matched phrases: ['fight back']\n",
      "Matched phrases: ['fight back']\n",
      "Matched phrases: ['fight back']\n",
      "Matched phrases: ['fight back']\n",
      "Matched phrases: ['fight back']\n",
      "Matched phrases: ['roll back poverty']\n",
      "Matched phrases: ['blacklivesmatter']\n",
      "Matched phrases: ['blacklivesmatter']\n",
      "Matched phrases: ['blacklivesmatter']\n",
      "Matched phrases: ['blacklivesmatter']\n",
      "Matched phrases: ['blacklivesmatter']\n",
      "Matched phrases: ['blacklivesmatter']\n",
      "Matched phrases: ['blacklivesmatter']\n",
      "Matched phrases: ['blacklivesmatter']\n",
      "Matched phrases: ['blacklivesmatter']\n"
     ]
    },
    {
     "data": {
      "text/plain": "            author  \\\n50       katyperry   \n7040   BarackObama   \n7588   BarackObama   \n8026   BarackObama   \n8102   BarackObama   \n8425   BarackObama   \n8481   BarackObama   \n8789   BarackObama   \n14078      YouTube   \n15271      YouTube   \n15694     ladygaga   \n15695     ladygaga   \n15696     ladygaga   \n15842     ladygaga   \n16088     ladygaga   \n16107     ladygaga   \n22345      Twitter   \n\n                                                                                                                                              content  \\\n50                                                                                                                                POWER TO THE PEOPLE   \n7040                      Don't let misinformation go unchallenged. Join the @OFA Truth Team and get the facts to fight back: https://t.co/Vs5CT07FZm   \n7588     Extreme voices in Congress have tried to dismantle #Obamacare more than 60 times—join the team that's fighting back: https://t.co/6gxO4bMTwA   \n8026                               Be part of the team fighting back against misinformation with facts: http://t.co/icg1JZ1EUE http://t.co/loxbvboLwq   \n8102                                            Be part of the @OFATruthTeam—and fight back with facts: http://t.co/Euq5nih3Rn http://t.co/HiU7jQ5m93   \n8425        Legislators across the country are consistently attacking women's rights. It's time to fight back: http://t.co/ce1vuZPBdG #StandWithWomen   \n8481          Add your name to join the team fighting back against climate change denial: http://t.co/JNEXVHyT0q #ActOnClimate http://t.co/Hbu3cZcUgR   \n8789                                    \"With effort, we can roll back poverty and the roadblocks to opportunity.\" —President Obama #Selma50 #MarchOn   \n14078     Creators respond to the shootings of Alton Sterling and Philando Castile. https://t.co/m90VwXFp1O #BlackLivesMatter https://t.co/LeUp1inqmV   \n15271         #BlackLivesMatter activist @deray talks racism and white privilege with @StephenAtHome. https://t.co/6JjKYv1BBd https://t.co/Lh5Vmx3bzI   \n15694     In a room full of hope, we will be heard. @deray #blacklivesmatter Stand up for kindness, equality, and love. ❤️🇺🇸… https://t.co/IkdvAleK0M   \n15695     In a room full of hope, we will be heard. Nothing can stop us. With @deray #blacklivesmatter Stand up for kindness, equality, and love.❤️🇺🇸   \n15696     In a room full of hope, we will be heard.  Nothing can stop us. @iamderay #blacklivesmatter Stand up for kindness,… https://t.co/yiQkMc2OXH   \n15842   @joncaramanica I'll be performing that song tonight in honor of \\n#BlackLivesMatter as I'm honored by YOUR publicati… https://t.co/eb73rEZRsX   \n16088       Paul O'neal. #BlackLivesMatter How many children must we lose b4 our justice system does something? #Chicago #USA https://t.co/DvvAxMJSeI   \n16107  I pray for the black community who suffer fear of prejudice, violence &amp; injustice. We need lawfulness, fairness, unity. #BlackLivesMatters   \n22345               Watch as Twitter shifts from “#BlackLivesMatter” to “#ICantBreathe” — and back again, via @washingtonpost: http://t.co/Uxy08KLsF3   \n\n              date_time  \\\n50       9/11/2016 8:10   \n7040    11/8/2016 17:34   \n7588   22/01/2016 21:56   \n8026   15/09/2015 15:50   \n8102   19/08/2015 16:23   \n8425   19/06/2015 18:30   \n8481   29/05/2015 21:22   \n8789     7/3/2015 20:49   \n14078    8/7/2016 20:35   \n15271  20/01/2016 23:00   \n15694    9/11/2016 5:39   \n15695    9/11/2016 5:37   \n15696    9/11/2016 5:35   \n15842  20/10/2016 00:18   \n16088    7/8/2016 20:13   \n16107  21/07/2016 03:20   \n22345   5/12/2014 23:41   \n\n                                                                                                       clean_content  \\\n50                                                                                                      power people   \n7040                                      let misinformation go unchallenged join ofa truth team get fact fight back   \n7588                                        extreme voice congress try dismantle obamacare timesjoin team fight back   \n8026                                                                        part team fight back misinformation fact   \n8102                                                                            part ofatruthteamand fight back fact   \n8425                       legislator across country consistently attack womens right time fight back standwithwoman   \n8481                                                add name join team fight back climate change denial actonclimate   \n8789                                    effort roll back poverty roadblock opportunity president obama selma marchon   \n14078                                      creator respond shooting alton sterling philando castile blacklivesmatter   \n15271                                      blacklivesmatter activist deray talk racism white privilege stephenathome   \n15694                                        room full hope hear deray blacklivesmatter stand kindness equality love   \n15695                           room full hope hear nothing stop deray blacklivesmatter stand kindness equality love   \n15696                                      room full hope hear nothing stop iamderay blacklivesmatter stand kindness   \n15842                                      joncaramanica perform song tonight honor blacklivesmatter honor publicati   \n16088                        paul oneal blacklivesmatter many child must lose b justice system something chicago usa   \n16107  pray black community suffer fear prejudice violence injustice need lawfulness fairness unity blacklivesmatter   \n22345                                      watch twitter shift blacklivesmatter icantbreathe back via washingtonpost   \n\n       token_matches  phrase_matches  \n50              True            True  \n7040           False            True  \n7588           False            True  \n8026           False            True  \n8102           False            True  \n8425           False            True  \n8481            True            True  \n8789            True            True  \n14078          False            True  \n15271          False            True  \n15694          False            True  \n15695          False            True  \n15696          False            True  \n15842          False            True  \n16088           True            True  \n16107           True            True  \n22345          False            True  ",
      "text/html": "<div>\n<style scoped>\n    .dataframe tbody tr th:only-of-type {\n        vertical-align: middle;\n    }\n\n    .dataframe tbody tr th {\n        vertical-align: top;\n    }\n\n    .dataframe thead th {\n        text-align: right;\n    }\n</style>\n<table border=\"1\" class=\"dataframe\">\n  <thead>\n    <tr style=\"text-align: right;\">\n      <th></th>\n      <th>author</th>\n      <th>content</th>\n      <th>date_time</th>\n      <th>clean_content</th>\n      <th>token_matches</th>\n      <th>phrase_matches</th>\n    </tr>\n  </thead>\n  <tbody>\n    <tr>\n      <th>50</th>\n      <td>katyperry</td>\n      <td>POWER TO THE PEOPLE</td>\n      <td>9/11/2016 8:10</td>\n      <td>power people</td>\n      <td>True</td>\n      <td>True</td>\n    </tr>\n    <tr>\n      <th>7040</th>\n      <td>BarackObama</td>\n      <td>Don't let misinformation go unchallenged. Join the @OFA Truth Team and get the facts to fight back: https://t.co/Vs5CT07FZm</td>\n      <td>11/8/2016 17:34</td>\n      <td>let misinformation go unchallenged join ofa truth team get fact fight back</td>\n      <td>False</td>\n      <td>True</td>\n    </tr>\n    <tr>\n      <th>7588</th>\n      <td>BarackObama</td>\n      <td>Extreme voices in Congress have tried to dismantle #Obamacare more than 60 times—join the team that's fighting back: https://t.co/6gxO4bMTwA</td>\n      <td>22/01/2016 21:56</td>\n      <td>extreme voice congress try dismantle obamacare timesjoin team fight back</td>\n      <td>False</td>\n      <td>True</td>\n    </tr>\n    <tr>\n      <th>8026</th>\n      <td>BarackObama</td>\n      <td>Be part of the team fighting back against misinformation with facts: http://t.co/icg1JZ1EUE http://t.co/loxbvboLwq</td>\n      <td>15/09/2015 15:50</td>\n      <td>part team fight back misinformation fact</td>\n      <td>False</td>\n      <td>True</td>\n    </tr>\n    <tr>\n      <th>8102</th>\n      <td>BarackObama</td>\n      <td>Be part of the @OFATruthTeam—and fight back with facts: http://t.co/Euq5nih3Rn http://t.co/HiU7jQ5m93</td>\n      <td>19/08/2015 16:23</td>\n      <td>part ofatruthteamand fight back fact</td>\n      <td>False</td>\n      <td>True</td>\n    </tr>\n    <tr>\n      <th>8425</th>\n      <td>BarackObama</td>\n      <td>Legislators across the country are consistently attacking women's rights. It's time to fight back: http://t.co/ce1vuZPBdG #StandWithWomen</td>\n      <td>19/06/2015 18:30</td>\n      <td>legislator across country consistently attack womens right time fight back standwithwoman</td>\n      <td>False</td>\n      <td>True</td>\n    </tr>\n    <tr>\n      <th>8481</th>\n      <td>BarackObama</td>\n      <td>Add your name to join the team fighting back against climate change denial: http://t.co/JNEXVHyT0q #ActOnClimate http://t.co/Hbu3cZcUgR</td>\n      <td>29/05/2015 21:22</td>\n      <td>add name join team fight back climate change denial actonclimate</td>\n      <td>True</td>\n      <td>True</td>\n    </tr>\n    <tr>\n      <th>8789</th>\n      <td>BarackObama</td>\n      <td>\"With effort, we can roll back poverty and the roadblocks to opportunity.\" —President Obama #Selma50 #MarchOn</td>\n      <td>7/3/2015 20:49</td>\n      <td>effort roll back poverty roadblock opportunity president obama selma marchon</td>\n      <td>True</td>\n      <td>True</td>\n    </tr>\n    <tr>\n      <th>14078</th>\n      <td>YouTube</td>\n      <td>Creators respond to the shootings of Alton Sterling and Philando Castile. https://t.co/m90VwXFp1O #BlackLivesMatter https://t.co/LeUp1inqmV</td>\n      <td>8/7/2016 20:35</td>\n      <td>creator respond shooting alton sterling philando castile blacklivesmatter</td>\n      <td>False</td>\n      <td>True</td>\n    </tr>\n    <tr>\n      <th>15271</th>\n      <td>YouTube</td>\n      <td>#BlackLivesMatter activist @deray talks racism and white privilege with @StephenAtHome. https://t.co/6JjKYv1BBd https://t.co/Lh5Vmx3bzI</td>\n      <td>20/01/2016 23:00</td>\n      <td>blacklivesmatter activist deray talk racism white privilege stephenathome</td>\n      <td>False</td>\n      <td>True</td>\n    </tr>\n    <tr>\n      <th>15694</th>\n      <td>ladygaga</td>\n      <td>In a room full of hope, we will be heard. @deray #blacklivesmatter Stand up for kindness, equality, and love. ❤️🇺🇸… https://t.co/IkdvAleK0M</td>\n      <td>9/11/2016 5:39</td>\n      <td>room full hope hear deray blacklivesmatter stand kindness equality love</td>\n      <td>False</td>\n      <td>True</td>\n    </tr>\n    <tr>\n      <th>15695</th>\n      <td>ladygaga</td>\n      <td>In a room full of hope, we will be heard. Nothing can stop us. With @deray #blacklivesmatter Stand up for kindness, equality, and love.❤️🇺🇸</td>\n      <td>9/11/2016 5:37</td>\n      <td>room full hope hear nothing stop deray blacklivesmatter stand kindness equality love</td>\n      <td>False</td>\n      <td>True</td>\n    </tr>\n    <tr>\n      <th>15696</th>\n      <td>ladygaga</td>\n      <td>In a room full of hope, we will be heard.  Nothing can stop us. @iamderay #blacklivesmatter Stand up for kindness,… https://t.co/yiQkMc2OXH</td>\n      <td>9/11/2016 5:35</td>\n      <td>room full hope hear nothing stop iamderay blacklivesmatter stand kindness</td>\n      <td>False</td>\n      <td>True</td>\n    </tr>\n    <tr>\n      <th>15842</th>\n      <td>ladygaga</td>\n      <td>@joncaramanica I'll be performing that song tonight in honor of \\n#BlackLivesMatter as I'm honored by YOUR publicati… https://t.co/eb73rEZRsX</td>\n      <td>20/10/2016 00:18</td>\n      <td>joncaramanica perform song tonight honor blacklivesmatter honor publicati</td>\n      <td>False</td>\n      <td>True</td>\n    </tr>\n    <tr>\n      <th>16088</th>\n      <td>ladygaga</td>\n      <td>Paul O'neal. #BlackLivesMatter How many children must we lose b4 our justice system does something? #Chicago #USA https://t.co/DvvAxMJSeI</td>\n      <td>7/8/2016 20:13</td>\n      <td>paul oneal blacklivesmatter many child must lose b justice system something chicago usa</td>\n      <td>True</td>\n      <td>True</td>\n    </tr>\n    <tr>\n      <th>16107</th>\n      <td>ladygaga</td>\n      <td>I pray for the black community who suffer fear of prejudice, violence &amp;amp; injustice. We need lawfulness, fairness, unity. #BlackLivesMatters</td>\n      <td>21/07/2016 03:20</td>\n      <td>pray black community suffer fear prejudice violence injustice need lawfulness fairness unity blacklivesmatter</td>\n      <td>True</td>\n      <td>True</td>\n    </tr>\n    <tr>\n      <th>22345</th>\n      <td>Twitter</td>\n      <td>Watch as Twitter shifts from “#BlackLivesMatter” to “#ICantBreathe” — and back again, via @washingtonpost: http://t.co/Uxy08KLsF3</td>\n      <td>5/12/2014 23:41</td>\n      <td>watch twitter shift blacklivesmatter icantbreathe back via washingtonpost</td>\n      <td>False</td>\n      <td>True</td>\n    </tr>\n  </tbody>\n</table>\n</div>"
     },
     "execution_count": 9,
     "metadata": {},
     "output_type": "execute_result"
    }
   ],
   "source": [
    "import spacy\n",
    "import pandas as pd\n",
    "from spacy.matcher import PhraseMatcher\n",
    "\n",
    "nlp = spacy.load(\"en_core_web_sm\")\n",
    "p_matcher = PhraseMatcher(nlp.vocab)\n",
    "\n",
    "def on_match(matcher, doc, i, matches):# callback function\n",
    "    matched_phrases = [doc[start:end].text for match_id, start, end in matches]\n",
    "    print(\"Matched phrases:\", matched_phrases)\n",
    "\n",
    "patterns = [nlp('power people'),\n",
    "            nlp('roll back poverty'),\n",
    "            nlp('your prayers'),\n",
    "            nlp('blacklivesmatter'),\n",
    "            nlp('rise up'),\n",
    "            nlp('unite against'),\n",
    "            nlp('fight against'),\n",
    "            nlp('fight back')]\n",
    "\n",
    "p_matcher.add(\"Phrase Matching\", patterns, on_match=on_match)\n",
    "\n",
    "matches = []\n",
    "for text in df['clean_content']: #cycling throught the df sereies and appling the phrase matcher\n",
    "    doc = nlp(text)\n",
    "    text_matches = p_matcher(doc)\n",
    "    matches.append(len(text_matches) > 0)\n",
    "\n",
    "matched_df = df[matches]#filter dataframe\n",
    "matched_df"
   ],
   "metadata": {
    "collapsed": false,
    "pycharm": {
     "name": "#%%\n"
    }
   }
  }
 ],
 "metadata": {
  "kernelspec": {
   "display_name": "Python 3",
   "language": "python",
   "name": "python3"
  },
  "language_info": {
   "codemirror_mode": {
    "name": "ipython",
    "version": 2
   },
   "file_extension": ".py",
   "mimetype": "text/x-python",
   "name": "python",
   "nbconvert_exporter": "python",
   "pygments_lexer": "ipython2",
   "version": "2.7.6"
  }
 },
 "nbformat": 4,
 "nbformat_minor": 0
}
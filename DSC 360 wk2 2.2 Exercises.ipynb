{
 "cells": [
  {
   "cell_type": "markdown",
   "source": [
    "# **Title: 2.2 Exercise**\n",
    "# **Author: Michael J. Montana**\n",
    "# **Date: 26 March 2023**\n",
    "# **Modified By: N/A**\n",
    "# **Description: Contains a function that:**\n",
    "- Requests server data using if/else statements for two variations of a get-request one without and one with a query string to search for a specifed key\n",
    "- Data is returned as a JSON object\n",
    "- Data is processed through a for loop and printed in the requested format"
   ],
   "metadata": {
    "collapsed": false,
    "pycharm": {
     "name": "#%% md\n"
    }
   }
  },
  {
   "cell_type": "code",
   "execution_count": 1,
   "outputs": [],
   "source": [
    "import requests"
   ],
   "metadata": {
    "collapsed": false,
    "pycharm": {
     "name": "#%%\n"
    }
   }
  },
  {
   "cell_type": "markdown",
   "source": [
    "# <font color=2d5db5>**1. Use the very simple Bored API (https://www.boredapi.com/documentation) and create a simple output of the return as a Python dictionary or JSON string. Be sure you refer to the Python API Tutorial: Getting Started with APIs, which is part of your required reading for the week.**"
   ],
   "metadata": {
    "collapsed": false,
    "pycharm": {
     "name": "#%% md\n"
    }
   }
  },
  {
   "cell_type": "code",
   "execution_count": 2,
   "outputs": [],
   "source": [
    "def actget(url,parameter):#needed practice with functions\n",
    "    if parameter=='': #using if else to easily answer 1 and 2\n",
    "        activity=requests.get(url).json() # sends a get to request data from a server --https://www.geeksforgeeks.org/get-post-requests-using-python/ & https://requests.readthedocs.io/en/latest/api/#requests.get\n",
    "        # response.json() returns a JSON object -- https://www.geeksforgeeks.org/response-json-python-requests/\n",
    "    else:\n",
    "        activity=requests.get(url,params = parameter).json() #params accompanies the url as a query string; using it to search for specified key -- https://requests.readthedocs.io/en/latest/api/#requests.get\n",
    "    for key,value in activity.items(): # using for loop and .items list off each key-value pairs; key and value are variables in the for statement\n",
    "        print(f'{key.capitalize():>15}: {value}') #prints each key-value pair using formatted string Literals (f-strings); this removes JSON format, curly bracers, quotation marks, and commas; :>15 right justifies the key variable 15 characters\n",
    "        # .item -- https://python-reference.readthedocs.io/en/latest/docs/dict/items.html;\n",
    "        # python dictionaries -- https://docs.python.org/3/tutorial/datastructures.html#dictionaries\n",
    "        # f-strings -- https://docs.python.org/3/reference/lexical_analysis.html#f-strings\n",
    "        # f-string formatting -- https://docs.python.org/3/library/string.html#format-specification-mini-language  & https://fstring.help/cheat/\n",
    "        # .capitalize() and other str formats -- https://docs.python.org/3/library/stdtypes.html#str.capitalize\n",
    "    return #closing the function"
   ],
   "metadata": {
    "collapsed": false,
    "pycharm": {
     "name": "#%%\n"
    }
   }
  },
  {
   "cell_type": "code",
   "execution_count": 3,
   "outputs": [
    {
     "name": "stdout",
     "output_type": "stream",
     "text": [
      "       Activity: Clean out your car\n",
      "           Type: busywork\n",
      "   Participants: 1\n",
      "          Price: 0\n",
      "           Link: \n",
      "            Key: 2896176\n",
      "  Accessibility: 0.08\n"
     ]
    }
   ],
   "source": [
    "url = 'http://www.boredapi.com/api/activity/' # url pulled from sample query section of bored api site\n",
    "parameter='' #clearing var for if statement\n",
    "actget(url,parameter) #calling function"
   ],
   "metadata": {
    "collapsed": false,
    "pycharm": {
     "name": "#%%\n"
    }
   }
  },
  {
   "cell_type": "markdown",
   "source": [
    "# <font color=2d5db5>**2. From the JSON (or dictionary) result, get key from the JSON (or dictionary). With that key, use the API to get a specific activity. Format your output showing each attribute of the activity separately with a label and the value. For example:**\n",
    "Activity: Organize your pantry\n",
    "Key: 3954882\n",
    "Link: \"\"\n",
    "Participants: 1\n",
    "Price: $0.00\n",
    "Type: Busywork\n",
    "Accessibility: 0"
   ],
   "metadata": {
    "collapsed": false,
    "pycharm": {
     "name": "#%% md\n"
    }
   }
  },
  {
   "cell_type": "code",
   "execution_count": 4,
   "outputs": [
    {
     "name": "stdout",
     "output_type": "stream",
     "text": [
      "       Activity: Learn a new programming language\n",
      "           Type: education\n",
      "   Participants: 1\n",
      "          Price: 0.1\n",
      "           Link: \n",
      "            Key: 5881028\n",
      "  Accessibility: 0.25\n"
     ]
    }
   ],
   "source": [
    "parameter= {\"key\" : 5881028} #setting var for use in query\n",
    "actget(url,parameter) #calling function"
   ],
   "metadata": {
    "collapsed": false,
    "pycharm": {
     "name": "#%%\n"
    }
   }
  }
 ],
 "metadata": {
  "kernelspec": {
   "display_name": "Python 3",
   "language": "python",
   "name": "python3"
  },
  "language_info": {
   "codemirror_mode": {
    "name": "ipython",
    "version": 2
   },
   "file_extension": ".py",
   "mimetype": "text/x-python",
   "name": "python",
   "nbconvert_exporter": "python",
   "pygments_lexer": "ipython2",
   "version": "2.7.6"
  }
 },
 "nbformat": 4,
 "nbformat_minor": 0
}
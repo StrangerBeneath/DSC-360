{
 "cells": [
  {
   "cell_type": "markdown",
   "source": [
    "# **Title: 5.2 Exercise**\n",
    "# **Author: Michael J. Montana**\n",
    "# **Date: 16 April 2023**\n",
    "# **Modified By: N/A**\n",
    "# **Description: Exploring Text Feature Engineering Models**"
   ],
   "metadata": {
    "collapsed": false,
    "pycharm": {
     "name": "#%% md\n"
    }
   }
  },
  {
   "cell_type": "code",
   "execution_count": 1,
   "outputs": [
    {
     "data": {
      "text/plain": "                Tweet Id                                          Tweet URL  \\\n0  \"1167429261210218497\"  https://twitter.com/animalhealthEU/status/1167...   \n1  \"1167375334670557185\"  https://twitter.com/PennyBrohnUK/status/116737...   \n2  \"1167237977615097861\"  https://twitter.com/lordbyronaf/status/1167237...   \n3  \"1167236897078480898\"  https://twitter.com/CountessDavis/status/11672...   \n4  \"1167228378191204353\"  https://twitter.com/Local12/status/11672283781...   \n\n  Tweet Posted Time (UTC)                                      Tweet_Content  \\\n0    30 Aug 2019 13:30:00  Pets change our lives &amp; become a part of o...   \n1    30 Aug 2019 09:55:43  Another spot of our #morethanmedicine bus in #...   \n2    30 Aug 2019 00:49:54  What a great team ⁦@HealthSourceOH⁩ ⁦@Local12⁩...   \n3    30 Aug 2019 00:45:37  What a great team ⁦@HealthSourceOH⁩ ⁦@Local12⁩...   \n4    30 Aug 2019 00:11:46  What a great team ⁦@HealthSourceOH⁩ ⁦@Local12⁩...   \n\n  Tweet_Type                Client  Retweets Received  Likes Received  \\\n0      Tweet  Twitter Ads Composer                  0               4   \n1      Tweet       Twitter Web App                  0               5   \n2    ReTweet   Twitter for Android                  0               0   \n3    ReTweet   Twitter for Android                  0               0   \n4    ReTweet             TweetDeck                  0               0   \n\n   Tweet Location Tweet Language  ...                 Name        Username  \\\n0        Brussels        English  ...   AnimalhealthEurope  animalhealthEU   \n1   Pill, Bristol        English  ...       Penny Brohn UK    PennyBrohnUK   \n2       Ohio, USA        English  ...         Lord ByronAF     lordbyronaf   \n3             NaN        English  ...  Lisa Countess davis   CountessDavis   \n4  Cincinnati, OH        English  ...     Local 12/WKRC-TV         Local12   \n\n                                            User Bio Verified or Non-Verified  \\\n0  AnimalhealthEurope represents manufacturers of...             Non-Verified   \n1  We help people live well with the impact of ca...             Non-Verified   \n2  It's easier to be who you are, than it is to b...             Non-Verified   \n3  I am named after @ElvisPresley daughter Lisa M...             Non-Verified   \n4  Local 12 is #Cincinnati's trusted source for b...                 Verified   \n\n                          Profile URL Protected or Non-protected  \\\n0  https://twitter.com/animalhealthEU              Non-Protected   \n1    https://twitter.com/PennyBrohnUK              Non-Protected   \n2     https://twitter.com/lordbyronaf              Non-Protected   \n3   https://twitter.com/CountessDavis              Non-Protected   \n4         https://twitter.com/Local12              Non-Protected   \n\n  User Followers  User Following  User Account Creation Date Impressions  \n0           3697             542        17 Dec 2012 09:14:15        7394  \n1           3227            1571        15 Sep 2010 09:44:02        6454  \n2           7808            8617        25 Jul 2012 15:43:47           0  \n3            291              81        26 Jan 2017 18:21:42           0  \n4         198675             651        02 Sep 2008 20:09:44           0  \n\n[5 rows x 21 columns]",
      "text/html": "<div>\n<style scoped>\n    .dataframe tbody tr th:only-of-type {\n        vertical-align: middle;\n    }\n\n    .dataframe tbody tr th {\n        vertical-align: top;\n    }\n\n    .dataframe thead th {\n        text-align: right;\n    }\n</style>\n<table border=\"1\" class=\"dataframe\">\n  <thead>\n    <tr style=\"text-align: right;\">\n      <th></th>\n      <th>Tweet Id</th>\n      <th>Tweet URL</th>\n      <th>Tweet Posted Time (UTC)</th>\n      <th>Tweet_Content</th>\n      <th>Tweet_Type</th>\n      <th>Client</th>\n      <th>Retweets Received</th>\n      <th>Likes Received</th>\n      <th>Tweet Location</th>\n      <th>Tweet Language</th>\n      <th>...</th>\n      <th>Name</th>\n      <th>Username</th>\n      <th>User Bio</th>\n      <th>Verified or Non-Verified</th>\n      <th>Profile URL</th>\n      <th>Protected or Non-protected</th>\n      <th>User Followers</th>\n      <th>User Following</th>\n      <th>User Account Creation Date</th>\n      <th>Impressions</th>\n    </tr>\n  </thead>\n  <tbody>\n    <tr>\n      <th>0</th>\n      <td>\"1167429261210218497\"</td>\n      <td>https://twitter.com/animalhealthEU/status/1167...</td>\n      <td>30 Aug 2019 13:30:00</td>\n      <td>Pets change our lives &amp;amp; become a part of o...</td>\n      <td>Tweet</td>\n      <td>Twitter Ads Composer</td>\n      <td>0</td>\n      <td>4</td>\n      <td>Brussels</td>\n      <td>English</td>\n      <td>...</td>\n      <td>AnimalhealthEurope</td>\n      <td>animalhealthEU</td>\n      <td>AnimalhealthEurope represents manufacturers of...</td>\n      <td>Non-Verified</td>\n      <td>https://twitter.com/animalhealthEU</td>\n      <td>Non-Protected</td>\n      <td>3697</td>\n      <td>542</td>\n      <td>17 Dec 2012 09:14:15</td>\n      <td>7394</td>\n    </tr>\n    <tr>\n      <th>1</th>\n      <td>\"1167375334670557185\"</td>\n      <td>https://twitter.com/PennyBrohnUK/status/116737...</td>\n      <td>30 Aug 2019 09:55:43</td>\n      <td>Another spot of our #morethanmedicine bus in #...</td>\n      <td>Tweet</td>\n      <td>Twitter Web App</td>\n      <td>0</td>\n      <td>5</td>\n      <td>Pill, Bristol</td>\n      <td>English</td>\n      <td>...</td>\n      <td>Penny Brohn UK</td>\n      <td>PennyBrohnUK</td>\n      <td>We help people live well with the impact of ca...</td>\n      <td>Non-Verified</td>\n      <td>https://twitter.com/PennyBrohnUK</td>\n      <td>Non-Protected</td>\n      <td>3227</td>\n      <td>1571</td>\n      <td>15 Sep 2010 09:44:02</td>\n      <td>6454</td>\n    </tr>\n    <tr>\n      <th>2</th>\n      <td>\"1167237977615097861\"</td>\n      <td>https://twitter.com/lordbyronaf/status/1167237...</td>\n      <td>30 Aug 2019 00:49:54</td>\n      <td>What a great team ⁦@HealthSourceOH⁩ ⁦@Local12⁩...</td>\n      <td>ReTweet</td>\n      <td>Twitter for Android</td>\n      <td>0</td>\n      <td>0</td>\n      <td>Ohio, USA</td>\n      <td>English</td>\n      <td>...</td>\n      <td>Lord ByronAF</td>\n      <td>lordbyronaf</td>\n      <td>It's easier to be who you are, than it is to b...</td>\n      <td>Non-Verified</td>\n      <td>https://twitter.com/lordbyronaf</td>\n      <td>Non-Protected</td>\n      <td>7808</td>\n      <td>8617</td>\n      <td>25 Jul 2012 15:43:47</td>\n      <td>0</td>\n    </tr>\n    <tr>\n      <th>3</th>\n      <td>\"1167236897078480898\"</td>\n      <td>https://twitter.com/CountessDavis/status/11672...</td>\n      <td>30 Aug 2019 00:45:37</td>\n      <td>What a great team ⁦@HealthSourceOH⁩ ⁦@Local12⁩...</td>\n      <td>ReTweet</td>\n      <td>Twitter for Android</td>\n      <td>0</td>\n      <td>0</td>\n      <td>NaN</td>\n      <td>English</td>\n      <td>...</td>\n      <td>Lisa Countess davis</td>\n      <td>CountessDavis</td>\n      <td>I am named after @ElvisPresley daughter Lisa M...</td>\n      <td>Non-Verified</td>\n      <td>https://twitter.com/CountessDavis</td>\n      <td>Non-Protected</td>\n      <td>291</td>\n      <td>81</td>\n      <td>26 Jan 2017 18:21:42</td>\n      <td>0</td>\n    </tr>\n    <tr>\n      <th>4</th>\n      <td>\"1167228378191204353\"</td>\n      <td>https://twitter.com/Local12/status/11672283781...</td>\n      <td>30 Aug 2019 00:11:46</td>\n      <td>What a great team ⁦@HealthSourceOH⁩ ⁦@Local12⁩...</td>\n      <td>ReTweet</td>\n      <td>TweetDeck</td>\n      <td>0</td>\n      <td>0</td>\n      <td>Cincinnati, OH</td>\n      <td>English</td>\n      <td>...</td>\n      <td>Local 12/WKRC-TV</td>\n      <td>Local12</td>\n      <td>Local 12 is #Cincinnati's trusted source for b...</td>\n      <td>Verified</td>\n      <td>https://twitter.com/Local12</td>\n      <td>Non-Protected</td>\n      <td>198675</td>\n      <td>651</td>\n      <td>02 Sep 2008 20:09:44</td>\n      <td>0</td>\n    </tr>\n  </tbody>\n</table>\n<p>5 rows × 21 columns</p>\n</div>"
     },
     "execution_count": 1,
     "metadata": {},
     "output_type": "execute_result"
    }
   ],
   "source": [
    "import pandas as pd\n",
    "import numpy as np\n",
    "from myclassesv2 import Normalize_Corpus\n",
    "\n",
    "tweets= pd.read_csv('data/twitter_sample.csv')\n",
    "tweets=tweets.rename(columns={'Tweet Content':'Tweet_Content','Tweet Type':'Tweet_Type'}) #renaming to prevent issue later\n",
    "tweets.head()"
   ],
   "metadata": {
    "collapsed": false,
    "pycharm": {
     "name": "#%%\n"
    }
   }
  },
  {
   "cell_type": "markdown",
   "source": [
    "# <font color=2d5db5>**1. Clean the “Tweet Content” column by removing non-text data and stop words.**"
   ],
   "metadata": {
    "collapsed": false,
    "pycharm": {
     "name": "#%% md\n"
    }
   }
  },
  {
   "cell_type": "code",
   "execution_count": 2,
   "outputs": [
    {
     "name": "stdout",
     "output_type": "stream",
     "text": [
      "Stripping HTML...\n",
      "Expanding Contratcions...\n",
      "Removing Accent Markings...\n",
      "Removing Special Characters...\n",
      "Removing Stopwords...\n"
     ]
    },
    {
     "name": "stderr",
     "output_type": "stream",
     "text": [
      "C:\\Users\\michaelmontana\\PycharmProjects\\pythonProject\\venv\\lib\\site-packages\\bs4\\__init__.py:435: MarkupResemblesLocatorWarning: The input looks more like a filename than markup. You may want to open this file and pass the filehandle into Beautiful Soup.\n",
      "  warnings.warn(\n"
     ]
    },
    {
     "name": "stdout",
     "output_type": "stream",
     "text": [
      "Removing Numbers...\n"
     ]
    },
    {
     "data": {
      "text/plain": "                Tweet Id                                          Tweet URL  \\\n0  \"1167429261210218497\"  https://twitter.com/animalhealthEU/status/1167...   \n1  \"1167375334670557185\"  https://twitter.com/PennyBrohnUK/status/116737...   \n2  \"1167237977615097861\"  https://twitter.com/lordbyronaf/status/1167237...   \n3  \"1167236897078480898\"  https://twitter.com/CountessDavis/status/11672...   \n4  \"1167228378191204353\"  https://twitter.com/Local12/status/11672283781...   \n\n  Tweet Posted Time (UTC)                                      Tweet_Content  \\\n0    30 Aug 2019 13:30:00  Pets change lives become part families members...   \n1    30 Aug 2019 09:55:43  Another spot morethanmedicine bus bristol week...   \n2    30 Aug 2019 00:49:54  great team HealthSourceOH Local morethanmedici...   \n3    30 Aug 2019 00:45:37  great team HealthSourceOH Local morethanmedici...   \n4    30 Aug 2019 00:11:46  great team HealthSourceOH Local morethanmedici...   \n\n  Tweet_Type                Client  Retweets Received  Likes Received  \\\n0      Tweet  Twitter Ads Composer                  0               4   \n1      Tweet       Twitter Web App                  0               5   \n2    ReTweet   Twitter for Android                  0               0   \n3    ReTweet   Twitter for Android                  0               0   \n4    ReTweet             TweetDeck                  0               0   \n\n   Tweet Location Tweet Language  ...                 Name        Username  \\\n0        Brussels        English  ...   AnimalhealthEurope  animalhealthEU   \n1   Pill, Bristol        English  ...       Penny Brohn UK    PennyBrohnUK   \n2       Ohio, USA        English  ...         Lord ByronAF     lordbyronaf   \n3             NaN        English  ...  Lisa Countess davis   CountessDavis   \n4  Cincinnati, OH        English  ...     Local 12/WKRC-TV         Local12   \n\n                                            User Bio Verified or Non-Verified  \\\n0  AnimalhealthEurope represents manufacturers of...             Non-Verified   \n1  We help people live well with the impact of ca...             Non-Verified   \n2  It's easier to be who you are, than it is to b...             Non-Verified   \n3  I am named after @ElvisPresley daughter Lisa M...             Non-Verified   \n4  Local 12 is #Cincinnati's trusted source for b...                 Verified   \n\n                          Profile URL Protected or Non-protected  \\\n0  https://twitter.com/animalhealthEU              Non-Protected   \n1    https://twitter.com/PennyBrohnUK              Non-Protected   \n2     https://twitter.com/lordbyronaf              Non-Protected   \n3   https://twitter.com/CountessDavis              Non-Protected   \n4         https://twitter.com/Local12              Non-Protected   \n\n  User Followers  User Following  User Account Creation Date Impressions  \n0           3697             542        17 Dec 2012 09:14:15        7394  \n1           3227            1571        15 Sep 2010 09:44:02        6454  \n2           7808            8617        25 Jul 2012 15:43:47           0  \n3            291              81        26 Jan 2017 18:21:42           0  \n4         198675             651        02 Sep 2008 20:09:44           0  \n\n[5 rows x 21 columns]",
      "text/html": "<div>\n<style scoped>\n    .dataframe tbody tr th:only-of-type {\n        vertical-align: middle;\n    }\n\n    .dataframe tbody tr th {\n        vertical-align: top;\n    }\n\n    .dataframe thead th {\n        text-align: right;\n    }\n</style>\n<table border=\"1\" class=\"dataframe\">\n  <thead>\n    <tr style=\"text-align: right;\">\n      <th></th>\n      <th>Tweet Id</th>\n      <th>Tweet URL</th>\n      <th>Tweet Posted Time (UTC)</th>\n      <th>Tweet_Content</th>\n      <th>Tweet_Type</th>\n      <th>Client</th>\n      <th>Retweets Received</th>\n      <th>Likes Received</th>\n      <th>Tweet Location</th>\n      <th>Tweet Language</th>\n      <th>...</th>\n      <th>Name</th>\n      <th>Username</th>\n      <th>User Bio</th>\n      <th>Verified or Non-Verified</th>\n      <th>Profile URL</th>\n      <th>Protected or Non-protected</th>\n      <th>User Followers</th>\n      <th>User Following</th>\n      <th>User Account Creation Date</th>\n      <th>Impressions</th>\n    </tr>\n  </thead>\n  <tbody>\n    <tr>\n      <th>0</th>\n      <td>\"1167429261210218497\"</td>\n      <td>https://twitter.com/animalhealthEU/status/1167...</td>\n      <td>30 Aug 2019 13:30:00</td>\n      <td>Pets change lives become part families members...</td>\n      <td>Tweet</td>\n      <td>Twitter Ads Composer</td>\n      <td>0</td>\n      <td>4</td>\n      <td>Brussels</td>\n      <td>English</td>\n      <td>...</td>\n      <td>AnimalhealthEurope</td>\n      <td>animalhealthEU</td>\n      <td>AnimalhealthEurope represents manufacturers of...</td>\n      <td>Non-Verified</td>\n      <td>https://twitter.com/animalhealthEU</td>\n      <td>Non-Protected</td>\n      <td>3697</td>\n      <td>542</td>\n      <td>17 Dec 2012 09:14:15</td>\n      <td>7394</td>\n    </tr>\n    <tr>\n      <th>1</th>\n      <td>\"1167375334670557185\"</td>\n      <td>https://twitter.com/PennyBrohnUK/status/116737...</td>\n      <td>30 Aug 2019 09:55:43</td>\n      <td>Another spot morethanmedicine bus bristol week...</td>\n      <td>Tweet</td>\n      <td>Twitter Web App</td>\n      <td>0</td>\n      <td>5</td>\n      <td>Pill, Bristol</td>\n      <td>English</td>\n      <td>...</td>\n      <td>Penny Brohn UK</td>\n      <td>PennyBrohnUK</td>\n      <td>We help people live well with the impact of ca...</td>\n      <td>Non-Verified</td>\n      <td>https://twitter.com/PennyBrohnUK</td>\n      <td>Non-Protected</td>\n      <td>3227</td>\n      <td>1571</td>\n      <td>15 Sep 2010 09:44:02</td>\n      <td>6454</td>\n    </tr>\n    <tr>\n      <th>2</th>\n      <td>\"1167237977615097861\"</td>\n      <td>https://twitter.com/lordbyronaf/status/1167237...</td>\n      <td>30 Aug 2019 00:49:54</td>\n      <td>great team HealthSourceOH Local morethanmedici...</td>\n      <td>ReTweet</td>\n      <td>Twitter for Android</td>\n      <td>0</td>\n      <td>0</td>\n      <td>Ohio, USA</td>\n      <td>English</td>\n      <td>...</td>\n      <td>Lord ByronAF</td>\n      <td>lordbyronaf</td>\n      <td>It's easier to be who you are, than it is to b...</td>\n      <td>Non-Verified</td>\n      <td>https://twitter.com/lordbyronaf</td>\n      <td>Non-Protected</td>\n      <td>7808</td>\n      <td>8617</td>\n      <td>25 Jul 2012 15:43:47</td>\n      <td>0</td>\n    </tr>\n    <tr>\n      <th>3</th>\n      <td>\"1167236897078480898\"</td>\n      <td>https://twitter.com/CountessDavis/status/11672...</td>\n      <td>30 Aug 2019 00:45:37</td>\n      <td>great team HealthSourceOH Local morethanmedici...</td>\n      <td>ReTweet</td>\n      <td>Twitter for Android</td>\n      <td>0</td>\n      <td>0</td>\n      <td>NaN</td>\n      <td>English</td>\n      <td>...</td>\n      <td>Lisa Countess davis</td>\n      <td>CountessDavis</td>\n      <td>I am named after @ElvisPresley daughter Lisa M...</td>\n      <td>Non-Verified</td>\n      <td>https://twitter.com/CountessDavis</td>\n      <td>Non-Protected</td>\n      <td>291</td>\n      <td>81</td>\n      <td>26 Jan 2017 18:21:42</td>\n      <td>0</td>\n    </tr>\n    <tr>\n      <th>4</th>\n      <td>\"1167228378191204353\"</td>\n      <td>https://twitter.com/Local12/status/11672283781...</td>\n      <td>30 Aug 2019 00:11:46</td>\n      <td>great team HealthSourceOH Local morethanmedici...</td>\n      <td>ReTweet</td>\n      <td>TweetDeck</td>\n      <td>0</td>\n      <td>0</td>\n      <td>Cincinnati, OH</td>\n      <td>English</td>\n      <td>...</td>\n      <td>Local 12/WKRC-TV</td>\n      <td>Local12</td>\n      <td>Local 12 is #Cincinnati's trusted source for b...</td>\n      <td>Verified</td>\n      <td>https://twitter.com/Local12</td>\n      <td>Non-Protected</td>\n      <td>198675</td>\n      <td>651</td>\n      <td>02 Sep 2008 20:09:44</td>\n      <td>0</td>\n    </tr>\n  </tbody>\n</table>\n<p>5 rows × 21 columns</p>\n</div>"
     },
     "execution_count": 2,
     "metadata": {},
     "output_type": "execute_result"
    }
   ],
   "source": [
    "norm = Normalize_Corpus()\n",
    "cleantweets = tweets.copy()\n",
    "cleantweets['Tweet_Content']= norm.normalize(cleantweets['Tweet_Content'],html_stripping=True, contraction_expansion=True,\n",
    "                                             accented_char_removal=True, text_lower_case=False,\n",
    "                                             text_lemmatization=False, special_char_removal=True,\n",
    "                                             stopword_removal=True, digits_removal=True) #passing Tweet content to the selected normalizer functions\n",
    "cleantweets.head()"
   ],
   "metadata": {
    "collapsed": false,
    "pycharm": {
     "name": "#%%\n"
    }
   }
  },
  {
   "cell_type": "markdown",
   "source": [
    "# <font color=2d5db5>**2. Filtering only tweets (not re-tweets) use your class from part one of this exercise to build BOW and TF-IDF Vectorizer representations of the text; print your results. Don't over-think this, leverage what the author does in the text.**"
   ],
   "metadata": {
    "collapsed": false,
    "pycharm": {
     "name": "#%% md\n"
    }
   }
  },
  {
   "cell_type": "code",
   "execution_count": 3,
   "outputs": [],
   "source": [
    "no_retweets = cleantweets.copy()\n",
    "no_retweets = no_retweets.query('Tweet_Type==\"Tweet\"') # df.query() queries the columns of a DataFrame using a boolean expression  -- https://pandas.pydata.org/docs/reference/api/pandas.DataFrame.query.html\n",
    "no_retweets_content = no_retweets['Tweet_Content']"
   ],
   "metadata": {
    "collapsed": false,
    "pycharm": {
     "name": "#%%\n"
    }
   }
  },
  {
   "cell_type": "markdown",
   "source": [
    "# <font color=2d5db5>**Bag of Words Model**"
   ],
   "metadata": {
    "collapsed": false,
    "pycharm": {
     "name": "#%% md\n"
    }
   }
  },
  {
   "cell_type": "code",
   "execution_count": 4,
   "outputs": [
    {
     "name": "stdout",
     "output_type": "stream",
     "text": [
      "Bag of Words Model:\n",
      "\n"
     ]
    },
    {
     "data": {
      "text/plain": "    academic year  acep get  act like  activity stress  advice protection  \\\n0               0         0         0                0                  0   \n1               0         0         0                0                  0   \n2               0         0         0                0                  0   \n3               0         0         0                0                  0   \n4               0         0         0                0                  0   \n..            ...       ...       ...              ...                ...   \n90              0         0         0                0                  0   \n91              0         0         0                0                  0   \n92              0         0         0                0                  0   \n93              1         0         0                0                  0   \n94              0         0         0                0                  0   \n\n    advocating socialprescribing  affected risk  aflac duck  aflac ducks  \\\n0                              0              0           0            0   \n1                              0              0           0            0   \n2                              0              0           0            0   \n3                              0              0           0            0   \n4                              0              0           0            0   \n..                           ...            ...         ...          ...   \n90                             0              0           0            1   \n91                             0              0           0            0   \n92                             0              0           0            0   \n93                             0              0           0            0   \n94                             0              0           0            0   \n\n    aflac team  ...  youll find  ze bez  zoetis heading  zones cherished  \\\n0            0  ...           0       0               0                0   \n1            0  ...           0       0               0                0   \n2            0  ...           0       0               0                0   \n3            0  ...           0       0               0                0   \n4            0  ...           0       0               0                0   \n..         ...  ...         ...     ...             ...              ...   \n90           0  ...           0       0               0                0   \n91           0  ...           0       0               0                0   \n92           0  ...           0       0               0                0   \n93           0  ...           0       0               0                0   \n94           0  ...           0       0               0                0   \n\n    zoonosen httpstcoumeasdk  zoonosen sind  zoonoses zoonosen  zu mehr  \\\n0                          0              0                  0        0   \n1                          0              0                  0        0   \n2                          0              0                  0        0   \n3                          0              0                  0        0   \n4                          0              0                  0        0   \n..                       ...            ...                ...      ...   \n90                         0              0                  0        0   \n91                         0              0                  0        0   \n92                         0              0                  0        0   \n93                         0              0                  0        0   \n94                         0              0                  0        0   \n\n    zwierzat potrzeba  zwierzat wyprodukowania  \n0                   0                        0  \n1                   0                        0  \n2                   0                        0  \n3                   0                        0  \n4                   0                        0  \n..                ...                      ...  \n90                  0                        0  \n91                  0                        0  \n92                  0                        0  \n93                  0                        0  \n94                  0                        0  \n\n[95 rows x 1383 columns]",
      "text/html": "<div>\n<style scoped>\n    .dataframe tbody tr th:only-of-type {\n        vertical-align: middle;\n    }\n\n    .dataframe tbody tr th {\n        vertical-align: top;\n    }\n\n    .dataframe thead th {\n        text-align: right;\n    }\n</style>\n<table border=\"1\" class=\"dataframe\">\n  <thead>\n    <tr style=\"text-align: right;\">\n      <th></th>\n      <th>academic year</th>\n      <th>acep get</th>\n      <th>act like</th>\n      <th>activity stress</th>\n      <th>advice protection</th>\n      <th>advocating socialprescribing</th>\n      <th>affected risk</th>\n      <th>aflac duck</th>\n      <th>aflac ducks</th>\n      <th>aflac team</th>\n      <th>...</th>\n      <th>youll find</th>\n      <th>ze bez</th>\n      <th>zoetis heading</th>\n      <th>zones cherished</th>\n      <th>zoonosen httpstcoumeasdk</th>\n      <th>zoonosen sind</th>\n      <th>zoonoses zoonosen</th>\n      <th>zu mehr</th>\n      <th>zwierzat potrzeba</th>\n      <th>zwierzat wyprodukowania</th>\n    </tr>\n  </thead>\n  <tbody>\n    <tr>\n      <th>0</th>\n      <td>0</td>\n      <td>0</td>\n      <td>0</td>\n      <td>0</td>\n      <td>0</td>\n      <td>0</td>\n      <td>0</td>\n      <td>0</td>\n      <td>0</td>\n      <td>0</td>\n      <td>...</td>\n      <td>0</td>\n      <td>0</td>\n      <td>0</td>\n      <td>0</td>\n      <td>0</td>\n      <td>0</td>\n      <td>0</td>\n      <td>0</td>\n      <td>0</td>\n      <td>0</td>\n    </tr>\n    <tr>\n      <th>1</th>\n      <td>0</td>\n      <td>0</td>\n      <td>0</td>\n      <td>0</td>\n      <td>0</td>\n      <td>0</td>\n      <td>0</td>\n      <td>0</td>\n      <td>0</td>\n      <td>0</td>\n      <td>...</td>\n      <td>0</td>\n      <td>0</td>\n      <td>0</td>\n      <td>0</td>\n      <td>0</td>\n      <td>0</td>\n      <td>0</td>\n      <td>0</td>\n      <td>0</td>\n      <td>0</td>\n    </tr>\n    <tr>\n      <th>2</th>\n      <td>0</td>\n      <td>0</td>\n      <td>0</td>\n      <td>0</td>\n      <td>0</td>\n      <td>0</td>\n      <td>0</td>\n      <td>0</td>\n      <td>0</td>\n      <td>0</td>\n      <td>...</td>\n      <td>0</td>\n      <td>0</td>\n      <td>0</td>\n      <td>0</td>\n      <td>0</td>\n      <td>0</td>\n      <td>0</td>\n      <td>0</td>\n      <td>0</td>\n      <td>0</td>\n    </tr>\n    <tr>\n      <th>3</th>\n      <td>0</td>\n      <td>0</td>\n      <td>0</td>\n      <td>0</td>\n      <td>0</td>\n      <td>0</td>\n      <td>0</td>\n      <td>0</td>\n      <td>0</td>\n      <td>0</td>\n      <td>...</td>\n      <td>0</td>\n      <td>0</td>\n      <td>0</td>\n      <td>0</td>\n      <td>0</td>\n      <td>0</td>\n      <td>0</td>\n      <td>0</td>\n      <td>0</td>\n      <td>0</td>\n    </tr>\n    <tr>\n      <th>4</th>\n      <td>0</td>\n      <td>0</td>\n      <td>0</td>\n      <td>0</td>\n      <td>0</td>\n      <td>0</td>\n      <td>0</td>\n      <td>0</td>\n      <td>0</td>\n      <td>0</td>\n      <td>...</td>\n      <td>0</td>\n      <td>0</td>\n      <td>0</td>\n      <td>0</td>\n      <td>0</td>\n      <td>0</td>\n      <td>0</td>\n      <td>0</td>\n      <td>0</td>\n      <td>0</td>\n    </tr>\n    <tr>\n      <th>...</th>\n      <td>...</td>\n      <td>...</td>\n      <td>...</td>\n      <td>...</td>\n      <td>...</td>\n      <td>...</td>\n      <td>...</td>\n      <td>...</td>\n      <td>...</td>\n      <td>...</td>\n      <td>...</td>\n      <td>...</td>\n      <td>...</td>\n      <td>...</td>\n      <td>...</td>\n      <td>...</td>\n      <td>...</td>\n      <td>...</td>\n      <td>...</td>\n      <td>...</td>\n      <td>...</td>\n    </tr>\n    <tr>\n      <th>90</th>\n      <td>0</td>\n      <td>0</td>\n      <td>0</td>\n      <td>0</td>\n      <td>0</td>\n      <td>0</td>\n      <td>0</td>\n      <td>0</td>\n      <td>1</td>\n      <td>0</td>\n      <td>...</td>\n      <td>0</td>\n      <td>0</td>\n      <td>0</td>\n      <td>0</td>\n      <td>0</td>\n      <td>0</td>\n      <td>0</td>\n      <td>0</td>\n      <td>0</td>\n      <td>0</td>\n    </tr>\n    <tr>\n      <th>91</th>\n      <td>0</td>\n      <td>0</td>\n      <td>0</td>\n      <td>0</td>\n      <td>0</td>\n      <td>0</td>\n      <td>0</td>\n      <td>0</td>\n      <td>0</td>\n      <td>0</td>\n      <td>...</td>\n      <td>0</td>\n      <td>0</td>\n      <td>0</td>\n      <td>0</td>\n      <td>0</td>\n      <td>0</td>\n      <td>0</td>\n      <td>0</td>\n      <td>0</td>\n      <td>0</td>\n    </tr>\n    <tr>\n      <th>92</th>\n      <td>0</td>\n      <td>0</td>\n      <td>0</td>\n      <td>0</td>\n      <td>0</td>\n      <td>0</td>\n      <td>0</td>\n      <td>0</td>\n      <td>0</td>\n      <td>0</td>\n      <td>...</td>\n      <td>0</td>\n      <td>0</td>\n      <td>0</td>\n      <td>0</td>\n      <td>0</td>\n      <td>0</td>\n      <td>0</td>\n      <td>0</td>\n      <td>0</td>\n      <td>0</td>\n    </tr>\n    <tr>\n      <th>93</th>\n      <td>1</td>\n      <td>0</td>\n      <td>0</td>\n      <td>0</td>\n      <td>0</td>\n      <td>0</td>\n      <td>0</td>\n      <td>0</td>\n      <td>0</td>\n      <td>0</td>\n      <td>...</td>\n      <td>0</td>\n      <td>0</td>\n      <td>0</td>\n      <td>0</td>\n      <td>0</td>\n      <td>0</td>\n      <td>0</td>\n      <td>0</td>\n      <td>0</td>\n      <td>0</td>\n    </tr>\n    <tr>\n      <th>94</th>\n      <td>0</td>\n      <td>0</td>\n      <td>0</td>\n      <td>0</td>\n      <td>0</td>\n      <td>0</td>\n      <td>0</td>\n      <td>0</td>\n      <td>0</td>\n      <td>0</td>\n      <td>...</td>\n      <td>0</td>\n      <td>0</td>\n      <td>0</td>\n      <td>0</td>\n      <td>0</td>\n      <td>0</td>\n      <td>0</td>\n      <td>0</td>\n      <td>0</td>\n      <td>0</td>\n    </tr>\n  </tbody>\n</table>\n<p>95 rows × 1383 columns</p>\n</div>"
     },
     "execution_count": 4,
     "metadata": {},
     "output_type": "execute_result"
    }
   ],
   "source": [
    "norm.BOW(no_retweets['Tweet_Content'])"
   ],
   "metadata": {
    "collapsed": false,
    "pycharm": {
     "name": "#%%\n"
    }
   }
  },
  {
   "cell_type": "markdown",
   "source": [
    "# <font color=2d5db5>**Tf-IDF Vectorizer Model**"
   ],
   "metadata": {
    "collapsed": false,
    "pycharm": {
     "name": "#%% md\n"
    }
   }
  },
  {
   "cell_type": "code",
   "execution_count": 5,
   "outputs": [
    {
     "name": "stdout",
     "output_type": "stream",
     "text": [
      "TF-IDF Vectorizer:\n",
      "\n"
     ]
    },
    {
     "data": {
      "text/plain": "    academic  acep  act  activity  advice  advocating  affected  aflac  \\\n0       0.00   0.0  0.0       0.0     0.0         0.0       0.0    0.0   \n1       0.00   0.0  0.0       0.0     0.0         0.0       0.0    0.0   \n2       0.00   0.0  0.0       0.0     0.0         0.0       0.0    0.0   \n3       0.00   0.0  0.0       0.0     0.0         0.0       0.0    0.0   \n4       0.00   0.0  0.0       0.0     0.0         0.0       0.0    0.0   \n..       ...   ...  ...       ...     ...         ...       ...    ...   \n90      0.00   0.0  0.0       0.0     0.0         0.0       0.0    0.2   \n91      0.00   0.0  0.0       0.0     0.0         0.0       0.0    0.0   \n92      0.00   0.0  0.0       0.0     0.0         0.0       0.0    0.0   \n93      0.23   0.0  0.0       0.0     0.0         0.0       0.0    0.0   \n94      0.00   0.0  0.0       0.0     0.0         0.0       0.0    0.0   \n\n    againthe  agem  ...  yesterday  yet  youll   ze  zoetis  zones  zoonosen  \\\n0        0.0  0.00  ...        0.0  0.0    0.0  0.0     0.0    0.0       0.0   \n1        0.0  0.00  ...        0.0  0.0    0.0  0.0     0.0    0.0       0.0   \n2        0.0  0.00  ...        0.0  0.0    0.0  0.0     0.0    0.0       0.0   \n3        0.0  0.26  ...        0.0  0.0    0.0  0.0     0.0    0.0       0.0   \n4        0.0  0.00  ...        0.0  0.0    0.0  0.0     0.0    0.0       0.0   \n..       ...   ...  ...        ...  ...    ...  ...     ...    ...       ...   \n90       0.0  0.00  ...        0.0  0.0    0.0  0.0     0.0    0.0       0.0   \n91       0.0  0.00  ...        0.0  0.0    0.0  0.0     0.0    0.0       0.0   \n92       0.0  0.00  ...        0.0  0.0    0.0  0.0     0.0    0.0       0.0   \n93       0.0  0.00  ...        0.0  0.0    0.0  0.0     0.0    0.0       0.0   \n94       0.0  0.00  ...        0.0  0.0    0.0  0.0     0.0    0.0       0.0   \n\n    zoonoses   zu  zwierzat  \n0        0.0  0.0       0.0  \n1        0.0  0.0       0.0  \n2        0.0  0.0       0.0  \n3        0.0  0.0       0.0  \n4        0.0  0.0       0.0  \n..       ...  ...       ...  \n90       0.0  0.0       0.0  \n91       0.0  0.0       0.0  \n92       0.0  0.0       0.0  \n93       0.0  0.0       0.0  \n94       0.0  0.0       0.0  \n\n[95 rows x 930 columns]",
      "text/html": "<div>\n<style scoped>\n    .dataframe tbody tr th:only-of-type {\n        vertical-align: middle;\n    }\n\n    .dataframe tbody tr th {\n        vertical-align: top;\n    }\n\n    .dataframe thead th {\n        text-align: right;\n    }\n</style>\n<table border=\"1\" class=\"dataframe\">\n  <thead>\n    <tr style=\"text-align: right;\">\n      <th></th>\n      <th>academic</th>\n      <th>acep</th>\n      <th>act</th>\n      <th>activity</th>\n      <th>advice</th>\n      <th>advocating</th>\n      <th>affected</th>\n      <th>aflac</th>\n      <th>againthe</th>\n      <th>agem</th>\n      <th>...</th>\n      <th>yesterday</th>\n      <th>yet</th>\n      <th>youll</th>\n      <th>ze</th>\n      <th>zoetis</th>\n      <th>zones</th>\n      <th>zoonosen</th>\n      <th>zoonoses</th>\n      <th>zu</th>\n      <th>zwierzat</th>\n    </tr>\n  </thead>\n  <tbody>\n    <tr>\n      <th>0</th>\n      <td>0.00</td>\n      <td>0.0</td>\n      <td>0.0</td>\n      <td>0.0</td>\n      <td>0.0</td>\n      <td>0.0</td>\n      <td>0.0</td>\n      <td>0.0</td>\n      <td>0.0</td>\n      <td>0.00</td>\n      <td>...</td>\n      <td>0.0</td>\n      <td>0.0</td>\n      <td>0.0</td>\n      <td>0.0</td>\n      <td>0.0</td>\n      <td>0.0</td>\n      <td>0.0</td>\n      <td>0.0</td>\n      <td>0.0</td>\n      <td>0.0</td>\n    </tr>\n    <tr>\n      <th>1</th>\n      <td>0.00</td>\n      <td>0.0</td>\n      <td>0.0</td>\n      <td>0.0</td>\n      <td>0.0</td>\n      <td>0.0</td>\n      <td>0.0</td>\n      <td>0.0</td>\n      <td>0.0</td>\n      <td>0.00</td>\n      <td>...</td>\n      <td>0.0</td>\n      <td>0.0</td>\n      <td>0.0</td>\n      <td>0.0</td>\n      <td>0.0</td>\n      <td>0.0</td>\n      <td>0.0</td>\n      <td>0.0</td>\n      <td>0.0</td>\n      <td>0.0</td>\n    </tr>\n    <tr>\n      <th>2</th>\n      <td>0.00</td>\n      <td>0.0</td>\n      <td>0.0</td>\n      <td>0.0</td>\n      <td>0.0</td>\n      <td>0.0</td>\n      <td>0.0</td>\n      <td>0.0</td>\n      <td>0.0</td>\n      <td>0.00</td>\n      <td>...</td>\n      <td>0.0</td>\n      <td>0.0</td>\n      <td>0.0</td>\n      <td>0.0</td>\n      <td>0.0</td>\n      <td>0.0</td>\n      <td>0.0</td>\n      <td>0.0</td>\n      <td>0.0</td>\n      <td>0.0</td>\n    </tr>\n    <tr>\n      <th>3</th>\n      <td>0.00</td>\n      <td>0.0</td>\n      <td>0.0</td>\n      <td>0.0</td>\n      <td>0.0</td>\n      <td>0.0</td>\n      <td>0.0</td>\n      <td>0.0</td>\n      <td>0.0</td>\n      <td>0.26</td>\n      <td>...</td>\n      <td>0.0</td>\n      <td>0.0</td>\n      <td>0.0</td>\n      <td>0.0</td>\n      <td>0.0</td>\n      <td>0.0</td>\n      <td>0.0</td>\n      <td>0.0</td>\n      <td>0.0</td>\n      <td>0.0</td>\n    </tr>\n    <tr>\n      <th>4</th>\n      <td>0.00</td>\n      <td>0.0</td>\n      <td>0.0</td>\n      <td>0.0</td>\n      <td>0.0</td>\n      <td>0.0</td>\n      <td>0.0</td>\n      <td>0.0</td>\n      <td>0.0</td>\n      <td>0.00</td>\n      <td>...</td>\n      <td>0.0</td>\n      <td>0.0</td>\n      <td>0.0</td>\n      <td>0.0</td>\n      <td>0.0</td>\n      <td>0.0</td>\n      <td>0.0</td>\n      <td>0.0</td>\n      <td>0.0</td>\n      <td>0.0</td>\n    </tr>\n    <tr>\n      <th>...</th>\n      <td>...</td>\n      <td>...</td>\n      <td>...</td>\n      <td>...</td>\n      <td>...</td>\n      <td>...</td>\n      <td>...</td>\n      <td>...</td>\n      <td>...</td>\n      <td>...</td>\n      <td>...</td>\n      <td>...</td>\n      <td>...</td>\n      <td>...</td>\n      <td>...</td>\n      <td>...</td>\n      <td>...</td>\n      <td>...</td>\n      <td>...</td>\n      <td>...</td>\n      <td>...</td>\n    </tr>\n    <tr>\n      <th>90</th>\n      <td>0.00</td>\n      <td>0.0</td>\n      <td>0.0</td>\n      <td>0.0</td>\n      <td>0.0</td>\n      <td>0.0</td>\n      <td>0.0</td>\n      <td>0.2</td>\n      <td>0.0</td>\n      <td>0.00</td>\n      <td>...</td>\n      <td>0.0</td>\n      <td>0.0</td>\n      <td>0.0</td>\n      <td>0.0</td>\n      <td>0.0</td>\n      <td>0.0</td>\n      <td>0.0</td>\n      <td>0.0</td>\n      <td>0.0</td>\n      <td>0.0</td>\n    </tr>\n    <tr>\n      <th>91</th>\n      <td>0.00</td>\n      <td>0.0</td>\n      <td>0.0</td>\n      <td>0.0</td>\n      <td>0.0</td>\n      <td>0.0</td>\n      <td>0.0</td>\n      <td>0.0</td>\n      <td>0.0</td>\n      <td>0.00</td>\n      <td>...</td>\n      <td>0.0</td>\n      <td>0.0</td>\n      <td>0.0</td>\n      <td>0.0</td>\n      <td>0.0</td>\n      <td>0.0</td>\n      <td>0.0</td>\n      <td>0.0</td>\n      <td>0.0</td>\n      <td>0.0</td>\n    </tr>\n    <tr>\n      <th>92</th>\n      <td>0.00</td>\n      <td>0.0</td>\n      <td>0.0</td>\n      <td>0.0</td>\n      <td>0.0</td>\n      <td>0.0</td>\n      <td>0.0</td>\n      <td>0.0</td>\n      <td>0.0</td>\n      <td>0.00</td>\n      <td>...</td>\n      <td>0.0</td>\n      <td>0.0</td>\n      <td>0.0</td>\n      <td>0.0</td>\n      <td>0.0</td>\n      <td>0.0</td>\n      <td>0.0</td>\n      <td>0.0</td>\n      <td>0.0</td>\n      <td>0.0</td>\n    </tr>\n    <tr>\n      <th>93</th>\n      <td>0.23</td>\n      <td>0.0</td>\n      <td>0.0</td>\n      <td>0.0</td>\n      <td>0.0</td>\n      <td>0.0</td>\n      <td>0.0</td>\n      <td>0.0</td>\n      <td>0.0</td>\n      <td>0.00</td>\n      <td>...</td>\n      <td>0.0</td>\n      <td>0.0</td>\n      <td>0.0</td>\n      <td>0.0</td>\n      <td>0.0</td>\n      <td>0.0</td>\n      <td>0.0</td>\n      <td>0.0</td>\n      <td>0.0</td>\n      <td>0.0</td>\n    </tr>\n    <tr>\n      <th>94</th>\n      <td>0.00</td>\n      <td>0.0</td>\n      <td>0.0</td>\n      <td>0.0</td>\n      <td>0.0</td>\n      <td>0.0</td>\n      <td>0.0</td>\n      <td>0.0</td>\n      <td>0.0</td>\n      <td>0.00</td>\n      <td>...</td>\n      <td>0.0</td>\n      <td>0.0</td>\n      <td>0.0</td>\n      <td>0.0</td>\n      <td>0.0</td>\n      <td>0.0</td>\n      <td>0.0</td>\n      <td>0.0</td>\n      <td>0.0</td>\n      <td>0.0</td>\n    </tr>\n  </tbody>\n</table>\n<p>95 rows × 930 columns</p>\n</div>"
     },
     "execution_count": 5,
     "metadata": {},
     "output_type": "execute_result"
    }
   ],
   "source": [
    "norm.TfIdf_Vectorizer(no_retweets['Tweet_Content'])"
   ],
   "metadata": {
    "collapsed": false,
    "pycharm": {
     "name": "#%%\n"
    }
   }
  },
  {
   "cell_type": "markdown",
   "source": [
    "# <font color=2d5db5>**3. Find one or more documents (each tweet is a document) that are similar to each other using Cosine Similarity; print your results. (NOTE: the lower the Cosine Similarity, the more likely the documents are similar.)**"
   ],
   "metadata": {
    "collapsed": false,
    "pycharm": {
     "name": "#%% md\n"
    }
   }
  },
  {
   "cell_type": "markdown",
   "source": [],
   "metadata": {
    "collapsed": false,
    "pycharm": {
     "name": "#%% md\n"
    }
   }
  },
  {
   "cell_type": "code",
   "execution_count": 6,
   "outputs": [
    {
     "data": {
      "text/plain": "          0         1         2         3         4         5         6   \\\n0        NaN  0.002990  0.005010  0.002500  0.002975  0.050928  0.002498   \n1   0.002990       NaN  0.005956  0.002971  0.003537  0.002979  0.002970   \n2   0.005010  0.005956       NaN  0.004979  0.005927  0.004993  0.004976   \n3   0.002500  0.002971  0.004979       NaN  0.002957  0.002491  0.002483   \n4   0.002975  0.003537  0.005927  0.002957       NaN  0.002965  0.002955   \n..       ...       ...       ...       ...       ...       ...       ...   \n90  0.002497  0.038285  0.004973  0.002481  0.002953  0.002488  0.002480   \n91  0.002527  0.003005  0.005035  0.002512  0.002990  0.002519  0.002510   \n92  0.002526  0.003003  0.005032  0.002511  0.002988  0.035039  0.002509   \n93  0.002481  0.002950  0.072558  0.089468  0.002935  0.002473  0.002464   \n94  0.114162  0.003593  0.006021  0.003004  0.003576  0.003012  0.003002   \n\n          7         8         9   ...        85        86        87        88  \\\n0   0.001999  0.003520  0.003016  ...  0.002485  0.081170  0.003025  0.002505   \n1   0.002376  0.004185  0.003585  ...  0.002955  0.048306  0.003596  0.064126   \n2   0.003981  0.007012  0.006008  ...  0.004951  0.005059  0.101448  0.004990   \n3   0.001986  0.003499  0.002998  ...  0.002470  0.044728  0.122981  0.002490   \n4   0.002364  0.004164  0.003568  ...  0.002940  0.003004  0.003579  0.002964   \n..       ...       ...       ...  ...       ...       ...       ...       ...   \n90  0.220205  0.003494  0.067264  ...  0.002467  0.051228  0.003003  0.078083   \n91  0.002008  0.003538  0.003031  ...  0.002498  0.002552  0.003040  0.002517   \n92  0.002007  0.049902  0.003029  ...  0.002496  0.002551  0.003039  0.002516   \n93  0.001972  0.003473  0.002976  ...  0.002452  0.002506  0.092526  0.002471   \n94  0.002402  0.004231  0.003625  ...  0.002987  0.003052  0.003636  0.003011   \n\n          89        90        91        92        93        94  \n0   0.048990  0.002497  0.002527  0.002526  0.002481  0.114162  \n1   0.003551  0.038285  0.003005  0.003003  0.002950  0.003593  \n2   0.005950  0.004973  0.005035  0.005032  0.072558  0.006021  \n3   0.002969  0.002481  0.002512  0.002511  0.089468  0.003004  \n4   0.003534  0.002953  0.002990  0.002988  0.002935  0.003576  \n..       ...       ...       ...       ...       ...       ...  \n90  0.002965       NaN  0.002509  0.002507  0.002463  0.003001  \n91  0.003002  0.002509       NaN  0.002538  0.186210  0.003038  \n92  0.022501  0.002507  0.002538       NaN  0.002492  0.025401  \n93  0.045875  0.002463  0.186210  0.002492       NaN  0.002982  \n94  0.029021  0.003001  0.003038  0.025401  0.002982       NaN  \n\n[95 rows x 95 columns]",
      "text/html": "<div>\n<style scoped>\n    .dataframe tbody tr th:only-of-type {\n        vertical-align: middle;\n    }\n\n    .dataframe tbody tr th {\n        vertical-align: top;\n    }\n\n    .dataframe thead th {\n        text-align: right;\n    }\n</style>\n<table border=\"1\" class=\"dataframe\">\n  <thead>\n    <tr style=\"text-align: right;\">\n      <th></th>\n      <th>0</th>\n      <th>1</th>\n      <th>2</th>\n      <th>3</th>\n      <th>4</th>\n      <th>5</th>\n      <th>6</th>\n      <th>7</th>\n      <th>8</th>\n      <th>9</th>\n      <th>...</th>\n      <th>85</th>\n      <th>86</th>\n      <th>87</th>\n      <th>88</th>\n      <th>89</th>\n      <th>90</th>\n      <th>91</th>\n      <th>92</th>\n      <th>93</th>\n      <th>94</th>\n    </tr>\n  </thead>\n  <tbody>\n    <tr>\n      <th>0</th>\n      <td>NaN</td>\n      <td>0.002990</td>\n      <td>0.005010</td>\n      <td>0.002500</td>\n      <td>0.002975</td>\n      <td>0.050928</td>\n      <td>0.002498</td>\n      <td>0.001999</td>\n      <td>0.003520</td>\n      <td>0.003016</td>\n      <td>...</td>\n      <td>0.002485</td>\n      <td>0.081170</td>\n      <td>0.003025</td>\n      <td>0.002505</td>\n      <td>0.048990</td>\n      <td>0.002497</td>\n      <td>0.002527</td>\n      <td>0.002526</td>\n      <td>0.002481</td>\n      <td>0.114162</td>\n    </tr>\n    <tr>\n      <th>1</th>\n      <td>0.002990</td>\n      <td>NaN</td>\n      <td>0.005956</td>\n      <td>0.002971</td>\n      <td>0.003537</td>\n      <td>0.002979</td>\n      <td>0.002970</td>\n      <td>0.002376</td>\n      <td>0.004185</td>\n      <td>0.003585</td>\n      <td>...</td>\n      <td>0.002955</td>\n      <td>0.048306</td>\n      <td>0.003596</td>\n      <td>0.064126</td>\n      <td>0.003551</td>\n      <td>0.038285</td>\n      <td>0.003005</td>\n      <td>0.003003</td>\n      <td>0.002950</td>\n      <td>0.003593</td>\n    </tr>\n    <tr>\n      <th>2</th>\n      <td>0.005010</td>\n      <td>0.005956</td>\n      <td>NaN</td>\n      <td>0.004979</td>\n      <td>0.005927</td>\n      <td>0.004993</td>\n      <td>0.004976</td>\n      <td>0.003981</td>\n      <td>0.007012</td>\n      <td>0.006008</td>\n      <td>...</td>\n      <td>0.004951</td>\n      <td>0.005059</td>\n      <td>0.101448</td>\n      <td>0.004990</td>\n      <td>0.005950</td>\n      <td>0.004973</td>\n      <td>0.005035</td>\n      <td>0.005032</td>\n      <td>0.072558</td>\n      <td>0.006021</td>\n    </tr>\n    <tr>\n      <th>3</th>\n      <td>0.002500</td>\n      <td>0.002971</td>\n      <td>0.004979</td>\n      <td>NaN</td>\n      <td>0.002957</td>\n      <td>0.002491</td>\n      <td>0.002483</td>\n      <td>0.001986</td>\n      <td>0.003499</td>\n      <td>0.002998</td>\n      <td>...</td>\n      <td>0.002470</td>\n      <td>0.044728</td>\n      <td>0.122981</td>\n      <td>0.002490</td>\n      <td>0.002969</td>\n      <td>0.002481</td>\n      <td>0.002512</td>\n      <td>0.002511</td>\n      <td>0.089468</td>\n      <td>0.003004</td>\n    </tr>\n    <tr>\n      <th>4</th>\n      <td>0.002975</td>\n      <td>0.003537</td>\n      <td>0.005927</td>\n      <td>0.002957</td>\n      <td>NaN</td>\n      <td>0.002965</td>\n      <td>0.002955</td>\n      <td>0.002364</td>\n      <td>0.004164</td>\n      <td>0.003568</td>\n      <td>...</td>\n      <td>0.002940</td>\n      <td>0.003004</td>\n      <td>0.003579</td>\n      <td>0.002964</td>\n      <td>0.003534</td>\n      <td>0.002953</td>\n      <td>0.002990</td>\n      <td>0.002988</td>\n      <td>0.002935</td>\n      <td>0.003576</td>\n    </tr>\n    <tr>\n      <th>...</th>\n      <td>...</td>\n      <td>...</td>\n      <td>...</td>\n      <td>...</td>\n      <td>...</td>\n      <td>...</td>\n      <td>...</td>\n      <td>...</td>\n      <td>...</td>\n      <td>...</td>\n      <td>...</td>\n      <td>...</td>\n      <td>...</td>\n      <td>...</td>\n      <td>...</td>\n      <td>...</td>\n      <td>...</td>\n      <td>...</td>\n      <td>...</td>\n      <td>...</td>\n      <td>...</td>\n    </tr>\n    <tr>\n      <th>90</th>\n      <td>0.002497</td>\n      <td>0.038285</td>\n      <td>0.004973</td>\n      <td>0.002481</td>\n      <td>0.002953</td>\n      <td>0.002488</td>\n      <td>0.002480</td>\n      <td>0.220205</td>\n      <td>0.003494</td>\n      <td>0.067264</td>\n      <td>...</td>\n      <td>0.002467</td>\n      <td>0.051228</td>\n      <td>0.003003</td>\n      <td>0.078083</td>\n      <td>0.002965</td>\n      <td>NaN</td>\n      <td>0.002509</td>\n      <td>0.002507</td>\n      <td>0.002463</td>\n      <td>0.003001</td>\n    </tr>\n    <tr>\n      <th>91</th>\n      <td>0.002527</td>\n      <td>0.003005</td>\n      <td>0.005035</td>\n      <td>0.002512</td>\n      <td>0.002990</td>\n      <td>0.002519</td>\n      <td>0.002510</td>\n      <td>0.002008</td>\n      <td>0.003538</td>\n      <td>0.003031</td>\n      <td>...</td>\n      <td>0.002498</td>\n      <td>0.002552</td>\n      <td>0.003040</td>\n      <td>0.002517</td>\n      <td>0.003002</td>\n      <td>0.002509</td>\n      <td>NaN</td>\n      <td>0.002538</td>\n      <td>0.186210</td>\n      <td>0.003038</td>\n    </tr>\n    <tr>\n      <th>92</th>\n      <td>0.002526</td>\n      <td>0.003003</td>\n      <td>0.005032</td>\n      <td>0.002511</td>\n      <td>0.002988</td>\n      <td>0.035039</td>\n      <td>0.002509</td>\n      <td>0.002007</td>\n      <td>0.049902</td>\n      <td>0.003029</td>\n      <td>...</td>\n      <td>0.002496</td>\n      <td>0.002551</td>\n      <td>0.003039</td>\n      <td>0.002516</td>\n      <td>0.022501</td>\n      <td>0.002507</td>\n      <td>0.002538</td>\n      <td>NaN</td>\n      <td>0.002492</td>\n      <td>0.025401</td>\n    </tr>\n    <tr>\n      <th>93</th>\n      <td>0.002481</td>\n      <td>0.002950</td>\n      <td>0.072558</td>\n      <td>0.089468</td>\n      <td>0.002935</td>\n      <td>0.002473</td>\n      <td>0.002464</td>\n      <td>0.001972</td>\n      <td>0.003473</td>\n      <td>0.002976</td>\n      <td>...</td>\n      <td>0.002452</td>\n      <td>0.002506</td>\n      <td>0.092526</td>\n      <td>0.002471</td>\n      <td>0.045875</td>\n      <td>0.002463</td>\n      <td>0.186210</td>\n      <td>0.002492</td>\n      <td>NaN</td>\n      <td>0.002982</td>\n    </tr>\n    <tr>\n      <th>94</th>\n      <td>0.114162</td>\n      <td>0.003593</td>\n      <td>0.006021</td>\n      <td>0.003004</td>\n      <td>0.003576</td>\n      <td>0.003012</td>\n      <td>0.003002</td>\n      <td>0.002402</td>\n      <td>0.004231</td>\n      <td>0.003625</td>\n      <td>...</td>\n      <td>0.002987</td>\n      <td>0.003052</td>\n      <td>0.003636</td>\n      <td>0.003011</td>\n      <td>0.029021</td>\n      <td>0.003001</td>\n      <td>0.003038</td>\n      <td>0.025401</td>\n      <td>0.002982</td>\n      <td>NaN</td>\n    </tr>\n  </tbody>\n</table>\n<p>95 rows × 95 columns</p>\n</div>"
     },
     "execution_count": 6,
     "metadata": {},
     "output_type": "execute_result"
    }
   ],
   "source": [
    "tv_matrix=norm.TfIdf_Transformer(no_retweets['Tweet_Content'])\n",
    "similarity_df=norm.Similarity_Matrix(tv_matrix)\n",
    "similarity_df"
   ],
   "metadata": {
    "collapsed": false,
    "pycharm": {
     "name": "#%%\n"
    }
   }
  }
 ],
 "metadata": {
  "kernelspec": {
   "display_name": "Python 3",
   "language": "python",
   "name": "python3"
  },
  "language_info": {
   "codemirror_mode": {
    "name": "ipython",
    "version": 2
   },
   "file_extension": ".py",
   "mimetype": "text/x-python",
   "name": "python",
   "nbconvert_exporter": "python",
   "pygments_lexer": "ipython2",
   "version": "2.7.6"
  }
 },
 "nbformat": 4,
 "nbformat_minor": 0
}
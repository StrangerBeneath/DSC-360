{
 "cells": [
  {
   "cell_type": "markdown",
   "source": [
    "# **Title: 7.2 Exercise**\n",
    "# **Author: Michael J. Montana**\n",
    "# **Date: 30 April 2023**\n",
    "# **Modified By: N/A**\n",
    "# **Description: Performs Text Summation on the Movie Fight Club**"
   ],
   "metadata": {
    "collapsed": false,
    "pycharm": {
     "name": "#%% md\n"
    }
   }
  },
  {
   "cell_type": "code",
   "execution_count": 74,
   "outputs": [],
   "source": [
    "import pandas as pd\n",
    "from myclassesv4 import Normalize_Corpus\n",
    "from myclassesv4 import Summarizer\n",
    "import gensim\n",
    "import nltk\n",
    "import os\n",
    "import numpy as np\n",
    "from gensim.models import LsiModel\n",
    "from scipy.sparse.linalg import svds\n",
    "from tqdm import tqdm\n",
    "import matplotlib.pyplot as plt\n",
    "from gensim.summarization import summarize\n",
    "import re\n",
    "import spacy\n",
    "stop_words = nltk.corpus.stopwords.words('english')"
   ],
   "metadata": {
    "collapsed": false,
    "pycharm": {
     "name": "#%%\n"
    }
   }
  },
  {
   "cell_type": "code",
   "execution_count": 75,
   "outputs": [
    {
     "data": {
      "text/plain": "0    FIGHT CLUB\\n\\nBy Jim Uhls\\n\\n\\nPG 1\\n\\nSCREEN ...\ndtype: object"
     },
     "execution_count": 75,
     "metadata": {},
     "output_type": "execute_result"
    }
   ],
   "source": [
    "# Read the input text from a file\n",
    "with open('data/fc_script.txt', 'r') as f:  #https://docs.python.org/3/library/functions.html#open\n",
    "    fc = f.read()\n",
    "corpus = pd.Series(fc)\n",
    "corpus"
   ],
   "metadata": {
    "collapsed": false,
    "pycharm": {
     "name": "#%%\n"
    }
   }
  },
  {
   "cell_type": "code",
   "execution_count": 76,
   "outputs": [
    {
     "name": "stdout",
     "output_type": "stream",
     "text": [
      "Stripping HTML...\n",
      "Expanding Contratcions...\n",
      "Removing Accent Markings...\n",
      "Changing Letter Case to Lower...\n",
      "Removing Special Characters...\n",
      "Removing Stopwords...\n",
      "Removing Numbers...\n",
      "Your Data is Clean\n"
     ]
    }
   ],
   "source": [
    "norm = Normalize_Corpus() #instantiating normalizer class\n",
    "# cleanfc = fc.copy() #creating copy of data\n",
    "text= norm.normalize(corpus,html_stripping=True, contraction_expansion=True, #cleaning data\n",
    "                                             accented_char_removal=True, text_lower_case=True,\n",
    "                                             text_lemmatization=False, special_char_removal=True,\n",
    "                                             stopword_removal=True, digits_removal=True)"
   ],
   "metadata": {
    "collapsed": false,
    "pycharm": {
     "name": "#%%\n"
    }
   }
  },
  {
   "cell_type": "code",
   "execution_count": 77,
   "outputs": [],
   "source": [
    "summarizer = Summarizer() #instantiating summarizer class"
   ],
   "metadata": {
    "collapsed": false,
    "pycharm": {
     "name": "#%%\n"
    }
   }
  },
  {
   "cell_type": "markdown",
   "source": [
    "# <font color=2d5db5>**Using either spaCy or Gensim, create your own text summarization model using a very specific corpus (e.g., dialog from Star Wars). Be careful not to choose too big a corpus or too complex a model because it could take a very long time to build. If you want to go a step further, create a front end for it (using something like Flask).**"
   ],
   "metadata": {
    "collapsed": false,
    "pycharm": {
     "name": "#%% md\n"
    }
   }
  },
  {
   "cell_type": "markdown",
   "source": [
    "# <font color=2d5db5>**Keywords:**"
   ],
   "metadata": {
    "collapsed": false,
    "pycharm": {
     "name": "#%% md\n"
    }
   }
  },
  {
   "cell_type": "markdown",
   "source": [
    "### Collocations:"
   ],
   "metadata": {
    "collapsed": false,
    "pycharm": {
     "name": "#%% md\n"
    }
   }
  },
  {
   "cell_type": "code",
   "execution_count": 78,
   "outputs": [
    {
     "name": "stdout",
     "output_type": "stream",
     "text": [
      "Top N-grams:\n",
      "\t ('jack', 1010)\n",
      "\t ('tyler', 468)\n",
      "\t ('marla', 220)\n",
      "\t ('int', 177)\n",
      "\t ('vo', 164)\n",
      "\t ('pg', 128)\n",
      "\t ('jacks', 115)\n",
      "\t ('back', 107)\n",
      "\t ('night', 98)\n",
      "\t ('room', 80)\n",
      "\n",
      "Top Bigrams:\n",
      "\t ('jack vo', 163)\n",
      "\t ('pg jack', 41)\n",
      "\t ('jack tyler', 41)\n",
      "\t ('fight club', 33)\n",
      "\t ('night jack', 32)\n",
      "\t ('pg int', 31)\n",
      "\t ('tyler jack', 24)\n",
      "\t ('can not', 22)\n",
      "\t ('later jack', 21)\n",
      "\t ('jack walks', 20)\n",
      "\n",
      "Top Trigrams:\n",
      "\t ('pg jack vo', 15)\n",
      "\t ('moments later jack', 12)\n",
      "\t ('int airplane cabin', 10)\n",
      "\t ('int jacks bedroom', 7)\n",
      "\t ('night jack walks', 7)\n",
      "\t ('int hotel room', 7)\n",
      "\t ('paper st house', 7)\n",
      "\t ('int living room', 7)\n",
      "\t ('rule fight club', 7)\n",
      "\t ('int high school', 6)\n"
     ]
    }
   ],
   "source": [
    "fight_club=summarizer.flatten_corpus(text) #flattens the corpus\n",
    "n_gram=summarizer.get_top_ngrams(corpus=fight_club, ngram_val=1, limit=10) #calling function returning unigrams\n",
    "bigram=summarizer.get_top_ngrams(corpus=fight_club, ngram_val=2, limit=10) #calling function returning bigrams\n",
    "trigram=summarizer.get_top_ngrams(corpus=fight_club, ngram_val=3, limit=10) #calling function returning trigrams\n",
    "\n",
    "print('Top N-grams:')\n",
    "for item in n_gram:\n",
    "    print('\\t',item)\n",
    "print('\\nTop Bigrams:')\n",
    "for item in bigram:\n",
    "    print('\\t',item)\n",
    "print('\\nTop Trigrams:')\n",
    "for item in trigram:\n",
    "    print('\\t',item)"
   ],
   "metadata": {
    "collapsed": false,
    "pycharm": {
     "name": "#%%\n"
    }
   }
  },
  {
   "cell_type": "code",
   "execution_count": 79,
   "outputs": [
    {
     "name": "stdout",
     "output_type": "stream",
     "text": [
      "Collocation Finder:\n",
      "\tBigram Association Measures:\n",
      "\t\t [('jack', 'vo'), ('jack', 'tyler'), ('pg', 'jack'), ('fight', 'club'), ('night', 'jack'), ('pg', 'int'), ('tyler', 'jack'), ('later', 'jack'), ('jack', 'looks'), ('jack', 'walks')]\n",
      "\t\t [('absenteeism', 'unpresentable'), ('accept', 'fate'), ('accident', 'statistics'), ('according', 'ancient'), ('accounts', 'receipt'), ('accurate', 'description'), ('acts', 'vandalism'), ('actuary', 'twice'), ('age', 'email'), ('allsinging', 'alldancing')]\n",
      "\tTrigram Association Measures:\n",
      "\t\t [('pg', 'jack', 'vo'), ('moments', 'later', 'jack'), ('int', 'airplane', 'cabin'), ('int', 'hotel', 'room'), ('int', 'jacks', 'bedroom'), ('int', 'living', 'room'), ('night', 'jack', 'walks'), ('paper', 'st', 'house'), ('rule', 'fight', 'club'), ('int', 'hallway', 'jack')]\n",
      "\t\t [('absenteeism', 'unpresentable', 'appearance'), ('according', 'ancient', 'chinese'), ('accounts', 'receipt', 'required'), ('ammonium', 'oxalate', 'potassium'), ('ancient', 'chinese', 'custom'), ('ar', 'carbine', 'gasoperated'), ('armalite', 'ar', 'carbine'), ('attempt', 'levity', 'chokes'), ('average', 'outofcourt', 'settlement'), ('birth', 'defects', 'brake')]\n"
     ]
    }
   ],
   "source": [
    "summarizer.collocation_finder(text) #returns the top 10 collocation pairs and triplets"
   ],
   "metadata": {
    "collapsed": false,
    "pycharm": {
     "name": "#%%\n"
    }
   }
  },
  {
   "cell_type": "markdown",
   "source": [
    "### Weighted Tag-Based Phrase Extraction"
   ],
   "metadata": {
    "collapsed": false,
    "pycharm": {
     "name": "#%% md\n"
    }
   }
  },
  {
   "cell_type": "code",
   "execution_count": 80,
   "outputs": [
    {
     "name": "stdout",
     "output_type": "stream",
     "text": [
      "Stripping HTML...\n",
      "Expanding Contratcions...\n"
     ]
    },
    {
     "name": "stderr",
     "output_type": "stream",
     "text": [
      "C:\\Users\\michaelmontana\\PycharmProjects\\pythonProject\\venv\\lib\\site-packages\\bs4\\__init__.py:435: MarkupResemblesLocatorWarning: The input looks more like a filename than markup. You may want to open this file and pass the filehandle into Beautiful Soup.\n",
      "  warnings.warn(\n"
     ]
    },
    {
     "name": "stdout",
     "output_type": "stream",
     "text": [
      "Removing Accent Markings...\n",
      "Removing Special Characters...\n",
      "Removing Numbers...\n",
      "Your Data is Clean\n"
     ]
    },
    {
     "data": {
      "text/plain": "0       FIGHT CLUB By Jim Uhls PG SCREEN BLACK JACK VO\n1    People were always asking me did I know Tyler ...\n2                                          FADE IN INT\n3    SOCIAL ROOM TOP FLOOR OF HIGHRISE NIGHT TYLER ...\n4                              They struggle intensely\ndtype: object"
     },
     "execution_count": 80,
     "metadata": {},
     "output_type": "execute_result"
    }
   ],
   "source": [
    "# creating precleaned data with different parameters\n",
    "sent_tokens = nltk.sent_tokenize(fc)\n",
    "text_chunks=pd.Series(sent_tokens)\n",
    "text_chunks= norm.normalize(text_chunks,html_stripping=True, contraction_expansion=True,\n",
    "                                             accented_char_removal=True, text_lower_case=False,\n",
    "                                             text_lemmatization=False, special_char_removal=True,\n",
    "                                             stopword_removal=False, digits_removal=True)\n",
    "text_chunks.head(5)"
   ],
   "metadata": {
    "collapsed": false,
    "pycharm": {
     "name": "#%%\n"
    }
   }
  },
  {
   "cell_type": "code",
   "execution_count": 81,
   "outputs": [
    {
     "name": "stdout",
     "output_type": "stream",
     "text": [
      "Chunks:\n",
      " [['fight club', 'jim uhls pg screen black jack vo'], ['people', 'tyler durden'], ['fade int'], ['social room top floor highrise night tyler', 'barrel', 'handgun', 'jacks mouth'], [], ['tyler', 'blond handsome eyes', 'frightening intensity', 'jack brunette', 'dry sort', 'way'], ['disheveled jack'], ['tyler'], [], ['jack', 'uh aai jack vo'], ['gun barrel', 'teeth', 'vowels'], ['jack', 'barrel', 'side', 'mouth'], ['jack', 'vampires'], ['jack', 'gun'], ['tyler', 'control'], ['jack vo'], ['tongue', 'silencer', 'barrel', 'gun'], ['noise', 'gases'], ['tylers whole murdersuicide thing', 'gun barrel'], ['tyler', 'watch'], ['tyler', 'minutes'], ['jack', 'stories'], ['pg jack vo'], ['building', 'minutes'], ['percent concentration', 'nitric acid', 'times', 'much sulfuric', 'ice'], ['dropbydrop'], ['nitroglycerin'], ['tyler'], ['jack', 'shove tyler'], ['floor'], ['gun', 'slides'], ['dash', 'gun'], ['tyler', 'gun'], ['jack vo'], ['demolitions committee', 'project mayhem', 'foundation columns', 'building', 'blasting gelatin'], ['primary charge', 'base charge', 'spot tyler', 'point', 'sky'], ['tyler', 'jack', 'glass wall', 'forces', 'city skyline'], ['tyler', 'world'], ['minutes'], ['jack vo'], ['minutes'], ['move jacks face'], ['slowly pull back', 'jacks face'], ['two large breasts', 'big moose', 'man', 'years'], ['jack', 'bobs arms', 'embrace'], ['bob'], ['shoulders', 'long draw', 'drop drop', 'sobs'], ['jack', 'bob squeezes', 'return', 'face'], ['jack vo'], ['bob', 'tits'], ['pg pull back wide int'], ['high school gymnasium night', 'men', 'emotional tones'], ['pairs', 'heads', 'way wrestlers'], ['door temporary sign', 'stand remaining men together'], ['jack vo'], ['support group', 'men', 'testicular cancer'], ['big moosie', 'bob'], ['bob', 'gym'], ['product endorsements'], ['jack', 'sixtime champion'], ['jack vo'], ['big cheesebread'], ['always', 'life story'], ['men'], ['jack yes'], ['men'], ['men'], ['jack vo'], ['bob'], ['months', 'testicles'], ['therapy'], ['tits', 'testosterone', 'body', 'estrogen'], ['head fit', 'tits', 'way', 'gods'], ['bob hugs', 'jacks eyes'], ['bob maybe', 'seminoma'], ['seminoma', 'hundred percent survival rate'], ['leader steps', 'signals everyone'], ['leader okay'], ['group'], ['pg everyone', 'cluster', 'arms', 'shoulders', 'big mass', 'goodwill'], ['jack vo'], [], ['wait'], [], [], ['int'], ['jacks bedroom night jack', 'bed staring', 'ceiling'], ['wall'], ['fly', 'face'], [], ['jack vo'], ['months'], [], ['int'], ['doctors office day jack eyes', 'pale sits', 'doctor', 'studies', 'bemusement'], ['doctor', 'insomnia'], ['jack maybe'], ['look', 'face'], ['doctor'], ['jack', 'something'], ['jack vo'], ['little redandblue tuinal', 'seconals'], ['doctor', 'w', 'healthy natural sleep'], ['chew valerian root', 'exercise'], ['doctor ushers jack', 'door'], ['int'], ['hallway', 'doctor', 'jack', 'chart', 'door'], ['jack', 'pain'], ['pg doctor', 'pain'], ['meyer high', 'tuesday night', 'guys', 'testicular cancer'], ['doctor', 'room'], ['jack stares'], ['move jacks face'], ['pull back wide int'], ['high school gymnasium night jack', 'group', 'men', 'bob', 'group member speak'], ['speaker', 'skin', 'sunken eyes'], ['speaker', 'kids'], ['boys', 'girl'], ['mindy', 'girls', 'boy'], ['anything'], ['speaker', 'sad smile'], ['men', 'mood'], ['speaker well', 'month', 'new husband'], ['thank god'], ['speaker', 'weeps uncontrollably'], ['jack'], ['breathes'], ['cut int'], ['gym later leader herds people', 'pairingoff'], ['leader find partner'], ['bob', 'jack', 'feet'], ['jack', 'experience face', 'intense empathy'], ['jack vo'], ['big moosie', 'eyes', 'tears'], ['knees', 'invisible steps'], ['bob', 'jack', 'embrace'], ['jack vo'], ['top'], ['pg bob', 'grown kids', 'calls'], ['jack vo'], ['strangers', 'kind', 'honesty', 'big rubbery'], ['jacks'], ['bob', 'breaks', 'head', 'jacks shoulder', 'jacks face'], ['jack vo'], ['oblivion dark'], ['jacks body', 'sobs'], ['arms', 'bob'], ['jack vo'], ['freedom'], ['hope', 'freedom'], ['jack', 'bob'], ['bobs', 'wet mask', 'jacks face'], ['jack vo'], ['babies', 'well'], ['int'], ['jacks bedroom night jack'], ['jack vo'], [], ['int'], ['small protestant church night jack', 'group hug', 'sickly people men', 'women'], ['view', 'sign', 'door free', 'clear'], ['jack vo'], [], ['int'], ['office building basement night jack', 'group hug', 'sickly people'], [], ['jack', 'woman'], ['arms', 'back'], [], ['view', 'sign', 'door onward', 'upward'], ['pg jack vo'], ['anything people'], ['harder'], ['harder'], ['int'], ['catholic cathedral night jack', 'embrace', 'young man'], [], ['jack vo'], [], ['cancer', 'warm little center', 'life', 'world'], ['int'], ['public building conference room night everyone', 'seats', 'leader', 'microphone'], ['leader okay everyone', 'eyes'], ['pain', 'white ball', 'light'], ['secret path', 'cave', 'power animal'], ['ext'], ['entrance cave jacks imagination jack', 'entrance', 'penguin'], ['penguin', 'smiles'], ['penguin slide'], ['ext'], ['street night jack', 'doorway', 'goodbye', 'people'], ['sidewalk', 'face', 'peace'], ['jack vo'], ['every evening', 'every evening'], [], ['cut back pg int'], ['high school gymnasium resuming jack', 'embrace', 'bob'], ['jack vo'], ['bob', 'testicles'], ['face', 'tits', 'vacation'], ['marla singer enters'], ['short matte black hair', 'big dark eyes', 'character', 'japanese animation'], ['marla', 'cancer right'], ['cigarette', 'lips'], ['men gape'], ['jack vo'], ['everything'], ['cut int'], ['high school gymnasium later everyone pairedoff'], ['move room', 'catch snippets', 'intimate painful conversation'], ['find jacks face', 'bobs', 'eyes', 'deep hostility'], ['jack vo'], ['liar'], ['faker'], ['liar'], ['move room', 'conversation'], ['find marlas face', 'shoulder', 'man', 'smoking', 'smoke rings'], ['jack vo'], ['chick marla singer', 'testicular cancer'], ['diseases'], ['liar'], ['overcome', 'melanoma group monday night int'], ['small protestant church night marla', 'group', 'member speaks'], ['jack'], ['pg int'], ['catholic cathedral night everyone', 'eyes', 'speaker', 'meditation'], ['various coughing', 'room'], ['jacks eyes', 'marla'], ['eyes', 'cigarette'], ['jack vo'], ['seize day', 'tuberculosis group friday night'], ['cut back int'], ['high school gymnasium resuming jack', 'marla'], ['eyes briefly', 'roll'], ['another puff', 'cigarette'], ['jack vo'], ['marla big tourist'], ['faker'], ['faker'], ['lie', 'lie'], ['nothing'], [], ['int'], ['jacks bedroom night jack', 'lies', 'top', 'bed', 'cordless phone', 'ear'], ['ceiling', 'swats', 'fly'], ['jack vo'], [], ['jack', 'something', 'phone'], [], ['jack', 'thirty minutes'], ['spread', 'floor', 'jacks feet', 'invoices', 'credit cards'], ['jack yes'], ['part', 'balance', 'visa', 'rate'], ['wait'], ['visa'], ['okay', 'mastercard', 'pg jack contd look', 'person'], ['wilmington'], ['credit cards', 'main headquarters'], [], [], ['account rep'], ['wait', 'jack', 'hold'], ['int'], ['bathroom moments later jack', 'toilet'], ['magazine rack'], ['ikea catalogues pottery barn catalogues', 'kind'], ['jack', 'ikea catalog'], ['jack vo'], ['slave', 'ikea nesting instinct'], ['something', 'clever njurunda coffee tables', 'shape', 'lime green yin', 'orange yang move', 'photo', 'tables'], ['cut int'], ['jacks living room night completely empty'], ['jack vo'], [], ['njurunda tables'], ['insert photo sofas jack vo'], ['haparanda sofa group int'], ['jacks living room night sofa group appears'], ['jack vo'], ['orange slip covers', 'erika pekkari'], ['johanneshov armchair', 'strinne green stripe pattern'], ['armchair appears'], ['pg jack vo'], ['rislampahar lamps', 'wire', 'unbleached paper'], ['lamp appears'], ['jack vo'], ['vild hall clock', 'galvanized steel'], ['clock appears'], ['jack vo'], ['klipsk shelving unit'], ['unit appears'], ['int'], ['bathroom resuming jack', 'page', 'catalogue', 'fullpage photo', 'entire kitchen', 'dining room set'], ['jack vo'], ['kind', 'room', 'defines', 'person'], ['jack', 'catalog', 'spread'], ['pan', 'magazine stack', 'old tattered playboy'], ['jack vo'], ['playboys', 'ikea'], ['int'], ['jacks kitchen dining room continuous', 'photo', 'catalogue'], ['jack walks', 'cordless phone', 'ear'], ['jack', 'balance', 'interest rate'], ['jack', 'whole kitchen', 'room', 'living room'], ['jack vo'], ['things'], ['jack', 'cabinet', 'plate'], ['pg jack vo'], ['handblown green glass dishes', 'tiny bubbles', 'imperfections', 'indigenous peoples', 'wherever'], ['refrigerator'], [], ['jack', 'jar', 'mustard', 'butter knife'], ['int'], ['bedroom later jack', 'bed phone', 'ear'], ['jack', 'live person'], ['jack', 'single number waits', 'punches another single number listens'], ['looks', 'bills', 'floor', 'punches entire credit card number'], ['jack vo'], ['next support group', 'meditation', 'ball', 'light', 'chakras', 'time', 'little bitch marla singer', 'arms', 'sides', 'jack marla', 'big tourist'], [], ['jack', 'eyes'], [], ['another number', 'phone'], ['levitating steaming starbucks paper coffee cup move', 'side', 'front', 'face'], ['int'], ['copy room day jack', 'copy machine'], ['starbucks cup sits', 'lid', 'forth', 'machine', 'copies'], ['jack vo'], ['insomnia nothing'], ['everything'], ['everything', 'copy', 'copy', 'copy'], ['people', 'copies', 'starbucks cups'], ['pg int'], ['office area day floortoceiling glass', 'walls'], ['industrial lowpile gray carpet'], ['walls', 'upholstered plywood'], ['small offices', 'hallway', 'large office'], ['int'], ['jacks office jack', 'starbucks cup stares', 'starbucks bag', 'floor', 'newspapers'], ['jack vo'], ['deep space exploitation', 'corporations', 'everything'], ['ibm stellar sphere'], ['philip morris galaxy'], ['planet starbucks'], ['jack', 'pudgy man', 'late thirties enters'], ['starbucks', 'hand pulls', 'chair', 'stack', 'reports', 'jacks desk'], ['jacks', 'superficiallyfriendly way'], ['pudgy man', 'week'], ['redflags'], ['jack vo'], ['tuesday'], ['boss', 'cornflowerblue tie'], ['jack listless managementspeak', 'current reports', 'status upgrade'], ['pudgy man boss', 'primary action items'], ['jack vo'], ['pep'], ['must', 'latte enema'], ['boss', 'flight coupons'], ['road', 'snags'], ['itinerary jack', 'yawn', 'pretends'], ['pg jack vo'], [], ['int'], ['small protestant church night jack walks', 'crowd'], ['leader okay everyone'], ['chloe'], ['jack catches sight', 'marla scowls'], ['lectern', 'chloe pale sickly girl', 'skin stretches', 'bones'], ['head bandage'], ['beginning', 'speech jack vo'], ['chloe', 'way joni mitchells skeleton', 'party', 'extra nice', 'everyone'], ['chloe status update'], [], ['much certainty'], ['pretty', 'place'], ['one', 'sex'], ['death', 'last time'], ['pornographic movies', 'apartment', 'lubricants', 'amyl nitrate'], ['leader'], ['way', 'control', 'microphone'], ['leader thank'], ['everyone', 'eyes', 'meditation'], ['cave', 'power animal'], ['ext'], ['entrance cave jacks imagination jack', 'entrance', 'marla', 'cigarette', 'smoke', 'face', 'eyes', 'condescension'], ['marla slide'], ['pg int'], ['chruch resuming jacks eyes', 'marla'], ['smoke', 'eyes'], ['int'], ['church later leader', 'eyes', 'group'], ['leader good'], [], ['pair', 'oneonone'], ['pick someone'], ['everyone stands', 'mills', 'pairingoff'], ['jack', 'spectre', 'chloe', 'towards'], [], ['time'], ['chloe hello cornelius'], ['jack vo'], ['real name', 'support groups'], ['chloe', 'signs', 'improvement'], ['jack vo'], ['everyone'], ['parasite', 'agent'], ['twisted dying mouth'], ['eyes', 'desperation'], ['jacks', 'trembles', 'sincere attempt', 'levity chokes', 'jack', 'pirate'], ['chloe'], ['jack', 'laugh'], ['marla', ''], ['someone'], ['people', 'pairedoff'], ['jack', 'quick nod', 'chloe', 'darts', 'marla'], ['chloe watches', 'sad surprise'], ['stay jack marla', '', 'periphery'], ['ear'], ['jack'], ['pg marla kay'], [], ['jack', 'faker'], [], ['okay', 'brainy brainfood philosophy way'], ['way chloe'], ['leader tell person'], ['marla', 'nametag cornelius'], ['leader share'], ['jack', 'groups'], [], ['marla'], ['jack'], ['marla telling'], [], ['jack'], ['marla go'], ['mediator let'], ['marla', 'head', 'jacks'], ['jack', 'head'], [], ['jack', 'serious time', 'groups', 'year'], ['marla must'], ['pg jack anyone', 'time'], ['marla'], ['jack'], ['answer'], ['leader passes', 'jack', 'marla'], ['leader open'], ['share'], ['jack'], ['people', 'turn'], ['everything', 'credit card debts', 'sad radio songs', 'hair', 'window'], ['marla', 'lump'], ['breast cancer support group'], ['lump', 'benign'], ['monday fix'], [], ['people'], ['jack', 'addiction'], ['marla yeah jack', 'sullen'], [], ['closing prayer'], ['jack look', 'group', 'faker present'], ['marlas mood hardens'], ['marla well'], ['leader oh', 'pg jack', 'week'], ['marla', 'room'], ['jack'], ['leader help'], ['ext'], ['church night continuous marla', 'sidewalk'], ['jack', 'tuberculosis', 'marla', 'tuberculosis'], ['smoking'], ['jack', 'testicular cancer', 'contest'], ['marla', 'balls'], ['right'], ['jack'], ['marla'], ['jack', 'marla', 'int'], ['continuous', 'authority', 'unwatched dryer'], ['clothes', 'table', 'sorts', 'jeans pants', 'shirts'], ['marla', 'parasites'], ['jack', 'parasites'], ['blood parasites', 'marla', 'brain parasites'], ['another dryer', 'thing'], ['pg jack okay'], ['blood parasites', 'organic brain dementia', 'marla'], ['jack', 'whole brain'], ['marla'], ['jack well', 'blood parasites'], [], ['marla gathers', 'chosen garments', 'heads', 'door'], ['past jack'], ['ext'], ['sidewalk continuous jack'], ['jack', 'clothes'], ['honk'], ['jack starts'], ['marlas', 'street', 'traffic'], ['front', 'cars', 'halt', 'horns'], ['jack dashes'], ['marla heads', 'thrift store'], ['jack'], ['int'], ['thrift store continuous marla', 'clothes', 'back counter'], ['old clerk sifts', 'clothes marks', 'pad'], ['jack'], ['clothes'], ['marla steps', 'jacks foot'], ['pain'], ['marla', 'clerk', 'yes', 'clothes'], ['clerk', 'various amounts'], ['pg marla'], ['seventh day'], ['bowel cancer'], ['jack vo'], ['girl', 'homework'], ['jack', 'bowel cancer'], ['clerk', 'marla', 'jack strange look', 'money', 'marla'], ['marla'], [], ['jack'], ['third sunday', 'month'], ['marla deal'], ['hands'], ['jack', 'marla'], ['marla'], ['jack let', 'big deal'], ['door'], ['jack', 'go'], ['marla', '', 'big deal'], ['ext'], ['sidewalk continuous jack'], ['jack uh marla'], ['phone numbers'], ['marla'], ['jack', 'case', 'nights'], ['pg marla uhhunh'], [], ['business card', 'pen'], ['home number', 'back'], ['hand', 'number', 'palm'], ['quick grin', 'palm', 'middle', 'street', 'screeching', 'tires'], ['card'], ['marla', 'name'], [], ['cornelius'], ['stupid names', 'group'], ['jack', 'traffic noise'], ['marla', 'head'], ['bus', 'view'], ['jack vo'], ['marlas philosophy', 'life', 'moment'], ['tragedy', 'life'], ['int'], ['airplane cabin day', 'plane touches', 'landing', 'cabin bumps jacks eyes'], ['jack vo'], ['ohare'], ['int'], ['airplane cabin day jack snaps'], ['jack vo'], ['seatac'], ['ext'], ['highway dusk rear end', 'car', 'side', 'road'], ['jack', 'car', 'document'], ['sun sets'], ['int'], ['airport night jack', 'gate counter'], ['attendant smiles'], ['attendant checkin', 'flight', 'hours sir'], ['pg jack', 'watch', 'clock'], ['eyes', 'watch'], ['jack vo'], ['pacific mountain central'], ['hour', 'hour'], ['life', 'minute', 'time'], ['int'], ['airplane cabin day jacks eyes', 'plane lands'], ['jack vo'], ['air harbor international'], ['int'], ['airport walkway jack', 'conveyor belt briefcase', 'feet', 'flow', 'belt'], ['tired eyes', 'people', 'opposite conveyor'], ['jack vo'], ['different time', 'different place', 'different person'], ['jacks eyes', 'sight', 'tyler', 'opening sequence', 'opposite conveyor belt'], [], ['int'], ['airplane cabin flight night jack', 'businessman'], ['idle conversation', 'jacks foldout tray'], ['attendants hands', 'coffee', 'small packet', 'sugar', 'small container', 'cream'], ['jack vo'], ['charm', 'tiny life'], ['sugar', 'cream'], ['cut hands', 'plastic dinner'], ['jack', 'various containers'], ['jack vo'], ['butter', 'salt'], ['cordon blue'], ['pg int'], ['hotel room bathroom night jack', 'teeth'], ['jack vo'], ['singleuse toothbrush'], ['mouthwash single serving soap'], ['jack', 'individual', 'qtip'], ['bathroom', 'main area', 'sits', 'bed'], ['television'], ['sheraton channel', 'waiters', 'people', 'large banquet room'], ['jack', 'teeth feels something', 'bed'], ['small mint'], ['int'], ['airplane cabin flight night jack', 'frumpy woman'], ['jack', 'food', 'bite'], ['bald man'], ['another bite', 'businessman'], ['another bite', 'business woman'], ['jack vo'], ['people', 'flight', 'friends'], ['takeoff', 'landing', 'time'], ['int'], ['airplane cabin landing jacks eyes'], ['jack vo'], ['logan'], ['ext'], ['concrete lot day surrounded', 'cinderblock walls'], ['technicians', 'uniform lead jack', 'warehouse door'], ['burntout shell', 'wrecked automobile'], ['pg int'], ['warehouse continuous', 'jack', 'briefcase', 'notes', 'form'], ['jack vo'], ['recall coordinator'], ['job', 'formula'], [], ['technician', 'baby', 'window'], ['points'], ['jack vo'], ['story problem'], ['new car', 'company', 'boston', 'miles', 'hour'], ['rear differential'], ['teenagers braces', 'backseat ashtray'], ['kind', 'good antismoking ad'], ['jack vo'], ['car crashes', 'burns', 'everyone'], ['recall'], ['father'], ['fat', 'drivers', 'dye', 'shirt'], ['kind', 'modern art'], ['jack vo'], ['number', 'vehicles', 'field', 'probable rate', 'failure b multiply result', 'average outofcourt settlement c'], ['times b times c equals'], ['x', 'cost', 'recall'], ['int'], ['airplane cabin taking night next', 'jack chubby', 'lady gawks'], ['lady'], ['car company'], ['pg jack major one'], ['lady oh'], ['jack', 'attention', 'window', 'plane ascends'], ['ladys voice fades'], ['jack', 'pelican get sucked', 'turbine'], ['face', 'plane buckles cabin'], ['people'], ['oxygen masks'], ['jack vo'], ['life insurance pays', 'triple', 'business trip'], ['forceful impact', 'ground', 'people', 'jack lurch forward jerking', 'seatbelts magazines', 'objects'], ['jack vo'], ['expense accounts receipt', 'twentyfive dollars'], ['ball fire', 'rear', 'cabin', 'incinerates everything everybody', 'jack', 'position', 'seat', 'bland expression'], ['jack vo'], ['haircuts'], ['matters', 'bad breath'], ['ding'], ['seatbelt light'], ['everything', 'normal'], ['jack vo'], ['fantasy'], ['luck'], ['jacks eyes'], [], ['voice'], ['voice', 'ways', 'napalm'], ['mix equal parts', 'gasoline', 'frozen orange juice'], ['pg jacks eyes', 'tyler', 'window'], ['jack', 'tyler', 'mix equal parts', 'gasoline', 'diet cola'], ['dissolve', 'cat litter', 'gasoline', 'mixture'], ['jacks', 'fades'], ['tyler', 'grins'], ['seat', 'front', 'briefcase'], ['jack', 'trepidation'], ['jack vo'], ['tyler', 'hand jack', 'tyler', 'hands'], ['tyler tyler durden'], ['masks', 'planes'], ['jack supply oxygen'], ['tyler', 'sharp answer'], ['oxygen'], ['giant panicked breaths', 'fate'], ['tyler', 'safety instruction card', 'seat pocket', 'jack', 'drawn figures'], ['tyler', 'face'], ['jack'], ['jack'], ['tyler'], ['jack', 'living'], ['tyler'], [], ['smug little shit'], ['jack laughs'], ['briefcase', 'seat', 'front'], ['pg jack', 'briefcase'], ['tyler', 'latches', 'briefcase'], ['beat', 'jacks expression'], ['tyler swings lid', 'full bounty', 'quaintlywrapped bars', 'soap'], ['tyler', 'soap'], ['jack one'], ['jack'], ['tyler', 'nitric acid', 'process'], ['enough soap', 'world'], ['jack', 'bar', 'soap'], ['tyler slowly smiles', 'head'], ['tyler', 'blank boarding pass'], ['small stencil', 'pencil', 'seat number'], ['stamp', 'ink pad'], ['pass'], ['jack uh', 'wilmington'], ['tyler'], ['jack'], ['tyler', 'briefcase', 'stands'], ['tyler excuse'], ['jack', 'tyler', 'aisle'], ['jack'], ['jack', 'tyler business card'], ['tyler snatches', 'number', 'jack'], ['jack tyler', 'interesting singleserving friend'], ['beat', 'tyler stares'], ['jack', 'chance', 'bit'], ['jack', 'everything', 'tyler', 'concept'], [], ['jack thank'], ['tyler'], ['clever'], ['jack', 'well'], ['tyler keep'], [], ['jack sits', 'watches tyler', 'curtain', 'first class'], ['tyler', 'bogus', 'pass', 'attendant', 'curtain'], ['int'], ['baggage claim area wilmington night utterly empty', 'baggage', 'jack', 'security task force man', 'people'], ['security tfm', 'receiver', 'ear', 'official phone', 'wall'], ['security tfm', 'jack throwers'], ['modern bombs'], ['jack throwers'], ['security tfm baggage handlers'], ['suitcase', 'throwers', 'police'], ['jack suitcase'], ['pg security tfm nine', 'ten', 'electric razor'], ['', 'ten', 'dildo'], ['man'], ['airline policy', 'ownership', 'event', 'dildo'], ['indefinite article dildo'], ['dildo'], ['jack vo'], ['everything', 'bag'], ['six white shirts', 'black trousers', 'pair underwear alarm clock contact', 'stuff', 'cordless electric razor'], ['security tfm', 'phone yeah'], ['fuck', 'recording'], ['security tfm', 'code numbers', 'phone waits'], ['cut ext'], ['empty runway night solitary suitcase', 'concrete'], ['kabom'], ['suitcase explodes'], ['cut int'], ['baggage claim area resuming security tfm', 'hold entertains jack'], ['security tfm', 'jack', 'industry slang', 'flight attendant'], ['air mattress'], ['phone yeah'], [], ['security tfm', 'jack', 'head', 'phone shrugs'], ['ext'], ['airport drive moments later jack waits', 'curb', 'taxi approaches'], ['jack vo'], ['things'], ['spider', 'eggs', 'skin', 'face', 'larva', 'baby spiders', 'nostrils'], ['pg int'], ['taxi moving night', 'residential street'], ['jack', 'tall grey bland building', 'corner'], ['jack vo'], ['home', 'condo', 'fifteenth floor', 'filing cabinet', 'widows', 'young professionals'], ['taxi', 'intersection'], ['jack vo'], ['walls', 'solid concrete'], ['foot', 'concrete', 'hearing aid go', 'game shows', 'full blast'], ['taxi', 'corner', 'jack', 'front', 'building'], ['diffuse cloud', 'smoke', 'blownout section', 'fifteenth floor'], ['firetrucks policecars', 'mob', 'lobby area'], ['jack vo'], ['volcanic blast', 'gas', 'debris', 'furniture', 'personal effects', 'window', 'condo', 'gutted charred concrete hole', 'cliffside', 'building'], ['ext'], ['street front', 'building jack gaping', 'sight', 'cabbie money'], ['taxi'], ['jack'], ['jack vo'], ['things'], ['jack', 'building'], ['fray', 'people pushes', 'lobby'], ['doorman', 'sad smile', 'head'], ['jack', 'elevator'], ['doorman', 'nothing'], ['jack', 'button waits'], ['doorman'], ['pg doorman', 'unit'], ['police orders'], ['arson'], ['elevator doors'], ['jack hesitates'], ['doors'], ['doorman', 'someone'], ['jack heads', 'lobby doors'], ['doorman'], ['ext'], ['condo building continuous jack', 'past smoking charred debris flash', 'orange', 'yang table clock face', 'hall clock part', 'arm', 'green armchair'], ['feet crunch glass'], ['payphone'], ['doorman'], ['cut close shot jacks stove hissing'], ['jack vo'], ['police', 'someone', 'pilot', 'burner'], ['ext'], ['payphone resuming jack', 'receiver', 'numbers', 'phone'], ['doorman lot', 'young people', 'world', 'many things'], ['close shot jacks entire condo kitchen living room sound', 'hiss'], ['jack vo'], ['gas', 'condo', 'floor', 'ceiling', 'every room'], ['seventeenhundred square feet', 'high ceilings', 'days', 'days'], ['pg ext'], ['payphone resuming jacks fingers', 'numbers'], ['doorman lot', 'young people'], ['insert close base jacks refrigerator jack vo'], ['refrigerators'], ['click'], ['kablam'], ['screen goes white'], ['ext'], ['payphone resuming jack', 'pocket', 'business card', 'number tyler'], [], ['rings', 'rings'], [], ['jack vo'], ['tyler durden'], ['rescue'], ['doorman young people', 'whole world'], ['jack vo'], ['swedish furniture'], ['clever art'], ['doorman', 'lot'], ['jack vo'], ['may'], ['may'], ['may'], [], ['jack sighs', 'phone'], ['doorman', 'phone rings'], ['jack grabs'], ['jack hello'], ['tylers voice'], ['jack tyler'], ['pg ext'], ['lous tavern night small building', 'middle', 'large concrete parking lot'], ['street lamps', 'lot'], ['freeway'], ['int'], ['lous tavern jack', 'tyler sit', 'table', 'room'], ['halfempty pitcher', 'beer shows', 'foam scum', 'previous refill'], ['drunken guys', 'table', 'opposite side', 'bar', 'glancing', 'hostile manner'], ['tyler'], ['last sofa', 'life matter', 'sofa issue'], ['right set', 'dishes'], ['right bed'], ['drapes'], ['rug'], [], ['life'], ['jack'], ['tyler', 'condo', 'nothing'], ['jack'], ['tyler', 'thing'], ['jack yeah'], ['tyler'], ['terrible fucking tragedy'], ['jack'], ['pg tyler', 'lot', 'nice perfect neat little shit'], ['jack fuck'], ['tyler wow'], [], ['jack yeah'], ['tyler', 'family'], ['jack mother', 'hysterics'], ['dad'], ['years'], ['new city', 'another woman', 'kids'], ['years new city new family'], ['franchises'], ['tyler', 'snorts', 'head'], ['generation', 'men', 'women'], [], ['jack'], ['third pitcher', 'beer'], ['jack huh'], ['tyler', 'shit', 'place'], ['jack well uh tyler', 'shit', 'place'], ['jack', 'problem'], ['pg tyler', 'problem'], ['jack', 'place'], ['tyler yeah'], ['jack thanks'], ['tyler', 'favor'], ['jack'], ['tyler'], ['freeze picture jack vo'], ['little bit', 'tyler durden'], ['extreme closeup film frame', 'penis'], ['int'], ['projectionist room theatre night jack', 'foreground faces camera'], ['background tyler', 'bench', 'individual frames', 'movies'], ['projector', 'film'], ['jack tyler', 'nights', 'projectionist'], ['film', 'big reel tyler', 'jack', 'camera'], ['tyler', 'old theatre', 'projectors'], ['projectors', 'exact second', 'audience', 'break', 'reel starts', 'reel'], ['dots', 'screen', 'end', 'reel', 'warning'], ['pg jack', 'single frames', 'genitalia', 'porno movies', 'family films'], ['tyler onetwentyforth'], ['penis'], ['slippery', 'one'], ['jack', 'tyler', 'audience', 'parents', 'children', 'animal adventure movie plays'], ['children'], ['start crying'], ['throw'], ['jack tyler', 'int'], ['large banquet hall night tyler', 'cart', 'many tables', 'soup'], ['jack', 'position'], ['facing camera'], ['jack banquet waiter', 'luxurious pressman hotel'], ['guests', 'resplendent clothes', 'wealth', 'privilege'], ['waiters', 'snaps', 'finger'], ['complaints', 'gunshots'], ['stiffnecked catering manager', 'waiters'], [], ['int'], ['service elevator night jack', 'pan', 'tyler standing', 'cart', 'giant soup tureen'], ['hands', 'open fly', 'position', 'soup'], ['tyler'], [], ['camera pans', 'original position', 'jack', 'camera'], ['jack', 'guerrilla terrorist', 'food service industry'], ['tyler os'], ['shit'], [], ['pg', 'beat sound', 'water splashing floor'], ['jack peeks', 'tyler', 'water glass', 'hand hand', 'crotch'], ['tyler oh yeah'], ['yeah'], ['jack', 'camera'], ['jack', 'creme brulee', 'creme', 'mushroom soup'], ['go'], [], ['jack well', 'idea'], ['ext'], ['parking lot tavern resuming tyler', 'jack', 'bar jack', 'head'], ['jack'], ['tyler hit'], ['tyler', 'jack', 'open area lit', 'streetlamp'], ['jack', 'tyler'], ['tyler'], [], ['virgins'], [], ['jack', 'fight'], ['tyler'], [], ['jack', 'good isnt'], ['tyler listen'], ['one'], ['pg jack'], ['jack stares'], ['drunken', 'ones', 'distant perimeter', 'fight'], ['jack glances', 'tyler'], ['jack', 'anyone', 'life'], ['tyler go crazy'], [], ['jack'], ['face', 'stomach'], ['tyler surprise'], ['jack swings wide clumsy roundhouse', 'tylers'], ['dull soft flat sound'], ['tylers', 'turns'], ['jack shit'], ['sorry'], [], [], ['tyler', 'hell'], [], ['tyler', 'straight punch', 'jacks chest'], ['impact', 'dull barelyaudible sound', 'jack', 'car'], ['guys whoop', 'clap'], ['jacks eyes', 'tears'], ['tyler', 'heavily', 'sprout beads', 'sweat'], ['tyler'], ['jack strange'], ['tyler', 'good strange'], ['jack'], ['tyler', 'threshold'], ['pg jack'], [], ['tyler'], ['jack call'], ['fight'], ['jack'], ['tyler', 'professionals'], ['scars'], [], ['jack tyler tyler', 'pussy'], ['jack swings another roundhouse', 'tylers'], ['sound'], ['tyler punches jack', 'stomach'], ['guys move', 'fight'], ['tyler', 'jack', 'punches'], ['eyes'], ['saliva', 'blood'], ['hurt', 'dizzier', 'every impact'], ['jack vo'], ['fight', 'hurt', 'another man'], ['tyler', 'jack'], ['guys mix laughter', 'cheers', 'wondrous amusement'], ['ext'], ['curbside later jack', 'tyler sit', 'curb staring', 'sparse headlights', 'nearby freeway'], ['eyes', 'endorphininduced serenity'], [], [], [], [], ['pg jack job'], ['boss', 'dos execute commands'], ['marla', 'support groups'], ['everything', 'life'], [], ['tyler father'], ['pause', 'jack studies tylers'], [], ['tyler', 'sidelong glance', 'jack', 'stare', 'night sky'], ['ext'], ['paper street night street sign paper street'], ['paper mill', 'side', 'one house', 'rest', 'land', 'undeveloped grass', 'weeds'], ['old grand threestory', 'seed'], [], ['int'], ['paper st house living room tyler', 'jack', 'staircase', 'nd floor landing', 'door', 'room'], ['int'], ['room continuous jack', 'room', 'old bed'], ['creaks'], ['dust drifts'], ['jack vo'], ['tyler', 'house'], ['year'], ['something'], ['cut ext'], ['lous tavern parking lot night long shot zooming group', 'six guys', 'two guys', 'fist fight'], ['cut int'], ['paper st house kitchen morning jack', 'face', 'new bruises', 'knuckles', 'cockroaches', 'coffee', 'wiremesh strainer'], ['happy little smile'], ['pg jack vo'], ['nothing'], ['rusty plumbing'], ['light meant', 'another light', 'house'], ['stairs'], ['cut ext'], ['convenience store parking lot night long shot zooming', 'previous shot', 'ten guys', 'guys'], ['cut int'], ['shower morning jack', 'new bruises', 'knuckles', 'water'], ['loud vibration', 'walls'], ['water spits', 'starts'], ['cut int'], ['kitchen morning tyler', 'nice suit', 'bars', 'soap', 'briefcase'], ['jack walks', 'work clothes'], ['battered old saucepan', 'coalblack coffee', 'sips'], ['tyler'], ['jack', 'tooth', 'mouth', 'sink'], ['door'], ['ext'], ['cinema parking lot night long shot zooming', 'previous shot', 'fourteen guys', 'fight'], ['cut ext'], ['porch night tyler', 'waiter uniform sits', 'jack', 'lip', 'porch'], ['different bruises', 'cuts sit', 'beer'], ['thunderclaps'], ['rain'], ['tyler', 'feet'], ['int'], ['basement tyler', 'jack', 'water standing', 'fusebox'], ['tyler'], ['breaker switches waits', 'jack'], ['jack grabs', 'switches', 'certain order'], ['tyler', 'switches', 'jack'], ['cut ext'], ['construction area night long shot zooming', 'previous shot', 'eighteen guys', 'fight'], ['cut pg int'], ['living room night rain drips', 'ceiling', 'light fixtures'], ['tyler', 'jack enter', 'lit candles'], ['decrepit', 'wood floor'], ['item', 'furniture', 'room'], ['thousands', 'magazines'], ['jack vo'], ['magazines'], ['magazine', 'candles'], ['tyler', 'candle', 'jacks'], ['tyler', 'magazine'], ['reading'], ['jack', 'joes lungs'], ['first person'], ['joe', 'oxygen', 'red blood cells'], ['tyler sounds'], ['jack', 'whole series', 'joes'], ['tyler', 'cancer', 'joe'], ['jack'], ['tyler soldier', 'fortune national geographic'], ['new republic'], ['forbes'], ['jack showoff'], ['jack vo'], ['every wednesday night', 'wild animals'], ['pg int'], ['conference room day', 'near darkness', 'slide show', 'chipper salesman walter'], ['jack', 'deadpan', 'puffy lip', 'bruise', 'cheek'], ['jack vo'], ['thursday morning', 'boss'], ['blocks', 'rest', 'room', 'dubious look', 'walter'], ['jack vo'], ['next week'], ['walter advances', 'next slide', 'view', 'computer screen'], ['basic premise', 'office', 'make things'], ['walter', 'sales', 'jacks narration jack vo'], ['walter microsoft account exec', 'steam shovel jaw'], ['walter', 'smooth soft hands'], ['cute little show'], ['freerange potluck', 'last weekend'], ['walter', 'jack', 'shoulder'], ['walter', 'man'], [], ['jack smiles'], ['teeth', 'blood'], ['dim light'], ['jack vo'], ['pint', 'blood'], ['walter jeez', 'guy'], ['jack', 'smile frozen', 'face'], ['pg jack vo'], ['fuck walter'], ['candy ass', 'fight club'], ['ext'], ['lous tavern night', 'silent darkness headlights', 'directions'], ['synchronous wave', 'cars pulls', 'parks', 'alreadyfilled lot'], ['young men', 'arriving cars', 'wander', 'tavern'], ['guys', 'tyler', 'jacks'], ['int'], ['lous tavern men', 'bartender irvine', 'irvine drink', 'people'], [], [], ['crowd', 'men', 'women yuppies', 'collar regulars', 'work clothes', 'cowboys', 'barfly women'], ['music', 'jukebox'], ['men'], ['wait'], ['tyler', 'jack enter'], [], ['army', 'share secret looks', 'grins'], ['certain level', 'eagerness'], ['irvine', 'jack', 'grins'], ['lights'], ['drunken customers squint', 'message'], ['drinks', 'money', 'filter', 'door'], ['irvine', 'button', 'jukebox', 'power record'], ['irritated customers leaves'], ['guy', 'door'], ['guys', 'blinds'], ['someone', 'basement door'], ['int'], ['basement steps moments later', 'men', 'steps chatter begins'], ['tall guy', 'roommate tonight'], ['phil'], ['fat guy oh yeah'], ['hi phil'], ['tall guy'], [''], ['pg int'], ['tavern basement bombshelter concrete floor concrete walls'], ['bare light bulb hangs', 'wire', 'ceiling'], ['tyler nods', 'jack', 'jack', 'light'], ['guys', 'partners'], ['whole mood'], ['everyone', 'eagerness', 'tries'], ['chatter', 'louder'], ['fat guy mean uppercut'], ['wiry guy', 'ta work', 'left'], ['short guy', 'left'], ['fat guy hey', 'floor', 'dudes', 'way', 'weight class'], ['tall guy', 'wiry guys shoulder skinny guys'], [], ['peaking chatter', 'tyler', 'position', 'light bulb'], ['face', 'shadow'], ['everyone', 'circle light bulb', 'center'], ['tylers', 'room', 'chatter dies'], ['couple', 'coughs feet shuffling'], ['silence'], ['first rule', 'fight club', 'fight club'], ['second rule', 'fight club', 'fight club'], ['jack', 'short guy ricky', 'black eye'], ['jack vo'], ['ricky supply clerk', 'pens', 'blue ink', 'black ink tyler third rule', 'fight club', 'someone', 'fight'], ['fourth rule', 'guys', 'fight'], ['pg jack vo'], ['ricky', 'god', 'ten minutes', 'actuary twice', 'size'], ['tyler fifth rule', 'fight', 'time'], ['sixth rule', 'shirts', 'shoes'], ['seventh rule fights'], ['eighth rule', 'fight club', 'first night'], ['tyler steps', 'fat man', 'goateed man', 'shirts', 'shoes', 'step', 'center'], ['punches'], ['sweat flies', 'moist air'], ['shouts become deafening'], ['jack vo'], ['sounds', 'yelling', 'someone', 'breath', 'goateed man ssstop'], ['int'], ['office park restaurant day jack', 'lunch', 'refill soda', 'brokennosed waiter', 'goatee man', 'fight'], ['jack vo'], ['someone', 'good fight', 'man'], ['fight club', 'rest', 'world'], ['fight club'], ['fight club', 'hours', 'fight club starts', 'fight club ends'], ['int'], ['jacks office day boss passing', 'doorway', 'jack', 'irritated wonder'], ['jack', 'solitaire', 'computer', 'blood', 'mouth', 'handkerchief'], ['boss', 'every week'], ['pg jack', 'smile', 'boss'], ['boss', 'head'], ['jack vo'], ['night', 'fight club everything', 'life', 'volume'], ['anything'], ['people', 'power'], ['jacks tongue plays', 'teeth'], ['jack vo'], ['point', 'teeth', 'jaw'], ['int'], ['bus day jack', 'hand grip'], ['arrogant man', 'threepiece suit brushes', 'shoulder'], ['jack vo'], ['size people'], ['jack', 'mans shoulder', 'return'], ['man', 'jack', 'brief moment'], ['jacks face'], ['jack vo'], ['asshole'], ['arrogant man', 'aisle'], ['jack', 'guy', 'smashed lip'], ['guy', 'slight nod'], ['int'], ['parking garage day flashback jack', 'parking garage'], ['valet', 'facial bruises'], ['jack vo'], [], ['valet', 'jack share quick smile'], ['bmw', 'honks', 'bruised valet'], ['bruised valet', 'reaction', 'fat exec', 'car', 'keys'], ['jack', 'bruised valet size', 'exec', 'car', 'peel'], ['pg jack vo'], ['time fight club members', 'guys', 'asses'], ['int'], ['tavern basement night jack', 'couple', 'jabs', 'opponents stomach', 'left uppercut', 'opponents jaw'], ['tiny spatters', 'blood', 'walls', 'sweat'], ['jack vo'], ['fight club'], ['words'], ['opponent recovers', 'headlock', 'jack'], ['jack', 'arm', 'counter headlock'], ['wild animals'], ['crowd cheers'], ['jack vo'], ['hysterical shouting', 'tongues', 'pentecostal church'], ['onlookers', 'fight'], ['opponent smashes jacks head', 'floor'], ['jack stop'], ['everyone moves', 'opponent'], ['jack', 'feet'], ['floor', 'blood mask', 'jacks', 'tear mask', 'bobs shirt'], ['tyler pushes', 'crowd'], ['tyler cool'], ['ext'], ['bar night everyone', 'bar'], ['jack vo'], [], ['pg ext'], ['sidewalk night jack', 'tyler', 'pools', 'light cast', 'streetlamps'], ['blood', 'sport bruises'], ['x piece', 'wood'], ['cars', 'sticks', 'front bumpers', 'alarms', 'air bags'], ['bus stop', 'large display ad', 'jeans'], ['photo', 'shirtless man'], ['tyler', 'man'], ['jack'], ['tyler smears blood', 'ad'], ['way'], ['tyler', 'road work sign'], ['tyler', 'deep hole'], ['jack tightropewalk', 'wooden beams', 'darkness'], ['tyler guys', 'gyms', 'calvin klein'], ['fight club'], ['solid pavement tyler', 'beams', 'fall'], ['whole temporary work structure', 'hole'], ['tyler', 'jack'], ['background car skids', 'fishtails', 'hole'], ['sound', 'siren'], ['tyler', 'jack x'], ['jack', 'moment', 'stick', 'runs', 'tyler'], ['jack vo'], ['guy', 'club', 'first time', 'ass', 'wad', 'cookie dough'], ['weeks', 'wood'], ['anything'], ['ext'], ['another street continuous jack', 'tyler', 'sweat', 'blood'], ['tyler', 'fingers', 'knuckles'], ['pain'], ['tyler selfimprovement', 'masturbaation'], ['selfdestruction', 'answer'], ['pg int'], ['paper st house kitchen late afternoon phone rings'], ['jack enters', 'living room', 'shirt'], [], ['jack hello'], ['intercut int'], ['marlas room', 'bed', 'phone cord', 'neck'], ['marla', 'last weeks'], ['jack marla'], ['marla', 'support groups'], ['jack', 'idea'], ['marla'], ['jack'], ['marla really'], [], ['jack', 'men'], ['marla', 'testicular cancer'], ['jack'], ['bad time'], ['marla', 'debtors'], ['people'], ['jack look', 'pg marla', 'mind'], ['stomach', 'xanax'], ['bottle'], ['might'], ['jack', 'camera'], ['jack vo'], ['picture', 'marla', 'crummy apartment'], [], [], ['hours'], ['jack', 'peace'], [], ['marla stay', 'line'], ['describe death'], ['jack', 'handset', 'top', 'phone', 'hook', 'kitchen'], ['marlas voice', 'spirit', 'telephone'], ['int'], ['bedroom late night grunts', 'pleasure', 'exertion'], ['dim light', 'glimpses', 'torsos asses legs arms breasts', 'black female hair dreneched', 'sweat'], ['sheets rip'], ['cachunk'], ['cachunk'], ['bodies', 'floor', 'roll'], ['insane grunting'], ['laughing cackling'], ['flash', 'marlas face'], ['groans', 'climax'], ['cut int'], ['jacks bedroom sunrise jack', 'bed', 'room'], ['int'], ['nd floor landing jack', 'room', 'next door door'], ['jack vo'], ['tylers door'], ['month', 'tylers'], ['pg int'], ['bathroom jack', 'toilet'], ['close six used condoms toilet'], ['int'], ['kitchen morning jack', 'table', 'coffee reading readers'], ['long yawn', 'eyes'], ['footsteps'], ['jack', 'dream'], ['marla walks', 'dress'], ['hurricane'], ['hair', 'head'], ['jack gapes', 'shock'], ['coy smile', 'finger', 'back', 'neck'], ['marla', 'anything', 'last night'], ['cup', 'coffee'], ['big gulp gargles', 'spits', 'sink'], ['jack lascivious smile'], ['cup'], ['hair'], [], ['jack', 'fuck'], ['marla', 'beat', 'cup', 'sink', 'shatters'], ['marla fuck'], ['door', 'backyard', 'walks'], ['jack', 'lawn', 'sidewalk', 'street'], ['jack', 'tyler', 'shoulder staring', 'marla'], ['usual sweatpants'], ['jack', 'coffee'], ['jack', 'slumps', 'table', 'readers digest'], ['tyler', 'foot', 'countertop', 'exercises'], ['tyler', 'bitch', 'half'], ['home', 'phone', 'hook pg move jacks face', 'tyler'], ['tylers voice fades', 'jack vo'], ['story'], ['int'], ['kitchen late afternoon flashback tyler enters', 'back door', 'moves', 'phone'], ['marlas voice', 'handset', 'body'], ['tyler', 'handset'], ['jack vo'], ['tyler', 'bad thing', 'marla'], ['int'], ['th floor landing', 'afternoon flashback tyler', 'top', 'stairs', 'heads', 'marlas room'], ['marlas hand shoots', 'grabs tylers'], ['int'], ['marlas room continuous flashback marla', 'tyler inside', 'door'], ['drugged eyes'], ['marla'], ['staggers', 'sits', 'bed'], ['blanket', 'sheets', 'floor'], ['marla mattresses', 'slippery plastic'], ['eye', 'tyler'], ['marla'], ['sirens', 'vehicles screeching', 'halt'], ['doors', 'slamming', 'footfall'], ['marla scowls', 'rams tyler', 'knee'], ['pg marla', 'cops'], ['shit'], ['feet grabs tyler', 'feet', 'pulls', 'door'], ['int'], ['hallway flashback marla locks', 'door', 'tyler', 'staircase'], ['tyler', 'wall', 'cops', 'paramedics charge', 'oxygen'], ['cop', 'g'], ['marla end', 'hall'], ['rescuers'], ['marla', 'tyler', 'steps'], ['marla', 'beat', 'cops', 'door'], ['marla girl', 'girl'], ['faith', ''], ['tyler yanks', 'marlas arm'], ['steps', 'marlas speech', 'louder'], ['marla', 'options'], ['monster'], ['infectious human waste'], ['good luck'], ['int'], ['kitchen night flashback tyler', 'coffee'], ['marla slouches', 'refrigerator'], ['marla'], ['night'], ['tyler smiles'], ['jack vo'], [], ['pg int'], ['tylers room dawn flashback marla', 'tyler', 'wrecked bed'], ['tylers eyes'], ['marla', 'ear'], ['marla', 'ancient chinese custom', 'life'], ['int'], ['kitchen morning resuming tyler', 'coffee', 'head'], ['tyler', 'crap', 'much television'], ['jack vo'], ['movie'], ['stupid room', 'die'], ['tyler', 'studies', 'face'], ['tyler'], ['jack vo'], ['joes raging bile duct'], ['jack'], ['tyler'], ['jack'], ['tyler', 'type'], ['jack', 'type'], ['tyler', 'wild twisted bitch'], ['jack oh', 'pace', 'librarians', 'den mothers'], ['tyler kinky'], ['pg jack vo'], ['someone', 'tyler', 'someone', 'marla singer'], [], ['jack marla', 'lover'], ['case worker'], ['tyler'], ['hosebag'], ['jack vo'], ['support groups', 'home'], ['friendship'], ['cancer'], ['tyler', 'okay'], ['jack vo'], ['joes clenching bowels'], ['jack sure'], ['jack vo'], ['gun', 'head', 'paint wall', 'brains'], ['jack'], [], ['ta', 'something'], ['little rule'], [''], ['kind', 'shit'], ['tyler fixes jack', 'firm stare'], ['tyler', 'anyone'], [], ['jack okay'], ['pg tyler'], ['jack'], ['tyler', 'kitchen'], ['jack'], ['int'], ['living room night jack', 'television', 'high volume'], ['sounds', 'rough sex', 'upstairs'], ['cut int'], ['jacks bedroom night jack', 'zen state', 'bed staring', 'ceilng'], ['sounds', 'thumps', 'crashes', 'wall', 'tylers', 'marlas voices snarling marlas voice'], ['jack vo'], ['another room', 'third floor'], [], ['int'], ['bathroom night jack', 'teeth'], ['jack vo'], ['little haiku things worker bees', 'drones', 'queen', 'calm little center', 'world'], ['zen master'], ['move keyhole jacks eye marla', 'passion'], ['abortion'], ['pg int'], ['basement night sound', 'rain', 'house'], ['jack', 'fuses', 'walks', 'stairs'], ['jack vo'], ['tiger', 'snake', 'lies', 'evil int'], ['nd floor landing jack', 'steps'], ['marla scream', 'orgasm'], ['landing'], ['tylers'], ['jack'], ['jacks pov tylers room marlas legs', 'bed'], ['head', 'side', 'view'], ['door pushes open wider tyler', 'stands close camera'], [], ['wide landing jack'], ['jack'], ['tyler grins', 'nods', 'bed'], ['tyler'], ['jack uh', 'jack', 'room'], ['int'], ['jacks office day jacks clothes', 'permanently stained', 'blood'], ['zen pose'], ['haikus', 'screen'], ['jack vo'], ['everyone'], ['send'], ['enters reacts', 'exasperated irritaiton', 'sight'], ['pg boss', 'blood'], ['jack'], ['boss stares', 'jack', 'mars'], ['boss take rest', 'day'], ['come', 'tomorrow', 'clean clothes'], [], ['int'], ['hallway jack', 'war casualty walks past coworkers'], ['face'], ['jack vo'], ['everyones hostile little face'], ['bruises'], [], ['nothing'], [], [], ['ext'], ['paper street sunset jack', 'house'], ['jack vo'], ['condo life', 'worldly possessions', 'dilapidated house', 'toxic waste part', 'town'], ['int'], ['tylers kitchen sunset jack walks'], ['sound', 'violent sex', 'upstairs thuds', 'whams'], ['pieces', 'plaster fall', 'ceiling', 'tufts', 'dust'], ['jack vo'], ['home'], ['tylers voice take', 'wipe'], ['jack', 'eyes', 'pants'], ['water', 'sink'], ['tiny bit', 'soap', 'blood stains'], ['phone rings'], [], ['jack hello'], [], ['pg intercut int'], ['police station office detective stern', 'chair', 'file'], ['detective stern', 'detective stern', 'arson unit'], ['new information', 'condo'], ['deadbolt', 'front door'], ['someone', 'freon', 'lock'], ['cold chisel', 'cylinder'], ['jack vo'], ['joes cold sweat'], ['fact cold sweat', 'jacks'], ['pants'], ['detective stern dynamite', 'residue', 'ammonium oxalate', 'potassium perchloride'], ['jack', 'shock', 'sir'], ['detective stern whoever', 'dynamite', 'gas', 'pilot lights', 'stove days', 'explosion', 'place'], ['gas', 'trigger'], ['jack'], ['detective stern', 'questions son'], ['jack', 'life'], ['condo'], ['every stick', 'furniture'], ['whole life'], ['lamps chairs rugs'], ['dishes'], ['plants'], ['television'], ['pg jack vo'], ['academy detective stern', 'anyone', 'expertise', 'motive', 'something'], ['jacks eyes'], ['jack uh'], ['detective stern well'], ['ideas', 'call'], ['meantime', 'town'], ['end intercut jack', 'phone', 'tyler'], ['tyler', 'hand', 'jacks shoulder'], ['jack', 'tyler'], ['tyler'], ['marlas footsteps', 'stairs'], ['jacks pov', 'soap', 'pants splashes water', 'place'], ['jacks pov pivots widen room'], ['marla enters'], ['tyler', 'gone'], ['jack', 'door', 'marla'], ['cigarette'], ['jack vo'], ['humping tyler', 'marla', 'room'], ['disappearing act', 'parents', 'years'], ['marla', 'jack', 'leg', 'stack', 'magazines'], [], ['jack', 'pants', 'counter'], ['marla', 'hemline', 'leg'], ['marla', 'dress', 'thrift store', 'dollar'], ['jack', 'every penny'], ['pg marla', 'bridesmaids dress'], ['someone', 'day'], ['christmas tree', 'side', 'road', 'tinsel'], ['ear', 'whispers', 'marla'], ['jack'], ['marla', 'smoke', 'jacks face'], ['cigarette', 'water', 'sink'], ['leaves room'], ['sound', 'footsteps', 'upstairs'], ['tyler os'], ['get'], ['jack', 'tyler', 'back doorway'], ['jack'], ['tyler', 'name'], [], ['jack yes'], ['tyler promise'], ['jack'], ['tyler', 'times'], ['marlas footsteps', 'staircase'], ['tyler tell'], ['jack', 'archway'], ['tyler', 'gone'], ['marla', 'kitchen', 'pack', 'cigarettes'], ['', 'lights'], ['pg jack vo'], ['years', 'messages', 'parents'], ['jack uh'], [], ['marla', 'slow exotic dance', 'kitchen', 'jack'], ['dress'], [], ['jacks body'], ['jack'], ['marla', 'bursts', 'loud laughter'], ['marla', 'nutcase'], ['jacks hair'], ['hand'], ['jack'], ['marlas face'], ['back door marla', 'afterimage'], ['jack', 'kitchen window'], ['tyler os'], ['good job'], ['jack', 'widen', 'tyler', 'jack'], ['window', 'background marla', 'sidewalk'], ['tyler', 'hand', 'jacks shoulder'], ['tyler let', 'place', 'walk'], ['ext'], ['street night tyler', 'brisk pace'], ['jack'], ['tyler cuts', 'paved road', 'wooded area'], ['jack'], ['pg ext'], ['allnight convenience store moments later tyler', 'jack', 'emerges', 'trees', 'heads', 'parking lot'], ['clerk', 'car', 'uniform bow tie'], ['tyler', 'handgun', 'belt', 'clerks head'], ['ext'], ['wooded area continuous tyler', 'clerk gun', 'head'], ['jack'], ['jack'], ['tyler shut'], ['jack', 'fucking mind'], ['tyler shut'], ['tyler', 'clerk', 'kneeling position'], ['tyler give', 'wallet'], ['clerk', 'wallet', 'pocket', 'tyler'], ['tyler', 'drivers'], ['tyler raymond k hessel'], ['se benning apartment'], ['small cramped basement apartment'], ['raymond'], ['tyler', 'basement apartments letters', 'numbers'], ['raymond'], ['raymond please god'], ['jack'], ['pg tyler', 'jack shut'], ['idea', 'bottom'], ['condo'], ['jack'], ['cops'], ['tyler'], ['tyler', 'raymond tyler mom', 'dad', 'old doctor soandso', 'dental records', 'face'], ['raymond', 'shoulders'], ['jack', 'air'], ['tree'], ['mouth'], ['tyler', 'picture', 'mom', 'dad'], ['raymond yesss jack look', 'tyler'], ['nothing'], ['jack', 'okay'], ['tyler', 'cute little condo', 'fey furniture', 'squalor tyler', 'raymond tyler expired community college student id card'], ['raymond k hessel'], ['raymond ssstuff'], ['pg tyler stuff'], ['midterms'], ['tyler', 'gun', 'raymonds temple'], ['tyler'], ['raymond biology'], ['tyler'], ['raymond'], ['tyler', 'raymond k hessel'], ['long beat', 'raymond weeps', 'nothing'], ['tyler cocks gun'], ['jack jerks', 'sweating'], ['jack tyler'], ['tyler'], ['tyler', 'raymond tyler question raymond'], ['tyler', 'trigger'], ['jack', 'dry mouth answer'], ['raymond veterinarian'], ['tyler animals'], ['raymond yeah animals', 'sss tyler stuff'], ['schooling'], ['pg raymond much school'], ['tyler would'], ['tyler', 'raymonds wallet', 'pocket'], ['tyler', 'license'], [], [], ['school', 'way', 'veterinarian'], ['hell'], ['raymond staggers', 'darkness'], ['tyler watches'], ['jack', 'branch', 'deathgrip', 'tyler'], ['tyler', 'jack'], ['tyler raymond k hessel tomorrow', 'beautiful day', 'life'], ['breakfast', 'meal'], ['jacks eyes'], ['raymond', 'tyler'], ['head', 'weird little crooked smile'], ['eyes'], ['religious reverence', 'tyler'], ['tyler turns', 'smiles', 'jack'], ['tyler', 'soap', 'fat'], ['close sign danger biohazard pull back wide ext'], ['fencedin biohazard waste dump site night tyler', 'ground', 'fence'], ['jacks', 'top', 'fence', 'barbed wire'], ['wobbles', 'shirt'], ['tyler'], ['jack', 'shirt'], ['tyler', 'fall', 'jack', 'feet'], ['footsteps'], ['flashlight beam'], ['tyler', 'jack', 'dumpster', 'dozens', 'site'], ['silhouette', 'security guard', 'perimeter', 'flashlight'], ['adjacent building'], ['pg move back', 'tyler', 'jack'], ['tyler', 'lid', 'dumpster'], ['jack gapes', 'biohazard sign'], ['fat', 'soap', 'salt balance', 'human bodies'], ['tyler', 'lid', 'creaks'], ['jack'], ['tyler', 'industrialsized think plastic bag', 'pink goo'], ['jack', 'smell'], ['eyes', 'side', 'adjacent building', 'sign body sculpting clinic'], ['tyler', 'asses', 'thighs', 'rich women paydirt'], ['int'], ['kitchen night jack watches', 'tyler', 'boiling pot'], ['tyler', 'fat renders tallow floats', 'surface', 'water'], ['ext'], ['waste dump site night resuming tyler', 'jack', 'fence', 'several bags', 'fat'], ['jacks bags', 'barbed wire', 'rips', 'goo', 'fence'], ['jacks pants', 'shoes', 'slides'], ['tyler'], ['jack'], ['int'], ['kitchen night resuming tyler', 'jack', 'pots', 'skinnedover layer'], ['tyler', 'tallow', 'clear layer', 'top'], [], ['soap'], ['ext'], ['waste dump site night resuming tyler', 'jack', 'fence'], ['ground', 'side'], ['asses'], ['louder'], ['footsteps flashlight'], ['pg', 'slide', 'corner'], ['int'], ['moments later jack', 'tyler', 'bags'], ['cab driver', 'deadpan look'], ['end overlapping intercut'], ['cut int'], ['kitchen late night tyler', 'jack', 'stains', 'rips', 'clothes', 'waste dump'], ['pots boil'], ['tyler stirs'], ['spoon', 'pot', 'scoop', 'glycerin layer'], [], ['tyler lye crucial ingredient', 'soap'], ['paste', 'lye', 'water', 'aluminum pan'], ['solution', 'lye', 'water', 'wooden spoon'], ['water lye heats', 'degrees'], ['tyler', 'lips', 'wet'], ['jacks hand', 'kisses back'], ['saliva shines', 'shape', 'kiss'], ['tyler', 'lye', 'jacks hand'], ['tyler', 'chemical burn'], ['tyler', 'bit', 'flaked lye', 'jacks hand'], ['jacks', 'body jerks'], ['tyler', 'jacks hand'], ['tears', 'jacks', 'face tightens'], ['tyler look', 'hand'], ['jack', 'burn', 'swollen glossy', 'shape', 'tylers'], ['jacks', 'spasms'], ['jack vo'], ['tylers', 'bonfire', 'branding iron', 'hand', 'end', 'long long road', 'miles'], ['pg jack', 'gaze', 'hand', 'eyes'], ['tyler come', 'pain'], ['jack vo'], ['meditation', 'cancer'], ['tyler'], ['jack vo'], ['words'], ['cave', 'power animal'], ['quick cut int'], ['cave marla', 'beautiful', 'stunning black dress'], ['tyler', 'cut back int'], ['kitchen night tyler', 'jacks hand'], ['jacks eyes', 'tyler'], ['tyler', 'moment', 'life'], [], ['father', 'model', 'god'], ['father', 'god'], ['jacks', 'spasms', 'pain'], ['attention', 'tyler'], ['tyler', 'possibility', 'god'], [], ['thing'], ['hate', 'indifference'], ['jack'], ['cut int'], ['cave marla', 'ground', 'jack', 'top'], ['jack'], ['cut pg int'], ['kitchen night tyler tugs', 'jacks arm'], ['gods middle children', 'special place', 'history', 'special attention'], ['gods attention', 'hope', 'damnation', 'redemption'], ['jack', 'tyler', 'eyes', 'stare'], [], ['farther', 'god'], ['jack', 'spasms', 'quivers', 'pain'], ['tears', 'eyes'], ['tyler someday'], [], ['tylers eyes', 'tears'], ['jack', 'hand'], ['jack fuck man'], ['hurts'], ['tyler', 'jack', 'pain', 'eyes'], ['int'], ['kitchen sunrise tyler watches', 'jack', 'shaped bars', 'soap'], ['tyler finishes'], ['wrapper', 'paper street soap company', 'quaint writing'], ['int'], ['barneys day jack', 'tyler', 'trenchcoats', 'deathwarmedover wait', 'counter', 'finelycoiffed salespeople zip'], ['tyler', 'picture', 'cool'], ['jack'], ['bandaged hand'], ['buyer woman', 'counter', 'tyler'], ['mos', 'jacks voice', 'buyer', 'sample bar', 'soap'], ['smiles', 'forms'], ['pg jack vo'], ['tyler', 'stores', 'twenty bucks bar'], ['god'], ['rich women', 'fat'], ['ext'], ['street night jack', 'tyler', 'sidewalk', 'purpose', 'gunfighters', 'showdown'], ['tyler look', 'guys', 'fight club'], ['men', 'gas', 'tables', 'slaves', 'white collars'], ['advertising', 'cars', 'clothes'], ['whole generation', 'jobs', 'shit'], ['int'], ['high school hallway night men', 'gymnasium', 'testicular cancer support group', 'men'], ['bob', 'rest', 'jack darts forth', 'shadows', 'blocks', 'way'], ['bob hi'], ['jack hi bob'], ['bob tries', 'door', 'jack'], ['jack', 'man'], ['bob yes'], ['jack'], ['jack', 'bob'], ['caught', 'locker', 'bang'], ['jack', 'bobs face'], ['jack come'], [], ['pg jack', 'bob', 'stomach'], ['bob', 'hands'], ['jack', 'punches'], ['bob punches jack', 'face'], ['jack'], ['bobs face', 'anger'], ['jack', 'hands', 'stop'], ['jack let'], ['int'], ['basement electronics warehouse night crowd', 'bob', 'jack', 'circle', 'light'], ['bobs eyes', 'glee'], ['ext'], ['basement door electronics warehouse later everyone', 'new location', 'none', 'guys', 'new chapter'], ['jack', 'bob'], ['blood', 'bruises jack', 'shape', 'religious serenity'], ['bob hugs jack'], ['bob thank'], ['thank'], ['bob', 'hug', 'jack', 'ground', 'sack', 'beating'], ['jack'], ['jack vo'], ['fight club', 'mine', 'tylers', 'gift', 'world'], ['ext'], ['street day ricky', 'yuppie'], ['sidewalk'], ['yuppie', ''], ['', 'attack'], ['yuppie maneuvers ricky', 'metal fence', 'tries', 'spike'], ['tyler', 'jack', 'view', 'yuppie laughing'], ['yuppie', ''], ['pg int'], ['truck garage night ricky', 'yuppie', 'crowd', 'new guys cheers'], ['jack vo'], ['fight club', 'every night', 'week'], ['close bumpersticker', 'drunk drivers mothers'], ['hand', 'corners'], ['pull back reveal bumper whole car luxury sedan'], ['entire parking structure', 'bumpers', 'sticker'], ['jack vo'], ['pranks'], ['ext'], ['street', 'night jack tyler', 'ricky', 'basic blackonwhitelettering billboard'], ['know'], ['use old motor oil fertilize lawn'], ['environmental protection agency'], ['middle children', 'history', 'special purpose', 'place'], ['great war', 'generation', 'great depression'], ['great depression', 'lives'], ['great war', 'spiritual war'], ['ext'], ['large parking lot day jack', 'bob', 'toolbox change enter', 'exit signs'], [], ['background car', 'entrance', 'front', 'explode', 'blades', 'ground'], ['pg ext'], ['sidewalk night jack', 'intersection', 'large city park'], ['group', 'people', 'public building', 'front'], ['marla', 'support group', 'night'], ['jack', 'marlas eye'], ['waves'], ['marla stares'], ['tyler steps frame', 'park'], ['jack'], ['bob'], ['ext'], ['park outdoor beer festival night bad band', 'german music'], ['banners', 'american beer'], ['people', 'shirts', 'hats', 'beer ads'], ['jack bob', 'tyler', 'side', 'portable toilet'], ['next toilet'], ['entire row', 'portable toilets', 'dominoes'], ['row', 'trees'], ['jack vo'], ['television', 'someday', 'millionaires', 'movie stars', 'rock stars'], ['fact'], ['tyler', 'pissedoff'], ['int'], ['airplane cabin ground day', 'airplane maintenance men', 'rip', 'box', 'print shop'], ['handfuls', 'airline safety instruction cards', 'seat'], ['', 'see card', 'passengers screaming', 'flailing terror'], ['int'], ['paper st house kitchen morning jack', 'work', 'sheet', 'paper', 'tyler'], ['tyler make', 'dozen copies'], ['pg int'], ['photocopy room day jack', 'copy machine', 'flashes', 'light'], ['jack vo'], ['fight club', 'every night', 'week'], ['jack'], ['flashes'], ['half'], ['eyelids', 'head nodding'], ['int'], ['jacks office later jack', 'cubicle', 'game', 'computer'], ['enters'], ['jack vo'], ['yellow tie'], ['thursday'], ['tie'], ['boss', 'piece', 'paper', 'jacks desk'], ['first rule', 'fight club', 'fight club'], ['jack stares'], ['jack vo'], ['time'], ['copy machine'], ['boss', ''], ['second rule', 'fight club', 'fight club'], [], ['copy machine'], ['jack abuse copy machine'], ['image'], ['boss let'], [], [], [], ['hmm'], ['managerial decision'], [], ['pg jack', 'walks', 'office door', 'boss'], ['jack'], ['someone', 'buttoneddown psychotic', 'moment', 'stalk', 'office', 'office', 'armalite ar carbine'], ['home every night', 'little rattail file', 'cross', 'tip', 'bullets'], ['way', 'round', 'someone', 'grooves', 'spread', 'way dum dum flowers', 'load', 'guts', 'someones spine'], ['somebody', 'years'], ['boss stares', 'tinge', 'outrage tinge', 'fear'], ['jack vo'], ['tylers words'], [''], ['nice person'], ['jacks phone rings'], ['jack answers'], ['jack compliance', 'liability'], ['marlas voice tit'], ['jack', 'boss big smile could'], ['call'], ['boss', 'office door', 'jack beat'], ['jack', 'phone'], ['pg intercut closeup marla', 'dim', 'face', 'makeup'], ['marla', 'lump', 'breast'], ['cash', 'doctor'], ['jack', 'marla'], ['jack vo'], ['tyler'], ['book'], ['marla meet', 'work'], ['ext'], ['mortuary late afternoon jack', 'front door'], ['int'], ['mortuary jack', 'dim dramaticallylit foyer'], ['marla', 'desk'], [], ['black formal dress', 'gorgeous angel', 'death'], ['fat male customer', 'urn size', 'egg cup'], ['marla studies urn', 'customers body', 'dreary expression'], ['marla sir', 'ashes', 'neck'], ['customer turns', 'stomps', 'door'], ['jack', 'desk'], ['jack employee', 'month'], ['marla', 'smiles'], ['pg ext'], ['marlas hotel sunset jack', 'marla', 'boxes', 'van', 'sign meals wheels'], ['int'], ['marlas room moments later marla', 'jack inside'], ['jack', 'sweet side'], ['marla think'], ['jack', 'reads', 'boxes mrs haniver', 'mrs raines'], [], ['top floor'], ['marla'], ['poverty'], [], ['jack thanks'], ['marla good'], ['food'], ['marla', 'mouth'], ['marla napkin', 'percent'], ['toilet paper'], [], ['job', 'world', 'toilet paper'], ['int'], ['marlas room night marla', 'front', 'mirror', 'shirt'], ['jack', 'hand', 'bottom side', 'breast'], ['hand'], ['jack'], [], ['marla'], ['pg jack'], ['marla'], ['jack'], ['marla feel anything'], ['jack'], ['jacks head', 'marlas'], ['eyes'], [], ['marla make sure'], ['jack okay'], ['okay'], ['marla', 'nothing'], ['jack nothing'], ['neck'], ['marla', 'button', 'shirt'], ['marla whew'], ['relief'], ['thanks'], ['jack problem'], ['marla', 'favor'], ['jack', 'breasts', 'head'], ['jack', 'everythings'], ['marla', 'prostate'], ['jack uh nah'], ['marla well thanks'], ['pg marla', 'lingers', 'bit'], ['jack'], ['jack'], ['jack'], ['marlas voice', 'acid marla yeah'], ['fuck outta'], ['jack', 'door'], ['jack'], ['marla go asshole'], ['ext'], ['street moments later jack', 'sidewalk'], ['marlas window', 'street'], [], ['window', 'jacks bumped', 'passerby', 'tyler'], [], ['jack uh'], ['thing tyler', 'arm', 'jack', 'sidewalk'], [], ['int'], ['bosss office day jack', 'open doorway', 'knocks', 'frame'], ['boss', 'large expensive desk'], ['jack'], ['pg boss okay'], [], ['constant absenteeism'], ['unpresentable appearance'], ['review'], ['next line', 'vo'], ['jack', 'joes complete lack', 'surprise'], ['sits', 'seat'], ['jack let'], ['department', 'transportation'], ['company', 'front seat', 'bracket', 'collision tests'], ['nothing', 'leather seats', 'third world countries', 'chemical', 'birth defects'], ['brake linings', 'thousand miles'], ['turbochargers', 'legs', 'knees'], ['fuel injectors', 'people'], ['accidents', 'cause', 'failure'], ['bodies'], ['job security'], ['boss', 'fuck'], [], [], ['jack', 'idea'], ['payroll', 'outside consultant'], ['exchange', 'task', 'anyone'], ['office'], ['job', 'home'], ['early retirement', 'pension'], ['boss', 'moves', 'desk', 'rage'], ['pg jack yes', 'whole fucking world', 'responsibility'], ['jack punches', 'nose'], ['blood starts'], ['jaw harder'], ['force', 'punch'], ['back slams', 'framed painting', 'glass'], ['frame', 'glass', 'fall', 'floor'], ['jack vo'], ['joes smirking revenge'], ['jack please'], [], ['jack', 'feet', 'punches', 'stomach', 'jaw'], ['backwards', 'shelf', 'wall', 'contents'], ['floor'], ['jack vo'], ['reason', 'first fight', 'tyler'], ['jack crawls', 'carpet', 'boss', 'blood'], ['act', 'giggles'], ['bosss leg'], ['jack please', 'paychecks'], [], ['trouble'], ['jack', 'bosss leg'], ['aghast tries', 'desk', 'photos stacks', 'paper paperweights'], ['jack vo'], ['everything man', 'something'], ['jack', 'bosss belt', 'hoist'], ['blood', 'bosss clothes'], ['jack smudges blood', 'face', 'knuckles', 'bosss hands'], ['horrified man screams'], ['pg jack vo'], ['excellent moment security guards'], ['security guards', 'gape', 'sight'], ['crowd', 'curious workers', 'sight'], ['jack', 'blood please'], ['int'], ['paper st house jacks room dusk jack', 'bed asleep'], ['back door slam'], ['bed'], ['int'], ['kitchen moments later jack enters', 'tyler', 'beers', 'fridge'], ['jack', 'paycheck'], ['jack'], ['tyler'], ['jack', 'tyler', 'combat fatigues'], ['various colors', 'paint'], ['rope', 'mechanisms', 'table'], ['tyler nods', 'living room', 'jack', 'beers'], ['tyler go'], [], ['int'], ['living room jack little bewildered saunters', 'beers'], ['tyler', ''], ['bob ricky', 'several fight club guys', 'front', 'tv'], ['tyler', 'paint'], ['jack', 'beer'], ['guys', 'sixteen year', 'angelic face'], ['tv'], ['angel face shhh'], [], ['pg jack', 'tv', 'live shot', 'building', 'bottom', 'screen', 'trw building'], ['giant grinning face painted'], ['eyes', 'charred windows', 'smoke'], ['firetrucks', 'water', 'windows'], ['reporter police commissioner jacobs', 'second excuse'], ['commissioner jacobs wrinkled man', 'baleful eyes'], ['commissioner jacobs', 'recent acts', 'vandalism', 'city'], ['kind', 'group'], [], ['jack', 'tyler', 'archway', 'tv'], ['tyler', 'sight'], ['jack', 'others'], ['jack'], ['burst laughter look', 'jack', 'heads'], ['jack'], ['guys', 'turn'], ['first rule', 'project mayhem', 'questions'], ['jack'], ['cut int'], ['hotel ballroom night loud luxurious banquet ensues'], ['commissioner jacobs', 'champagne', 'puffs', 'cigar'], ['jack', 'waiters', 'another table', 'jacobs'], ['jack', 'certain waiters tyler bob ricky', 'angel face', 'mass', 'waiters'], ['int'], ['bathroom commissioner jacobs enters', 'cigar', 'walks'], ['jack tyler bob', 'ricky', 'corner', 'attack'], ['jacks heart', 'others'], ['tyler', 'cigar', 'jacobs mouth', 'piece', 'tape'], ['pg int'], ['service elevator jack', 'door', 'others', 'commissioner'], ['pants'], ['bob', 'rubber band', 'commissioner jacobs crotch'], ['tyler wrap', 'top', 'ball sac'], ['ricky', 'knife', 'commissioner jacobs testicles'], ['jack', 'distance'], ['tyler', 'whispers', 'frightened mans'], ['tyler', 'rigorous investigation'], ['state', 'underground group'], ['rest', 'life', 'ball sac'], ['commissioner jacobs'], [], [], [], ['tyler', 'new york times', 'los angeles times'], ['press release style'], [], ['people', 'everyone'], ['people', 'laundry', 'food', 'dinner'], [], ['ambulances'], ['insurance claims'], ['every part', 'life'], [], ['ricky', 'dramatic cut', 'knife', 'severed rubber band'], ['ext'], ['hotel later jack tyler', 'others', 'back service entrance'], ['tyler', 'angel faces'], ['angel face smiles'], ['everyone', 'different directions'], ['pg int'], ['basement night fight club', 'full swing'], ['jack', 'angel face'], ['shit', 'angel face', 'viciousness heretofore'], ['crowd', 'tyler', 'inscrutable stone face'], ['angel face', 'jack'], ['blood flies'], ['crowd', 'quieter'], ['angel face', 'floor'], ['jack', 'stares'], ['crowd'], ['tyler', 'jack'], ['ext'], ['street later tyler', 'jack', 'pools', 'streetlight'], ['jack', 'something'], ['tyler excellent'], ['idling car honks'], ['tyler', 'jack'], ['bruisefaced valet parker', 'keys'], ['valet', 'mr durden'], ['jack', 'mr durden'], ['int'], ['stolen car moving later rain gushes'], ['tyler drives'], ['jack', 'passenger seat'], ['barreling', 'twolane highway', 'headlights'], ['jack stews', 'silence'], ['tyler glances'], ['tyler', 'problem'], ['jack nothing'], ['project mayhem'], ['tyler'], ['pg jack uhhuh'], ['yeah'], ['fine'], ['tyler', 'whole point'], ['jack'], ['tyler'], ['project mayhem', 'pillars', 'civilization', 'dominoes'], ['prematurelyinduced dark age'], ['email'], ['action item list'], ['jack fine'], ['tyler recognize make', 'model', 'car'], ['jack yeah'], ['front seat', 'bracket', 'collision tests'], ['tyler', 'car', 'opposite lane'], ['headlights', 'distance'], ['jack'], ['oncoming car', 'honking', 'lights'], ['jack', 'wheel'], ['tyler', 'arm', 'jacks arms'], ['hand'], ['jack tyler'], ['fuck'], ['tyler', 'life'], ['jack', 'nothing', 'life'], ['', 'hear'], ['pg tyler', 'truth'], ['car'], ['jack fuck', 'life'], ['fuck fight club'], ['fuck', 'marla'], ['shit'], [], ['huh'], ['tyler', 'concept', 'bottom'], ['oncoming truck honks', 'flashes', 'lights'], ['side', 'road'], ['tyler steers'], ['truck', 'tyler'], ['honking', 'flashing'], ['truck', 'tyler moves'], ['tyler hitting bottom', 'weekend retreat'], ['seminar'], ['', 'everything free anything'], ['see listen', ''], ['', 'forget everything know everything think'], ['seconds', 'truck', 'tyler swerves'], ['car heads', 'stalled car', 'side', 'road', 'flares'], ['jack', 'arms'], ['jack', 'nothing', 'world'], [], ['things'], ['little shit job'], ['condo', 'swedish furniture'], [], ['tyler', 'jacks arms', 'lets', 'steering wheel'], ['jack', 'car barrels', 'stalled car'], ['light', 'flares'], ['stalled car'], ['airbags inflate', 'front seat lurches', 'mens', 'dash'], ['tremendous momentum', 'back', 'car whip', 'assoverteakettle roll', 'hill'], ['pg jack vo'], ['car accident'], ['statistics', 'reports'], ['int'], ['family car jacks imagination car', 'jack', 'postwreck', 'warehouse flaming', 'end', 'end father mother teenage girl', 'baby screaming'], ['int'], ['tylers stolen car resuming hill', 'deep ravine'], ['car', 'bottom lying', 'roof'], ['ext'], ['overturned car tyler', 'jacks door'], ['jack', 'mud'], ['jacks face'], ['tyler', 'nearlife experience'], ['int'], ['jacks bedroom late night jack', 'bed staring', 'ceiling'], ['tyler', 'chair', 'bed speaking'], ['world', 'damp canyon forests', 'ruins', 'rockefeller center'], ['leather clothes', 'rest', 'life'], ['wristthick vines', 'sears tower'], ['tiny figures', 'corn', 'strips', 'venison', 'empty car pool lane', 'ruins', 'superhighway'], ['int'], ['jacks bedroom dawn jack', 'bed staring', 'ceiling'], ['tyler'], ['faint sounds', 'sawing', 'hammering'], ['pg int'], ['kitchen moments later jack', 'table', 'coffee'], [], [], ['faint sounds', 'unsure'], ['window', 'nothing'], ['marla walks', 'kitchen'], ['jack'], [], ['bruise', 'face', 'arm'], ['coffee', 'lights cigarette'], ['beat', 'silence', 'marla', 'way', 'sec'], ['jack'], ['jack'], ['marla sarcastic prick'], ['jack', 'marlas eyes'], ['jack', 'tries', 'closer'], [], ['opposite sides', 'room'], ['jack', 'wall', 'basement door', 'ajar'], ['jack'], ['jack vo'], ['tylers name', 'mouth'], ['marla'], ['jack', 'weak person', 'strong person'], ['marla', 'real sick relationship'], [], ['jack'], ['pg marla'], ['faint sound'], ['jack', 'figure'], ['jack'], ['marla hear'], ['jack'], ['marla', 'subject'], [], ['jack', 'sick relationship'], ['marla', 'hell'], ['jack', 'slim space', 'open door tyler', 'bottom', 'basement', 'silent warning'], ['jack', 'marla'], ['jack nevermind'], ['marla'], ['day', 'breast jack let', 'right'], ['marla come'], [], ['marla', 'jack'], ['jack conversation'], ['marla strokes jacks hair'], ['kissscar', 'hand'], ['hand', 'studies'], ['jack', 'marla', 'tight grip'], ['pg marla'], [], ['jack person'], ['marla guy', 'girl'], ['jack', 'guy', 'girl'], ['marla'], ['jack go'], ['marla'], [], ['jack go'], [], ['marla', 'jacks hand', 'lips', 'scar', 'imprint', 'lipstick'], ['jack', 'hand'], ['lipstick'], [], ['marla mmmmmmmmmm'], [], ['jack get hell'], ['stung marla', 'back door'], ['marla go'], [], ['jack', 'stomp', 'backyard', 'sidewalk'], ['tyler', 'basement', 'jack', 'archway'], ['sound', 'footsteps', 'second floor'], ['jack', 'basement steps'], ['pg int'], ['basement continuous tripledecker bunks', 'basement', 'space'], ['jack'], ['sound', 'doorbell'], ['int'], ['living room moments later jack', 'door'], ['ricky', 'porch', 'subordinate military style'], ['black pants black shirt black shoes'], ['brown paper bag'], ['army surplus mattress sits', 'tiedup roll', 'feet'], ['jack', 'something', 'tyler', 'past jack', 'ricky tyler'], [], ['tyler', 'door'], ['jack train'], ['tyler'], ['applicant'], ['old'], ['fat'], ['jack'], ['tyler', 'buddhist temples', 'applicants', 'bahzillion years'], ['applicant waits', 'door', 'days', 'food shelter', 'encouragement'], ['jack begin'], ['tyler grins'], ['pg ext'], ['porch moments later jack', 'door', 'ricky'], ['jack get'], [], ['told', 'young'], [], ['response', 'ricky', 'statue'], ['jack', 'door'], ['ext'], ['porch night ricky', 'spot'], ['jack', 'broom', 'brown paper', 'rickys hand kicks', 'porch'], ['place motionless'], ['jack', 'stupid'], ['', ''], ['never getting inside house'], ['ext'], ['porch morning ricky', 'spot'], ['tyler', 'front door'], ['tyler', 'misunderstanding'], ['look', 'end', 'world'], [], ['police'], [], ['ext'], ['porch night ricky spot'], ['jack bursts', 'broom'], ['shoulder'], ['jack', 'never getting fucking door stupid little weasel'], ['int'], ['jacks room later jack', 'beer', 'cigarette', 'porch', 'sidewarddownward angle'], ['ricky stands', 'spot'], ['jack vo'], ['sooner', 'tyler'], ['pg ext'], ['porch morning rickys', 'spot'], ['bob', 'brown paper bag', 'army surplus mattress'], ['tyler', 'front door'], ['jack lights', 'doorway', 'eyes', 'bob'], ['tyler', 'ricky get', 'stuff'], ['bob'], ['sorry'], ['tyler', 'ricky', 'tyler', 'door'], ['int'], ['nd floor landing later jack', 'open bathroom doorway', 'tyler shave', 'rickys hair'], ['tyler', 'top', 'rickys', 'sharp slap'], ['monkey ready', 'space', 'project mayhem'], ['shaved heads', 'space monkeys'], ['ext'], ['porch later jack', 'window'], ['bob', 'motionless'], ['ricky', 'front door', 'broom'], ['ricky', 'fucking old'], [''], ['ricky whacks bob', 'broom several times', 'slamming door'], ['cut ext'], ['porch night close jacks face', 'window'], ['voice', 'skinny'], [''], ['full back reveal space monkey', 'head', 'skinny applicant', 'broom'], ['pg int'], ['living room jack', 'window'], ['space monkeys', 'heads', 'place'], ['tables', 'bars', 'soap'], ['jack', 'int'], ['kitchen continuous space monkeys render fat', 'soap'], ['side', 'large vat', 'rice'], ['memorized statement freckled space monkey', 'beautiful', 'unique snowflake'], ['decaying organic matter', 'everything'], ['part', 'compost pile'], ['jack vo'], ['planet tyler jack', 'spoon', 'rice vat', 'chomps', 'rice', 'irritable way'], ['jack vo'], [], ['head', 'baseball', 'zipper', 'shut'], ['int'], ['living room continuous', 'steps', 'nd floor landing'], ['int'], ['tylers room continuous jack enters'], ['bob', 'book', 'marks', 'chart'], ['floor', 'baskets', 'number', 'sequence etc'], ['first ten', 'sign', 'wilmington'], ['sign', 'new york', 'chicago', 'cities'], ['dozens', 'books', 'finance'], ['jack', 'basket number', 'word citibank', 'top', 'page'], ['next basket'], ['bob grabs jacks hand', 'baskets'], ['first rule', 'project mayhem', 'questions'], ['pg jack', 'bob'], ['tylers', 'week'], ['hell'], ['first rule', 'project mayhem', 'jack right'], ['jack', 'room'], ['int'], ['kitchen moments later jack barges', 'space monkeys'], ['soap mix'], ['vodka'], ['jack', 'bottle', 'vodka', 'long pull'], ['jack vo'], ['walls', 'mouse', 'clockwork', 'space monkeys', 'teams'], ['house', 'living thing wet', 'inside', 'many people'], ['many people', 'house'], ['phone rings'], ['jack'], ['monkeys stare'], ['jack project mayhem'], ['tylers voice', 'phone'], ['jack', 'others moves', 'corner talks', 'voce'], ['jack tyler'], [], ['tylers voice', 'questions'], ['tense pause'], ['jack vo'], ['joes broken heart', 'tyler'], ['another cog pg tylers voice'], ['jack', 'surprise', 'tyler', 'thoughts'], ['tylers voice', 'everything'], ['ta', 'something'], ['jack'], [], ['tylers voice tonight'], ['ext'], ['front porch later jack bob', 'space monkeys step', 'front door laden', 'boxes', 'equipment'], ['skinny space monkey', 'crap', 'world'], ['group', 'steps', 'porch', 'heads', 'van'], ['ext'], ['park night piece', 'art', 'top', 'hill metal tower', 'base', 'hundred feet', 'design', 'eifel tower'], ['top', 'giant globe made', 'circular poles', 'wires'], ['jack bob', 'monkeys', 'explosive packets', 'globe', 'packets', 'sandbags', 'packets'], ['ext'], ['park later group', 'huddle', 'bushes', 'globe'], ['bob', 'small metal electronic box', 'button detonator'], ['button'], ['rapid series', 'explosions', 'base', 'tower', 'main structural supports'], ['shaped blasts'], ['tower crumbles'], ['bob', 'jack'], ['bob', 'way'], ['globe', 'free bangs', 'top', 'hill'], ['street', 'top', 'parked limo', 'flaming', 'gutterball', 'street', 'parked limo', 'expensive luxury car', 'roofs', 'windows', 'outward'], ['fifty cars', 'treatment'], ['lobby', 'hotel broadsides couple', 'limos caroms', 'turns', 'front', 'large closed starbucks smashing windows', 'front door', 'place fire'], ['ext'], ['park aerial view', 'jack bob', 'monkeys flee laughing', 'handiwork'], ['different directions'], ['move jack', 'bushes'], ['sirens'], ['gloves', 'combat gear'], ['underneath', 'street clothes'], ['jack vo'], ['moment'], ['tyler'], ['limb', 'appendage extension', 'nothing'], [], [], ['jack', 'wad', 'clothes', 'trash'], ['sprint', 'edge', 'park'], ['gunshot'], ['jacks', 'fades'], ['direction', 'sound'], ['heads', 'row', 'hedges'], ['int'], ['concrete staircase continuous', 'moves', 'top step'], ['cop', 'bottom', 'sidewalk'], ['streetlamp lies one', 'monkeys', 'full combat attire', 'ski mask'], ['body', 'motionless sprawled'], ['hand', 'detonator', 'gun'], ['cop', 'ski mask', 'dead face', 'bob bullethole', 'head'], ['jack', 'backwards', 'stomach'], ['breath'], ['cop', 'catches sight', 'jack'], ['gun', 'pb radio'], ['jack', 'sight'], ['pg ext'], ['park continuous jack'], ['hedge', 'crackling', 'pb', 'voice'], ['cops voice', 'pb yeah'], ['clothes'], ['jack', 'pig', 'pace', 'heads', 'edge', 'park'], ['ext'], ['paper st house night jack', 'ghost', 'approaches', 'sidewalk'], ['front door', 'space monkeys', 'luggage'], ['bigeared monkey solemn chant', 'monkeys bigeared unison right hands', 'tyler durden'], ['jack', 'porch', 'sees', 'flight coupons'], ['jack notices', 'kissscar', 'left hands'], ['military demeanor', 'sidewalk', 'head', 'bus stop'], ['jack vo'], ['everything', 'something'], ['int'], ['living room continuous jack', 'space monkey beetred', 'hands', 'lye burns inside', 'tops', 'fingers'], ['monkeys sit', 'process'], ['jack vo'], ['lye', 'fingerprints'], ['int'], ['tylers room jack', 'room', 'desk', 'rifles', 'drawers'], ['elbow bangs', 'top', 'answering machine'], ['messages'], ['pg marlas voice look', 'bent okay'], ['therapist'], ['call'], ['okay'], ['click'], ['next message detective sterns voice', 'detective stern', 'arson unit'], ['times', 'days'], ['questioning'], ['jack shivers', 'machine', 'search'], ['flight coupons'], ['ones', 'flight information', 'destination cities'], ['pocket'], ['close shot sign laguardia international airport'], ['int'], ['bar night jack walks', 'sees several male patrons', 'fight bruises'], ['jack', 'bar sidles', 'men', 'bruised bartender'], [], ['jack', 'emergency'], ['tyler durden'], ['bruised patron never heard'], ['sir'], ['bruised patrons', 'bartender wink', 'jack', 'crack slight smiles'], ['montage day night welcome airport signs atlanta chicago dallas phoenix los angeles'], ['faces'], ['jack vo'], ['every city', 'airport', 'bars'], ['fight club'], ['tyler', 'franchises', 'country'], ['pg int'], ['another bar night jack walks', 'sits', 'bar'], ['bartender', 'neck brace', 'black eye'], ['bartender welcome', 'sir'], ['ones'], ['day', 'fight club'], ['jack talk'], ['tyler durden'], ['bartender', 'test sir'], ['jack yeah', 'test'], ['last thursday night'], ['security'], ['drum'], ['jack'], ['jack vo'], ['please', 'seatbacks', 'full upright', 'position'], ['person'], ['bartender', 'jack', 'hand', 'scar'], ['tyler durden sir'], ['int'], ['hotel room night jack', 'phone', 'number'], ['lamp'], ['intercut pg int'], ['marlas room marla', 'phone'], ['marla yeah'], ['jack'], ['sex'], ['marla', 'kind', 'stupid question'], ['jack', 'answers', 'answers'], ['marla', 'trick'], ['jack', 'gods'], ['marla oh', 'love', 'animals'], ['jack', 'love'], ['marla'], ['jack answer question'], ['marla'], ['sensitive side', 'asshole'], ['jack oh god'], ['marla', 'pretty accurate description', 'relationship'], ['jack', 'name'], ['pg marla tyler durden'], ['jack vo'], ['cabin pressure'], ['marla'], ['marla', 'end intercut'], ['jack', 'receiver beat', 'jack oh'], [], ['town'], ['marlas number', 'maniac'], ['listens'], ['tyler', 'bed', 'ominous poker face'], ['jack', 'receiver'], ['room', 'dim moonlight', 'window'], ['tyler', 'promise'], ['jack', 'people'], ['tyler', 'share body'], ['jack', 'hell'], ['tyler sometimes'], ['int'], ['bar basement night jacks memory jack', 'back', 'crowd', 'tyler', 'middle', 'light'], ['first rule', 'fight club', 'jump cut shot altered flashback', 'jack', 'tyler'], ['jack', 'fight club'], ['pg int'], ['hotel room resuming jack gasps', 'wheezes'], ['tyler grins', 'nods'], ['jack', 'body'], ['one'], ['int'], ['airplane cabin flight night altered flashback jack', 'empty seat', 'blank air', 'eyes', 'someone close'], ['jack'], ['pause', 'living'], ['jack', 'reply'], ['int'], ['hotel room resuming jack', 'trouble', 'breath'], ['jack', 'people'], ['tyler'], ['ext'], ['park night altered flashback jack tyler', 'face right', 'front', 'police commissioners'], ['jack tyler', 'ball', 'new york times', 'ball', 'los angeles times'], ['sort', 'press release style'], ['pg int'], ['hotel room resuming tyler', 'bed', 'jacks hand'], ['lips', 'kissscar'], ['tyler', 'places', 'things'], ['ext'], ['building flashback', 'building', 'trw'], ['jack bob ricky angel face', 'another guy', 'die', 'spraying paint'], ['everyone'], ['jack tyler', 'demeanor mannerisms speech'], ['angel face'], ['jack tyler', 'angel face', 'job'], ['much money', 'bank'], ['two windows shatter outward', 'men', 'windows bruised man', 'job'], ['bruised man', 'much money', 'bank'], ['int'], ['hotel room resuming jack', 'head', 'disbelief'], ['jack', 'house'], ['house', 'name'], ['jack', 'projection'], ['personality disorder'], ['psychogenic fugue state'], ['tyler fuck'], ['hallucination'], ['pg jack points', 'body'], ['tyler'], ['jack'], [], [], ['face', 'months'], ['busy schedule', 'come'], [], ['possibility'], ['anyone'], ['jack quivers', 'shock', 'head'], ['jack'], [], ['tyler'], ['tyler', 'joke right'], [], ['jack faints', 'floor unconscious'], ['int'], ['hotel room day jacks eyes'], ['feet'], ['jack tyler'], ['revelations', 'previous night', 'mirror'], ['sledgehammer', 'emotions hits'], ['clock pm'], ['bam'], ['int'], ['hallway room door slams', 'wall', 'jack', 'room sprinting', 'stairs'], ['luggage'], ['int'], ['stairwell jack', 'steps', 'time'], ['pg int'], ['lobby jack', 'front door', 'length', 'front desk'], ['desk clerk'], ['desk clerk sir'], ['jack catches sight', 'clerk', 'piece', 'paper'], ['desk clerk please', 'list', 'phone calls'], ['jack', 'bill'], ['mass', 'phone numbers'], ['jack'], ['desk clerk', 'sir'], ['', 'thirty', 'jack grins'], ['bill'], ['clerk', 'copy'], ['jack', 'bill', 'pocket', 'door'], ['int'], ['airplane cabin flight day jack', 'window', 'face'], ['ext'], ['airport drive sunset jack sprints', 'curb', 'leaps', 'taxi'], ['ext'], ['marlas hotel sunset taxi', 'halt', 'curb'], ['jack', 'front steps'], ['int'], ['hotel stairs continuous jack', 'steps', 'time'], ['landing', 'turns', 'end', 'pg int'], ['hallway', 'marlas door'], [], ['baleful gaze', 'beat'], ['marla', 'whackedout bald', 'house'], [], ['arm'], ['jack', 'jack', 'hands'], ['jack marla', 'something', 'tremendous act', 'faith', 'part'], ['marla', 'avalanche', 'bullshit'], ['jack'], ['marla spill'], ['int'], ['marlas room continuous jack', 'bed'], ['jack look', 'big difference', 'sex'], ['marla'], [], ['neon sign'], ['jack'], [], ['jack', 'bed', 'marla'], ['sheets', 'covers slide', 'floor'], ['jack', 'composure', 'eyes'], ['jack tyler', 'split personality'], ['pg marla'], ['jack', 'wallet', 'marla', 'drivers'], ['marla', 'fake name'], ['jerk'], ['jack', 'fake name fake person'], ['listen people', 'house', 'danger'], ['marla okay'], ['wonderbitch personality'], ['foursome'], ['jack', 'fucking believe'], ['talk'], ['heres fucking talk'], ['jacks eyes', 'tears'], [], ['marlas face softens'], ['jacks hair', 'face'], ['marla'], ['split personality thing', 'beat', 'silence'], ['hand'], ['nerve'], ['jack', 'something'], [], [], [], ['marla'], ['tyler'], ['jack okay', 'abusive side', 'asshole', 'shit', 'morning'], ['pg marla'], ['shit'], [], [''], [], ['jack', 'face', 'hand'], ['feet'], ['airline flight coupon'], ['jack', 'town', 'awhile'], ['real danger'], ['someplace'], ['marla', 'flight coupon'], ['marla', 'plenty', 'places'], ['jack', 'pocket', 'wad', 'cash'], ['marla', 'cash checks', 'amount'], ['jack leave'], ['rural little town', 'major city'], [], ['okay'], [], ['promise'], ['marla count'], ['back', 'asshole tax'], ['jack'], [], ['marlas expression', 'rage becomes', 'confusion', 'jacks', 'spiritual tenderness'], ['jack', 'door'], ['wave drowsiness', 'fatigue'], ['eyes closing'], ['chair', 'beat', 'hand', 'face'], [], ['marla', 'gone'], ['jack', 'seat'], ['jack marla'], ['pg int'], ['hallway jack', 'room', 'hall', 'directions'], ['jack marla'], ['ext'], ['paper street sunset taxi', 'halt'], ['jack'], ['jack wait'], ['int'], ['paper st house moments later jack walks', 'empty', 'deserted'], ['bathtub', 'canisters', 'vast amounts', 'liquid'], ['bottles', 'nitric acid'], ['int'], ['kitchen', 'phone'], ['hotel bill', 'phone numbers'], ['window last bit', 'sunlight', 'sinks'], ['jack', 'first number'], ['voice', 'phone maintenance'], ['brief silence', 'jack', 'adjusts'], ['jack uh'], ['right number'], ['maintenance departments', 'city', 'water supply'], ['maintenance department'], ['voice', 'good sir'], ['jack excuse'], ['pg voice', 'sir'], [], ['jack', 'phone'], ['next number'], ['different voice', 'phone maintenance'], ['jack', 'tyler give', 'position'], ['different voice', 'huh'], [], ['jack oh'], ['water company'], ['phone numbers'], ['maintenance department'], ['different voice', 'sir'], ['everythings aokay'], ['jack', 'phone'], ['next number'], ['another different voice', 'phone maintenance'], ['jack', 'punches next number'], ['another different voice', 'phone maintenance'], ['jack', 'punches next number'], ['yet another voice', 'phone maintenance'], ['beat', 'jack thinks'], ['jack', 'change', 'plan'], ['yet another voice', 'sir'], ['pg jack', 'change', 'plan'], ['yet another voice', 'sir'], ['stupid fuck'], ['phone numbers'], [], [], ['yet another voice', 'good test sir'], [], ['jack', 'phone', 'kicks'], ['red looks', 'passersby'], ['receiver', 'next number', 'hotel bill'], ['scratchy voice', 'phone mason industrial electronics'], ['jack', 'tyler durden'], ['scratchy voice harsh whisper', 'fucking mind'], ['fuck', 'daytime'], ['jack', 'questions', 'scratchy voice jesus'], ['guys'], ['fouryearold', 'shit', 'security system', 'world'], [], [], ['click'], ['disconnect'], ['jack', 'receiver'], ['pg ext'], ['lous tavern night jack', 'cab', 'cabbie'], ['jack'], ['meter'], ['cabbie grins'], ['cabbie', 'charge mr durden'], ['jack gawks'], ['int'], ['lous tavern jack', 'signals'], ['irvine', 'bar', 'jack move', 'corner'], ['men', 'bruised faces turn'], ['jack look', 'nitroglycerin'], ['irvine', 'beat', 'smiles'], ['irvine right mr durden'], ['jack', 'test'], ['mixup'], ['irvine'], ['jack', 'maintenance departments'], ['irvine'], ['jack', 'rage'], ['shirt collar'], ['jack', 'asswipe dickhead'], ['irvine yes'], ['marla walks', 'beeline', 'jack'], ['pg jack hell'], ['marla', 'ten'], ['jack'], ['marla back', 'room'], ['chair'], ['jack shit'], ['irvine', 'couple', 'bruisedfaced guys', 'marla', 'steps'], ['jack', 'door'], ['ext'], ['lous tavern jack', 'cabbie', 'heads', 'main road'], ['brisk pace'], ['face', 'mask', 'psychotic determination'], ['marla', 'rundown side street'], ['int'], ['pawn shop', 'something', 'shelf'], ['jack let', 'trumpet'], ['owner huge gruff man', 'ladder', 'spot'], ['jack', 'countertop', 'register', 'handgun'], ['owner hey'], ['marla gasps'], ['jack', 'clip'], ['door', 'marla'], ['ext'], ['street continuous jack', 'traffic'], ['lexus screeches', 'halt'], ['jack', 'drivers door'], ['jack police emergency'], ['pg driver bullshit'], ['jack', 'gun barrel', 'drivers temple'], ['driver', 'car', 'flees'], ['jack', 'gun', 'marla', 'motions', 'car'], [], ['jack', 'wheel', 'stomps', 'gas'], ['ext'], ['greyhound bus station later jack', 'marla', 'passenger', 'area'], ['greyhound bus', 'passengers'], ['jack', 'destination phoenix', 'eyes'], ['jack shit'], [], ['another one'], ['jack', 'another loading bus'], ['eyes', 'destination sign'], ['jack get', 'bus'], ['marla', 'destination', 'jack shut'], [], ['marla', 'people', 'funny', 'teeth'], ['jack shit'], ['rural south'], ['jack', 'gun barrel', 'marlas ribs'], ['jack get', 'bus'], ['marla', 'bus'], ['jack', 'destination sign', 'watches marla', 'board'], ['doors'], ['bus'], ['bus', 'end', 'road', 'corner'], ['jack', 'passenger platform', 'pg ext'], ['street night', 'space monkey', 'corner'], ['another monkey', 'opposite direction'], ['jack vo'], ['map', 'city', 'little push pins'], ['goose', 'wild kingdom'], [], [], ['int'], ['police station night jack', 'past desks', 'plainclothes detectives', 'private office'], ['business card'], ['int'], ['office continuous jack steps', 'office', 'detective stern', 'desk'], ['jack'], ['leader', 'terrorist organization', 'bombs', 'city'], ['detective stern', 'jack'], ['int'], ['hallway moments later jack handcuffed', 'detective stern'], ['several detectives'], ['somber mood prevails'], ['int'], ['interrogation room continuous stern enters', 'jack', 'table'], ['detectives file inside'], ['last one', 'door'], ['dim light', 'single bulb overhead', 'tone', 'torture chamber'], ['cigarette', 'becomes'], ['jack', 'relief'], [], ['detectives stare', 'jack'], ['burst', 'hysterical laughter'], ['punch jacks shoulder'], ['detective stern good mr durden'], ['jack', 'strength', 'utter shock'], ['thin smile'], ['pg detective stern operation domino', 'everyone little skittish right'], ['clockwork'], ['jack', 'smile', 'face', 'hand', 'palsy victim', 'gesture'], ['detectives', 'gesture', 'reply'], ['ext'], ['back police station night door opens', 'jack'], ['laughter', 'detectives rings'], ['jacks', 'police station'], ['ext'], ['street continuous jack', 'street'], ['state', 'shock', 'dizzy'], ['jack operation domino fall', 'dominoes shit'], ['two'], ['yes'], ['passersby look', 'homeless insane guy'], ['jack banks'], ['first one'], ['number', 'number', 'citibank'], ['int'], ['stolen lexus moments later jack races', 'streets', 'cars honking'], ['beat motorcycle cop', 'jack', 'siren', 'flashing light'], ['jack'], ['motorcycle', 'beside jack', 'cop smiles', 'jack forward'], ['cop', 'escort'], ['lexus', 'corner', 'heads', 'ext'], ['citibank building continuous jack', 'car'], ['int'], ['lobby night', 'space monkeys', 'escort', 'lead jack', 'elevators'], ['jack', 'stairs'], ['jack', 'side', 'stairwell door'], ['pg int'], ['stairwell jack', 'steps'], ['int'], ['parking area jack', 'stairwell', 'area eyes', 'place'], ['support post', 'eyes'], ['support post', 'tyler', 'ground', 'back', 'post'], ['tyler', 'something'], ['jack', 'charges'], ['tyler', 'sentence', 'preposition'], ['jack charges fuckhead'], ['tyler listen', 'elephant balls', 'gun'], [], ['jack'], ['jack', 'support posts'], ['tyler', 'floors'], ['jack', 'shit'], ['tyler', 'enough time'], ['tyler', 'points', 'watch'], ['tyler'], ['minutes'], ['jack', 'tyler gun'], ['pg jack tell charges'], ['building'], [], ['fuse', 'charge'], ['charges', 'specific order', 'building'], ['charges', 'sequence', 'building', 'wrong way'], ['television', 'party'], ['jack'], ['control', 'body'], ['orders'], ['tyler', 'orders'], ['set'], ['jack', 'cracks'], ['gun', 'knees', 'clutches', 'tyler'], ['tylers'], ['jack tyler'], [], ['big joke'], ['bitch'], ['tears', 'jacks eyes'], ['tyler'], ['tyler'], [], ['jack', 'head', 'another jack'], ['real jack gasps flinches backwards', 'gun'], ['gun'], ['fifty feet', 'tyler', 'leans', 'pillar'], [], ['jack', 'gun', 'head'], ['jack', 'way'], ['jack', 'barrel', 'mouth'], ['pg tyler'], ['body', 'space monkeys', 'orders', 'marla'], ['jack marla'], ['tylers hand', 'darts frame closeup', 'snatches gun'], ['new angle tyler', 'gun dashes', 'elevator'], ['jack sprints'], ['int'], ['elevator jack', 'door closes'], ['tyler', 'fights', 'gun'], ['tyler', 'manages'], ['elevator', 'blinking numbers', 'floors', 'past'], ['int'], ['top floor lobby elevator doors', 'pair', 'glass walls'], ['tyler shoves jacks head', 'window', 'jack'], ['angle street greyhound bus', 'front lobby doors', 'cordon'], ['int'], ['top floor lobby resuming', 'tyler', 'jack'], ['jack', 'bus'], ['tyler'], ['tyler swings jack', 'window', 'backwards'], ['nothing'], ['jack', 'gun', 'tyler'], ['tyler', 'jack fires'], ['bullet', 'chunk', 'wall'], ['pg jack'], [], ['tyler', 'hallway'], [], [], ['jack fires', 'tyler'], ['tyler', 'sprint'], ['jack'], ['int'], ['hallway jack', 'corner', 'tyler', 'end', 'section', 'hallway', 'intersection'], ['jack', 'gun', 'tyler'], ['rapid cut security camera pov hallway jack', 'gun'], ['rapid cut int'], ['hallway jack fires'], ['tyler', 'rapid cut security camera pov hallway jack', 'shot'], ['rapid cut int'], ['hallway jack', 'corner'], ['new section hallway jack', 'tyler turn freeze', 'room'], ['jack fires'], ['bullet grazes tylers leg'], ['rapid cut security camera pov hallway jack', 'gun', 'leg', 'backwards', 'graze'], ['rapid cut int'], ['hallway jack', 'feet', 'face', 'insane runs', 'limp', 'gun'], ['corner', 'pg int'], ['top floor lobby', 'tyler leaps', 'jack'], ['rapid cut security camera pov lobby jack', 'floor', 'wrestles'], ['arms'], ['rapid cut int'], ['top floor lobby tyler', 'feet', 'dashes'], ['jack', 'int'], ['large social room', 'windows', 'view', 'city'], ['hundred duffel bags', 'floor', 'walls'], ['tyler', 'jack', 'gun'], ['jack', 'tyler'], ['tyler', 'gun barrel', 'jacks mouth'], ['tyler okay'], ['martyr', 'cause'], ['tyler', 'jack', 'glass wall'], ['jack', 'spirit'], ['jack vo'], [], ['tyler', 'minutes'], ['jack', 'floor'], ['tyler', 'gun', 'jacks mouth'], ['jack'], ['jack either way building', 'trigger'], ['tyler building'], ['observation room'], ['payperview'], [], ['guts', 'decision'], ['pg jack', 'eyes', 'moment', 'trigger'], ['go slow motion', 'kablam'], ['cheeks inflate', 'gas', 'gun'], ['eyes', 'blood flies', 'backwards', 'head'], ['smoke', 'mouth'], ['resume normal speed', 'tyler gapes', 'jack', 'head', 'feels', 'hole blown back'], ['tylers eyes', 'backwards', 'floor dead', 'grin', 'face'], ['throng', 'space monkeys', 'marla rushes', 'room'], ['jack alone', 'gun', 'side', 'face', 'shot hole', 'cheek'], ['empty floor', 'front', 'weird little smile'], ['tall space monkey right sir'], ['space monkeys', 'marla press', 'crowd'], ['gun', 'head'], [], ['tall space monkey right sir'], ['jack', 'sight', 'marla', 'gun', 'head'], ['tyleresque grin'], ['jack everythings fine'], ['girl'], ['monkeys release marla'], ['jack', 'bloody state'], ['jack', 'arm'], ['purse', 'wad', 'tissue paper'], ['mouth', 'hole'], ['marla', 'fuck'], ['jack', 'weird little smile', 'eyes'], ['marla', 'hand'], ['jack tylers'], ['space monkeys', 'duffel bags', 'file', 'room', 'jack'], ['jack', 'marla'], ['feet'], [], ['window'], ['pg massive explosion building quarter', 'mile'], ['destruction'], ['glass', 'rattle loudly', 'shock wave'], ['window'], ['jack listen', 'weird time', 'life marla', 'jack', 'window'], ['hand'], ['hand'], ['silhouetted', 'bright flashes', 'another building explodes', 'collapses'], ['another building explodes'], ['another building'], ['another building'], ['film slows', 'advances one frame', 'time showing sprocket holes', 'sides'], ['caught', 'mechanism', 'projectors'], ['frame', 'exploding buildings', 'frame', 'penis'], ['exploding buildings'], ['speed frames', 'sprocket', 'resume normal speed'], ['fade', 'end end pg']] \n",
      "\n"
     ]
    }
   ],
   "source": [
    "chunks = summarizer.get_chunks(text_chunks)\n",
    "print('Chunks:\\n', chunks, '\\n')"
   ],
   "metadata": {
    "collapsed": false,
    "pycharm": {
     "name": "#%%\n"
    }
   }
  },
  {
   "cell_type": "code",
   "execution_count": 82,
   "outputs": [
    {
     "name": "stdout",
     "output_type": "stream",
     "text": [
      "Top 10 TF-IDF keyphrases:\n",
      "\t ('fade int', 1.0)\n",
      "\t ('disheveled jack', 1.0)\n",
      "\t ('jack vo', 1.0)\n",
      "\t ('pg jack vo', 1.0)\n",
      "\t ('dropbydrop', 1.0)\n",
      "\t ('move jacks face', 1.0)\n",
      "\t ('jacks face', 1.0)\n",
      "\t ('pg pull back wide int', 1.0)\n",
      "\t ('product endorsements', 1.0)\n",
      "\t ('big cheesebread', 1.0)\n"
     ]
    }
   ],
   "source": [
    "tfidf=summarizer.get_tfidf_weighted_keyphrases(text=text_chunks,top_n=10)\n",
    "print('Top 10 TF-IDF keyphrases:')\n",
    "for item in tfidf:\n",
    "    print('\\t',item)"
   ],
   "metadata": {
    "collapsed": false,
    "pycharm": {
     "name": "#%%\n"
    }
   }
  },
  {
   "cell_type": "code",
   "execution_count": 83,
   "outputs": [
    {
     "name": "stdout",
     "output_type": "stream",
     "text": [
      "Keywords:\n",
      " [('marlas', 0.247), ('screen black jack', 0.239), ('barrel handgun lodged jacks mouth struggle intensely', 0.106), ('facing', 0.096), ('asking know tyler durden fade int social room', 0.085), ('liked', 0.077), ('turns', 0.072), ('turn', 0.072), ('turning', 0.072), ('eye', 0.068), ('looked weeping', 0.062), ('hand', 0.062), ('doors', 0.06), ('heading', 0.058), ('noise gunshot makes expanding gases totally forgot tylers', 0.058), ('face slowly pull', 0.057), ('smiles', 0.057), ('pulls', 0.056), ('pulled', 0.056), ('continuous looking exactly', 0.052), ('takes', 0.052), ('guys', 0.049), ('guy', 0.049), ('gets', 0.048), ('open', 0.048)]\n"
     ]
    }
   ],
   "source": [
    "summarizer.keyword(fight_club)"
   ],
   "metadata": {
    "collapsed": false,
    "pycharm": {
     "name": "#%%\n"
    }
   }
  },
  {
   "cell_type": "markdown",
   "source": [
    "# <font color=2d5db5>**Topic Modeling:**"
   ],
   "metadata": {
    "collapsed": false,
    "pycharm": {
     "name": "#%% md\n"
    }
   }
  },
  {
   "cell_type": "code",
   "execution_count": 84,
   "outputs": [
    {
     "name": "stdout",
     "output_type": "stream",
     "text": [
      "['idx', 'MATLAB_NOTES', 'nips00', 'nips01', 'nips02', 'nips03', 'nips04', 'nips05', 'nips06', 'nips07', 'nips08', 'nips09', 'nips10', 'nips11', 'nips12', 'nips16', 'orig', 'RAW_DATA_NOTES', 'README_yann']\n",
      "Length of papers:\n",
      " 1740 \n",
      "\n",
      "Paper fragment:\n",
      " 1 \n",
      "CONNECTIVITY VERSUS ENTROPY \n",
      "Yaser S. Abu-Mostafa \n",
      "California Institute of Technology \n",
      "Pasadena, CA 91125 \n",
      "ABSTRACT \n",
      "How does the connectivity of a neural network \n",
      "\n"
     ]
    }
   ],
   "source": [
    "# page 365\n",
    "DATA_PATH = 'data/nipstxt/'\n",
    "print(os.listdir(DATA_PATH))\n",
    "\n",
    "# page 366\n",
    "folders = ['nips{0:02}'.format(i) for i in range(0, 13)]\n",
    "# Read all texts into a list.\n",
    "papers = []\n",
    "for folder in folders:\n",
    "    file_names = os.listdir(DATA_PATH + folder)\n",
    "    for file_name in file_names:\n",
    "        with open(DATA_PATH + folder + '/' + file_name, encoding='utf-8',\n",
    "                  errors='ignore', mode='r+') as f:\n",
    "            data = f.read()\n",
    "        papers.append(data)\n",
    "# save the papers list, you'll need this a bit later on\n",
    "\n",
    "print('Length of papers:\\n', len(papers), '\\n')\n",
    "print('Paper fragment:\\n', papers[0][:165], '\\n')"
   ],
   "metadata": {
    "collapsed": false,
    "pycharm": {
     "name": "#%%\n"
    }
   }
  },
  {
   "cell_type": "code",
   "execution_count": 85,
   "outputs": [
    {
     "name": "stdout",
     "output_type": "stream",
     "text": [
      "Length of normalized papers: 1740 \n",
      "\n"
     ]
    }
   ],
   "source": [
    "#Text Wrangling\n",
    "stop_words = nltk.corpus.stopwords.words('english')\n",
    "wtk = nltk.tokenize.RegexpTokenizer(r'\\w+')\n",
    "wnl = nltk.stem.wordnet.WordNetLemmatizer()\n",
    "\n",
    "def normalize_corpus(papers):\n",
    "    norm_papers = []\n",
    "    for paper in papers:\n",
    "        paper = paper.lower()\n",
    "        paper_tokens = [token.strip() for token in wtk.tokenize(paper)]\n",
    "        paper_tokens = [wnl.lemmatize(token) for token in paper_tokens\n",
    "                        if not token.isnumeric()]\n",
    "        paper_tokens = [token for token in paper_tokens if len(token) > 1]\n",
    "        paper_tokens = [token for token in paper_tokens if token not in stop_words]\n",
    "        paper_tokens = list(filter(None, paper_tokens))\n",
    "        if paper_tokens:\n",
    "            norm_papers.append(paper_tokens)\n",
    "    return norm_papers\n",
    "\n",
    "norm_papers = normalize_corpus(papers)\n",
    "print('Length of normalized papers:', len(norm_papers), '\\n')"
   ],
   "metadata": {
    "collapsed": false,
    "pycharm": {
     "name": "#%%\n"
    }
   }
  },
  {
   "cell_type": "markdown",
   "source": [
    "### Text Representation with Feature Engineering"
   ],
   "metadata": {
    "collapsed": false,
    "pycharm": {
     "name": "#%% md\n"
    }
   }
  },
  {
   "cell_type": "code",
   "execution_count": 86,
   "outputs": [
    {
     "name": "stdout",
     "output_type": "stream",
     "text": [
      "Bigram model: \n",
      "\t ['connectivity', 'versus', 'entropy', 'yaser', 'abu_mostafa', 'california_institute', 'technology_pasadena', 'ca_abstract', 'doe', 'connectivity', 'neural_network', 'number', 'synapsis', 'per', 'neuron', 'relate', 'complexity', 'problem', 'handle', 'measured', 'entropy', 'switching', 'theory', 'would', 'suggest', 'relation', 'since', 'boolean_function', 'implemented', 'using', 'circuit', 'low', 'connectivity', 'using', 'two', 'input', 'nand', 'gate', 'however', 'network', 'learns', 'problem', 'example', 'using', 'local', 'learning', 'rule', 'prove', 'entropy', 'problem']\n"
     ]
    }
   ],
   "source": [
    "# sample demonstration\n",
    "bigram = gensim.models.Phrases(norm_papers, min_count=20, threshold=20, delimiter=b'_')\n",
    "bigram_model = gensim.models.phrases.Phraser(bigram)\n",
    "print('Bigram model: \\n\\t', bigram_model[norm_papers[0]][:50])"
   ],
   "metadata": {
    "collapsed": false,
    "pycharm": {
     "name": "#%%\n"
    }
   }
  },
  {
   "cell_type": "code",
   "execution_count": 87,
   "outputs": [
    {
     "name": "stdout",
     "output_type": "stream",
     "text": [
      "Sample word to number mappings:\n",
      " [(0, '0a'), (1, '2h'), (2, '2h2'), (3, '2he'), (4, '2n'), (5, '__c'), (6, '_c'), (7, '_k'), (8, 'a2'), (9, 'ability'), (10, 'abu_mostafa'), (11, 'access'), (12, 'accommodate'), (13, 'according'), (14, 'accumulated')] \n",
      "\n",
      "Total vocabulary size: 78892 \n",
      "\n"
     ]
    }
   ],
   "source": [
    "# Create a dictionary representation of the documents.\n",
    "norm_corpus_bigrams = [bigram_model[doc]\n",
    "                       for doc in norm_papers]\n",
    "dictionary = gensim.corpora.Dictionary(norm_corpus_bigrams)\n",
    "print('Sample word to number mappings:\\n', list(dictionary.items())[:15], '\\n')\n",
    "print('Total vocabulary size:', len(dictionary), '\\n')"
   ],
   "metadata": {
    "collapsed": false,
    "pycharm": {
     "name": "#%%\n"
    }
   }
  },
  {
   "cell_type": "code",
   "execution_count": 88,
   "outputs": [
    {
     "name": "stdout",
     "output_type": "stream",
     "text": [
      "Total vocabulary size: 7756 \n",
      "\n"
     ]
    }
   ],
   "source": [
    "# Filter out words that occur in fewer than 20 documents, or more than 50% of the documents.\n",
    "dictionary.filter_extremes(no_below=20, no_above=0.6)\n",
    "print('Total vocabulary size:', len(dictionary), '\\n')"
   ],
   "metadata": {
    "collapsed": false,
    "pycharm": {
     "name": "#%%\n"
    }
   }
  },
  {
   "cell_type": "code",
   "execution_count": 89,
   "outputs": [
    {
     "name": "stdout",
     "output_type": "stream",
     "text": [
      "Bag of words:\n",
      " [(3, 1), (12, 3), (14, 1), (15, 1), (16, 1), (17, 16), (20, 1), (24, 1), (26, 1), (31, 3), (35, 1), (36, 1), (40, 3), (41, 5), (42, 1), (48, 1), (53, 3), (55, 1), (56, 2), (58, 1), (60, 3), (63, 5), (64, 4), (65, 2), (73, 1), (74, 1), (75, 1), (76, 1), (77, 3), (82, 1), (83, 4), (84, 1), (85, 1), (86, 2), (94, 1), (96, 2), (97, 3), (106, 1), (110, 1), (119, 2), (120, 4), (121, 2), (124, 2), (127, 1), (128, 1), (132, 1), (133, 1), (135, 6), (136, 1), (144, 1)] \n",
      "\n"
     ]
    }
   ],
   "source": [
    "# Transforming corpus into bag of words vectors\n",
    "bow_corpus = [dictionary.doc2bow(text) for text in norm_corpus_bigrams]\n",
    "print('Bag of words:\\n', bow_corpus[1][:50], '\\n')"
   ],
   "metadata": {
    "collapsed": false,
    "pycharm": {
     "name": "#%%\n"
    }
   }
  },
  {
   "cell_type": "code",
   "execution_count": 90,
   "outputs": [
    {
     "name": "stdout",
     "output_type": "stream",
     "text": [
      "Terms and counts:\n",
      " [('ability', 1), ('aip', 3), ('although', 1), ('american_institute', 1), ('amount', 1), ('analog', 16), ('appears', 1), ('architecture', 1), ('aspect', 1), ('available', 3), ('become', 1), ('becomes', 1), ('binary', 3), ('biological', 5), ('bit', 1), ('cannot', 1), ('circuit', 3), ('collective', 1), ('compare', 2), ('complex', 1), ('computing', 3), ('conference', 5), ('connected', 4), ('connectivity', 2), ('define', 1), ('defined', 1), ('defines', 1), ('definition', 1), ('denker', 3), ('designed', 1), ('desired', 4), ('diagonal', 1), ('difference', 1), ('directly', 2), ('ed', 1), ('el', 2), ('element', 3), ('equivalent', 1), ('eventually', 1), ('feature', 2), ('final', 4), ('find', 2), ('fixed', 2), ('frequency', 1), ('furthermore', 1), ('generating', 1), ('get', 1), ('global', 6), ('go', 1), ('hence', 1)] \n",
      "\n"
     ]
    }
   ],
   "source": [
    "# viewing actual terms and their counts\n",
    "print('Terms and counts:\\n', [(dictionary[idx], freq) for idx, freq in bow_corpus[1][:50]], '\\n')"
   ],
   "metadata": {
    "collapsed": false,
    "pycharm": {
     "name": "#%%\n"
    }
   }
  },
  {
   "cell_type": "code",
   "execution_count": 91,
   "outputs": [
    {
     "name": "stdout",
     "output_type": "stream",
     "text": [
      "Total number of papers: 1740 \n",
      "\n"
     ]
    }
   ],
   "source": [
    "# total papers in the corpus\n",
    "print('Total number of papers:', len(bow_corpus), '\\n')"
   ],
   "metadata": {
    "collapsed": false,
    "pycharm": {
     "name": "#%%\n"
    }
   }
  },
  {
   "cell_type": "markdown",
   "source": [
    "### Latent Semantic Indexing"
   ],
   "metadata": {
    "collapsed": false,
    "pycharm": {
     "name": "#%% md\n"
    }
   }
  },
  {
   "cell_type": "code",
   "execution_count": 92,
   "outputs": [
    {
     "name": "stdout",
     "output_type": "stream",
     "text": [
      "Topic #1:\n",
      "0.215*\"unit\" + 0.212*\"state\" + 0.187*\"training\" + 0.177*\"neuron\" + 0.162*\"pattern\" + 0.145*\"image\" + 0.140*\"vector\" + 0.125*\"feature\" + 0.122*\"cell\" + 0.110*\"layer\" + 0.101*\"task\" + 0.097*\"class\" + 0.091*\"probability\" + 0.089*\"signal\" + 0.087*\"step\" + 0.086*\"response\" + 0.085*\"representation\" + 0.083*\"noise\" + 0.082*\"rule\" + 0.081*\"distribution\" \n",
      "\n",
      "Topic #2:\n",
      "0.487*\"neuron\" + 0.396*\"cell\" + -0.257*\"state\" + 0.191*\"response\" + -0.187*\"training\" + 0.170*\"stimulus\" + 0.117*\"activity\" + -0.109*\"class\" + 0.099*\"spike\" + 0.097*\"pattern\" + 0.096*\"circuit\" + 0.096*\"synaptic\" + -0.095*\"vector\" + 0.090*\"signal\" + 0.090*\"firing\" + 0.088*\"visual\" + -0.084*\"classifier\" + -0.083*\"action\" + -0.078*\"word\" + 0.078*\"cortical\" \n",
      "\n",
      "Topic #3:\n",
      "-0.627*\"state\" + 0.395*\"image\" + -0.219*\"neuron\" + 0.209*\"feature\" + -0.188*\"action\" + 0.137*\"unit\" + 0.131*\"object\" + -0.130*\"control\" + 0.129*\"training\" + -0.109*\"policy\" + 0.103*\"classifier\" + 0.090*\"class\" + -0.081*\"step\" + -0.081*\"dynamic\" + 0.080*\"classification\" + 0.078*\"layer\" + 0.076*\"recognition\" + -0.074*\"reinforcement_learning\" + 0.069*\"representation\" + 0.068*\"pattern\" \n",
      "\n",
      "Topic #4:\n",
      "0.686*\"unit\" + -0.433*\"image\" + 0.182*\"pattern\" + 0.131*\"layer\" + 0.123*\"hidden_unit\" + 0.121*\"net\" + 0.114*\"training\" + -0.112*\"feature\" + 0.109*\"activation\" + 0.107*\"rule\" + -0.097*\"neuron\" + 0.078*\"word\" + -0.070*\"pixel\" + 0.070*\"connection\" + -0.067*\"object\" + -0.065*\"state\" + -0.060*\"distribution\" + -0.059*\"face\" + 0.057*\"architecture\" + -0.055*\"estimate\" \n",
      "\n",
      "Topic #5:\n",
      "-0.428*\"image\" + -0.348*\"state\" + 0.266*\"neuron\" + -0.264*\"unit\" + 0.181*\"training\" + 0.174*\"class\" + -0.168*\"object\" + 0.167*\"classifier\" + -0.147*\"action\" + -0.122*\"visual\" + 0.117*\"vector\" + 0.115*\"node\" + 0.105*\"distribution\" + -0.103*\"motion\" + -0.099*\"feature\" + 0.097*\"classification\" + -0.097*\"control\" + -0.095*\"task\" + -0.087*\"cell\" + -0.083*\"representation\" \n",
      "\n",
      "Topic #6:\n",
      "0.660*\"cell\" + -0.508*\"neuron\" + -0.213*\"image\" + -0.103*\"chip\" + -0.097*\"unit\" + 0.093*\"response\" + -0.090*\"object\" + 0.083*\"rat\" + 0.076*\"distribution\" + -0.070*\"circuit\" + 0.069*\"probability\" + 0.064*\"stimulus\" + -0.061*\"memory\" + -0.058*\"analog\" + -0.058*\"activation\" + 0.055*\"class\" + -0.053*\"bit\" + -0.052*\"net\" + 0.051*\"cortical\" + 0.050*\"firing\" \n",
      "\n",
      "Topic #7:\n",
      "-0.353*\"word\" + 0.281*\"unit\" + -0.272*\"training\" + -0.257*\"classifier\" + -0.177*\"recognition\" + 0.159*\"distribution\" + -0.152*\"feature\" + -0.144*\"state\" + -0.142*\"pattern\" + 0.141*\"vector\" + -0.128*\"cell\" + -0.128*\"task\" + 0.122*\"approximation\" + 0.121*\"variable\" + 0.110*\"equation\" + -0.107*\"classification\" + 0.106*\"noise\" + -0.103*\"class\" + 0.101*\"matrix\" + -0.098*\"neuron\" \n",
      "\n",
      "Topic #8:\n",
      "-0.303*\"pattern\" + 0.243*\"signal\" + 0.236*\"control\" + 0.202*\"training\" + -0.181*\"rule\" + -0.178*\"state\" + 0.167*\"noise\" + -0.166*\"class\" + 0.162*\"word\" + -0.155*\"cell\" + -0.154*\"feature\" + 0.147*\"motion\" + 0.140*\"task\" + -0.127*\"node\" + -0.124*\"neuron\" + 0.116*\"target\" + 0.114*\"circuit\" + -0.114*\"probability\" + -0.110*\"classifier\" + -0.109*\"image\" \n",
      "\n",
      "Topic #9:\n",
      "0.472*\"node\" + 0.254*\"circuit\" + -0.214*\"word\" + 0.201*\"chip\" + -0.190*\"neuron\" + -0.172*\"stimulus\" + 0.160*\"classifier\" + 0.152*\"current\" + -0.147*\"feature\" + 0.146*\"voltage\" + -0.145*\"distribution\" + 0.141*\"control\" + 0.124*\"rule\" + 0.110*\"layer\" + 0.105*\"analog\" + 0.091*\"tree\" + -0.084*\"response\" + -0.080*\"state\" + -0.079*\"probability\" + -0.079*\"estimate\" \n",
      "\n",
      "Topic #10:\n",
      "0.518*\"word\" + -0.254*\"training\" + 0.236*\"vector\" + -0.222*\"task\" + -0.194*\"pattern\" + -0.156*\"classifier\" + 0.149*\"node\" + 0.146*\"recognition\" + -0.139*\"control\" + 0.138*\"sequence\" + -0.126*\"rule\" + 0.125*\"circuit\" + 0.123*\"cell\" + -0.113*\"action\" + -0.105*\"neuron\" + 0.094*\"hmm\" + 0.093*\"character\" + 0.088*\"chip\" + 0.088*\"matrix\" + 0.085*\"structure\" \n",
      "\n",
      "Topic #1:\n",
      "==================================================\n",
      "Direction 1: [('unit', 0.215), ('state', 0.212), ('training', 0.187), ('neuron', 0.177), ('pattern', 0.162), ('image', 0.145), ('vector', 0.14), ('feature', 0.125), ('cell', 0.122), ('layer', 0.11), ('task', 0.101), ('class', 0.097), ('probability', 0.091), ('signal', 0.089), ('step', 0.087), ('response', 0.086), ('representation', 0.085), ('noise', 0.083), ('rule', 0.082), ('distribution', 0.081)]\n",
      "--------------------------------------------------\n",
      "Direction 2: []\n",
      "-------------------------------------------------- \n",
      "\n",
      "Topic #2:\n",
      "==================================================\n",
      "Direction 1: [('neuron', 0.487), ('cell', 0.396), ('response', 0.191), ('stimulus', 0.17), ('activity', 0.117), ('spike', 0.099), ('pattern', 0.097), ('circuit', 0.096), ('synaptic', 0.096), ('signal', 0.09), ('firing', 0.09), ('visual', 0.088), ('cortical', 0.078)]\n",
      "--------------------------------------------------\n",
      "Direction 2: [('state', -0.257), ('training', -0.187), ('class', -0.109), ('vector', -0.095), ('classifier', -0.084), ('action', -0.083), ('word', -0.078)]\n",
      "-------------------------------------------------- \n",
      "\n",
      "Topic #3:\n",
      "==================================================\n",
      "Direction 1: [('image', 0.395), ('feature', 0.209), ('unit', 0.137), ('object', 0.131), ('training', 0.129), ('classifier', 0.103), ('class', 0.09), ('classification', 0.08), ('layer', 0.078), ('recognition', 0.076), ('representation', 0.069), ('pattern', 0.068)]\n",
      "--------------------------------------------------\n",
      "Direction 2: [('state', -0.627), ('neuron', -0.219), ('action', -0.188), ('control', -0.13), ('policy', -0.109), ('step', -0.081), ('dynamic', -0.081), ('reinforcement_learning', -0.074)]\n",
      "-------------------------------------------------- \n",
      "\n",
      "Topic #4:\n",
      "==================================================\n",
      "Direction 1: [('unit', 0.686), ('pattern', 0.182), ('layer', 0.131), ('hidden_unit', 0.123), ('net', 0.121), ('training', 0.114), ('activation', 0.109), ('rule', 0.107), ('word', 0.078), ('connection', 0.07), ('architecture', 0.057)]\n",
      "--------------------------------------------------\n",
      "Direction 2: [('image', -0.433), ('feature', -0.112), ('neuron', -0.097), ('pixel', -0.07), ('object', -0.067), ('state', -0.065), ('distribution', -0.06), ('face', -0.059), ('estimate', -0.055)]\n",
      "-------------------------------------------------- \n",
      "\n",
      "Topic #5:\n",
      "==================================================\n",
      "Direction 1: [('neuron', 0.266), ('training', 0.181), ('class', 0.174), ('classifier', 0.167), ('vector', 0.117), ('node', 0.115), ('distribution', 0.105), ('classification', 0.097)]\n",
      "--------------------------------------------------\n",
      "Direction 2: [('image', -0.428), ('state', -0.348), ('unit', -0.264), ('object', -0.168), ('action', -0.147), ('visual', -0.122), ('motion', -0.103), ('feature', -0.099), ('control', -0.097), ('task', -0.095), ('cell', -0.087), ('representation', -0.083)]\n",
      "-------------------------------------------------- \n",
      "\n",
      "Topic #6:\n",
      "==================================================\n",
      "Direction 1: [('cell', 0.66), ('response', 0.093), ('rat', 0.083), ('distribution', 0.076), ('probability', 0.069), ('stimulus', 0.064), ('class', 0.055), ('cortical', 0.051), ('firing', 0.05)]\n",
      "--------------------------------------------------\n",
      "Direction 2: [('neuron', -0.508), ('image', -0.213), ('chip', -0.103), ('unit', -0.097), ('object', -0.09), ('circuit', -0.07), ('memory', -0.061), ('analog', -0.058), ('activation', -0.058), ('bit', -0.053), ('net', -0.052)]\n",
      "-------------------------------------------------- \n",
      "\n",
      "Topic #7:\n",
      "==================================================\n",
      "Direction 1: [('unit', 0.281), ('distribution', 0.159), ('vector', 0.141), ('approximation', 0.122), ('variable', 0.121), ('equation', 0.11), ('noise', 0.106), ('matrix', 0.101)]\n",
      "--------------------------------------------------\n",
      "Direction 2: [('word', -0.353), ('training', -0.272), ('classifier', -0.257), ('recognition', -0.177), ('feature', -0.152), ('state', -0.144), ('pattern', -0.142), ('cell', -0.128), ('task', -0.128), ('classification', -0.107), ('class', -0.103), ('neuron', -0.098)]\n",
      "-------------------------------------------------- \n",
      "\n",
      "Topic #8:\n",
      "==================================================\n",
      "Direction 1: [('signal', 0.243), ('control', 0.236), ('training', 0.202), ('noise', 0.167), ('word', 0.162), ('motion', 0.147), ('task', 0.14), ('target', 0.116), ('circuit', 0.114)]\n",
      "--------------------------------------------------\n",
      "Direction 2: [('pattern', -0.303), ('rule', -0.181), ('state', -0.178), ('class', -0.166), ('cell', -0.155), ('feature', -0.154), ('node', -0.127), ('neuron', -0.124), ('probability', -0.114), ('classifier', -0.11), ('image', -0.109)]\n",
      "-------------------------------------------------- \n",
      "\n",
      "Topic #9:\n",
      "==================================================\n",
      "Direction 1: [('node', 0.472), ('circuit', 0.254), ('chip', 0.201), ('classifier', 0.16), ('current', 0.152), ('voltage', 0.146), ('control', 0.141), ('rule', 0.124), ('layer', 0.11), ('analog', 0.105), ('tree', 0.091)]\n",
      "--------------------------------------------------\n",
      "Direction 2: [('word', -0.214), ('neuron', -0.19), ('stimulus', -0.172), ('feature', -0.147), ('distribution', -0.145), ('response', -0.084), ('state', -0.08), ('probability', -0.079), ('estimate', -0.079)]\n",
      "-------------------------------------------------- \n",
      "\n",
      "Topic #10:\n",
      "==================================================\n",
      "Direction 1: [('word', 0.518), ('vector', 0.236), ('node', 0.149), ('recognition', 0.146), ('sequence', 0.138), ('circuit', 0.125), ('cell', 0.123), ('hmm', 0.094), ('character', 0.093), ('chip', 0.088), ('matrix', 0.088), ('structure', 0.085)]\n",
      "--------------------------------------------------\n",
      "Direction 2: [('training', -0.254), ('task', -0.222), ('pattern', -0.194), ('classifier', -0.156), ('control', -0.139), ('rule', -0.126), ('action', -0.113), ('neuron', -0.105)]\n",
      "-------------------------------------------------- \n",
      "\n",
      "(7756, 10) (10,) (10, 1740)\n",
      "      T1     T2     T3     T4     T5     T6     T7     T8     T9    T10\n",
      "0  0.016  0.017 -0.013 -0.008  0.024 -0.028  0.000 -0.019 -0.008 -0.006\n",
      "1  0.041  0.030 -0.019  0.021  0.019 -0.056  0.018  0.009  0.018 -0.011\n",
      "2  0.022 -0.000 -0.022 -0.008  0.011 -0.016  0.013 -0.017 -0.001  0.007\n",
      "3  0.032  0.036 -0.011  0.014  0.035 -0.052 -0.016 -0.043 -0.010 -0.029\n",
      "4  0.035 -0.002 -0.017  0.008  0.016 -0.017  0.032 -0.022  0.050  0.029\n",
      "Document #13:\n",
      "Dominant Topics (top 3): ['T3', 'T8', 'T9']\n",
      "Paper Summary:\n",
      "137 \n",
      "On the \n",
      "Power of Neural Networks for \n",
      "Solving Hard Problems \n",
      "Jehoshua Bruck \n",
      "Joseph W. Goodman \n",
      "Information Systems Laboratory \n",
      "Department of Electrical Engineering \n",
      "Stanford University \n",
      "Stanford, CA 94305 \n",
      "Abstract \n",
      "This paper deals with a neural network model in which each neuron \n",
      "performs a threshold logic function. An important property of the model \n",
      "is that it always converges to a stable state when operating in a serial \n",
      "mode [2,5]. This property is the basis of the potential applicat \n",
      "\n",
      "Document #250:\n",
      "Dominant Topics (top 3): ['T9', 'T8', 'T1']\n",
      "Paper Summary:\n",
      "542 Kassebaum, Tenorio and Schaefers \n",
      "The Cocktail Party Problem: \n",
      "Speech/Data Signal Separation Comparison \n",
      "between Backpropagation and SONN \n",
      "John Kassebaum \n",
      "jakec.ecn.purdue.edu \n",
      "Manoel Fernando Tenorio \n",
      "tenorioee.ecn.purdue.edu \n",
      "Chrlstoph Schaefers \n",
      "Parallel Distributed Structures Laboratory \n",
      "School of Electrical Engineering \n",
      "Purdue University \n",
      "W. Lafayette, IN. 47907 \n",
      "ABSTRACT \n",
      "This work introduces a new method called Self Organizing Neural \n",
      "Network (SONN) algorithm and compares its perfor \n",
      "\n",
      "Document #500:\n",
      "Dominant Topics (top 3): ['T1', 'T10', 'T7']\n",
      "Paper Summary:\n",
      "Learning Global Direct Inverse Kinematics \n",
      "David DeMers* \n",
      "Computer Science & Eng. \n",
      "UC San Diego \n",
      "La Jolla, CA 92093-0114 \n",
      "Kenneth Kreutz-Deigado I \n",
      "Electrical & Computer Eng. \n",
      "UC San Diego \n",
      "La Jolla, CA 92093-0407 \n",
      "Abstract \n",
      "We introduce and demonstrate a bootstrap method for construction of an in- \n",
      "verse function for the robot kinematic mapping using only sample configuration- \n",
      "space/workspace data. Unsupervised learning (clustering) techniques are used on \n",
      "pre-image neighborhoods in order to l \n",
      "\n"
     ]
    }
   ],
   "source": [
    "TOTAL_TOPICS = 10\n",
    "lsi_bow = LsiModel(bow_corpus, id2word=dictionary, num_topics=TOTAL_TOPICS,\n",
    "                   onepass=True, chunksize=1740, power_iters=1000)\n",
    "\n",
    "for topic_id, topic in lsi_bow.print_topics(num_topics=10, num_words=20):\n",
    "    print('Topic #' + str(topic_id+1)+':')\n",
    "    print(topic, '\\n')\n",
    "\n",
    "for n in range(TOTAL_TOPICS):\n",
    "    print('Topic #' + str(n+1)+':')\n",
    "    print('='*50)\n",
    "    d1 = []\n",
    "    d2 = []\n",
    "    for term, wt in lsi_bow.show_topic(n, topn=20):\n",
    "        if wt >= 0:\n",
    "            d1.append((term, round(wt, 3)))\n",
    "        else:\n",
    "            d2.append((term, round(wt, 3)))\n",
    "\n",
    "    print('Direction 1:', d1)\n",
    "    print('-'*50)\n",
    "    print('Direction 2:', d2)\n",
    "    print('-'*50, '\\n')\n",
    "\n",
    "# page 379\n",
    "term_topic = lsi_bow.projection.u\n",
    "singular_values = lsi_bow.projection.s\n",
    "topic_document = (gensim.matutils.corpus2dense(lsi_bow[bow_corpus],\n",
    "                                               len(singular_values)).T / singular_values).T\n",
    "print(term_topic.shape, singular_values.shape, topic_document.shape)\n",
    "\n",
    "document_topics = pd.DataFrame(np.round(topic_document.T, 3),\n",
    "                               columns=['T' + str(i) for i in range(1, TOTAL_TOPICS+1)])\n",
    "print(document_topics.head(5))\n",
    "\n",
    "# page 380\n",
    "document_numbers = [13, 250, 500]\n",
    "\n",
    "for document_number in document_numbers:\n",
    "    top_topics = list(document_topics.columns[np.argsort(\n",
    "        -np.absolute(document_topics.iloc[document_number].values))[:3]])\n",
    "    print('Document #' + str(document_number)+':')\n",
    "    print('Dominant Topics (top 3):', top_topics)\n",
    "    print('Paper Summary:')\n",
    "    print(papers[document_number][:500], '\\n')"
   ],
   "metadata": {
    "collapsed": false,
    "pycharm": {
     "name": "#%%\n"
    }
   }
  },
  {
   "cell_type": "markdown",
   "source": [
    "# <font color=2d5db5>**Automated Document Summarization:**"
   ],
   "metadata": {
    "collapsed": false,
    "pycharm": {
     "name": "#%% md\n"
    }
   }
  },
  {
   "cell_type": "markdown",
   "source": [
    "### Gensim"
   ],
   "metadata": {
    "collapsed": false,
    "pycharm": {
     "name": "#%% md\n"
    }
   }
  },
  {
   "cell_type": "code",
   "execution_count": 93,
   "outputs": [
    {
     "name": "stdout",
     "output_type": "stream",
     "text": [
      "Fight Club Production and Reception Summary:\n",
      " Fight Club is a 1999 American film directed by David Fincher and starring Brad Pitt, Edward Norton, and Helena Bonham Carter.\n",
      "Palahniuk's novel was optioned by Fox 2000 Pictures producer Laura Ziskin, who hired Jim Uhls to write the film adaptation. \n",
      "\n",
      "Limited Fight Club Production and Reception Summary\n",
      " Fight Club is a 1999 American film directed by David Fincher and starring Brad Pitt, Edward Norton, and Helena Bonham Carter.\n",
      "Palahniuk's novel was optioned by Fox 2000 Pictures producer Laura Ziskin, who hired Jim Uhls to write the film adaptation.\n",
      "The film later found commercial success with its home video release, establishing Fight Club as a cult classic and causing media to revisit the film. \n",
      "\n"
     ]
    }
   ],
   "source": [
    "\n",
    "#Wikipedia.(2023). Fight Club https://en.wikipedia.org/wiki/Fight_Club\n",
    "reception = \"\"\"\n",
    "Fight Club is a 1999 American film directed by David Fincher and starring Brad Pitt, Edward Norton, and Helena Bonham Carter. It is based on the 1996 novel of the same name by Chuck Palahniuk. Norton plays the unnamed narrator, who is discontented with his white-collar job. He forms a \"fight club\" with soap salesman Tyler Durden (Pitt), and becomes embroiled in a relationship with a mysterious woman, Marla Singer (Bonham Carter).[5][6]\n",
    "\n",
    "Palahniuk's novel was optioned by Fox 2000 Pictures producer Laura Ziskin, who hired Jim Uhls to write the film adaptation. Fincher was selected because of his enthusiasm for the story. He developed the script with Uhls and sought screenwriting advice from the cast and others in the film industry. It was filmed in and around Los Angeles from July to December 1998. He and the cast compared the film to Rebel Without a Cause (1955) and The Graduate (1967), with a theme of conflict between Generation X and the value system of advertising.[7][8]\n",
    "\n",
    "Studio executives did not like the film, and they restructured Fincher's intended marketing campaign to try to reduce anticipated losses. Fight Club failed to meet the studio's expectations at the box office, and received polarized reactions from critics. It was ranked as one of the most controversial and talked-about films of the 1990s. The film later found commercial success with its home video release, establishing Fight Club as a cult classic and causing media to revisit the film. In 2009, on the tenth anniversary of the film's release, The New York Times dubbed it the \"defining cult movie of our time.\"[9]\n",
    "\"\"\"\n",
    "plot=\"\"\"\n",
    "The Narrator (who is not named in the movie) is a chronic insomniac who is unfulfilled both by his job as an automobile recall specialist and the material wealth it affords him. As a substitute for therapy, he attends support groups for problems he doesn't really have, such as alcoholism and cancer. Another impostor, Marla Singer, begins attending the same groups. Her presence is taken by the Narrator as a constant reminder of his dishonesty, interfering with the therapeutic effect he's after. He confronts Marla, and proposes they divide group attendance, to which she grudgingly agrees.\n",
    "\n",
    "On a flight home from a business trip, the Narrator meets Tyler Durden, a soap salesman, who tells him he is trapped by consumerism. The Narrator's apartment and all of his belongings are destroyed by an explosion, so he moves into Tyler's dilapidated house in an industrial area. The two start having consensual fistfights in the parking lot of a bar, which attracts other men and eventually leads to the formation of Fight Club, which meets in the bar's basement. Marla overdoses on pills while the Narrator ignores her phone call for help, but Tyler saves her and they begin a sexual relationship.\n",
    "\n",
    "The Narrator quits his job and blackmails his boss for the company's assets to support Fight Club. More members join Fight Club, one of them being Robert \"Bob\" Paulson, a man the Narrator had befriended at a cancer support group. Tyler then recruits the men to his new organization, Project Mayhem, which engages in acts of vandalism. When the Narrator complains about being excluded, Tyler reveals that he was the one who caused the explosion at the Narrator's condo. Tyler disappears, and when Bob is killed by the police during a sabotage operation, the Narrator tries to stop Project Mayhem. He follows a paper trail to cities Tyler had visited and finds that Project Mayhem has spread throughout the country. Marla and the Project members address the Narrator as \"Mr. Durden,\" and he realizes that he and Tyler are the same person.\n",
    "\n",
    "The Narrator learns that Tyler plans to erase debt by destroying buildings containing credit card records. He tries to warn Marla, but she does not believe him. He goes to the police and is threatened by officers who reveal they are members of Project Mayhem; he then escapes to try to disarm the explosives in one building but is subdued by Tyler and held at gunpoint on the top floor. The Narrator realizes that it is actually himself who is holding the gun, and he fires the weapon into his own mouth, blowing a hole through his cheek. Tyler stands motionless, smoke coiling from his head, and then collapses and vanishes. Marla arrives, being brought by Project members and finds the Narrator badly wounded but alive. He tells her that she met him \"at a very strange time\" in his life, and they hold hands and watch as the buildings around them explode.\n",
    "\"\"\"\n",
    "\n",
    "DOCUMENT = re.sub(r'\\n|\\r', ' ', reception)\n",
    "DOCUMENT = re.sub(r' +', ' ', reception)\n",
    "DOCUMENT = reception.strip()\n",
    "print('Fight Club Production and Reception Summary:\\n', summarize(reception, split=False), '\\n')\n",
    "print('Limited Fight Club Production and Reception Summary\\n', summarize(reception, word_count=75, split=False), '\\n')"
   ],
   "metadata": {
    "collapsed": false,
    "pycharm": {
     "name": "#%%\n"
    }
   }
  },
  {
   "cell_type": "markdown",
   "source": [
    "### SpaCy"
   ],
   "metadata": {
    "collapsed": false,
    "pycharm": {
     "name": "#%% md\n"
    }
   }
  },
  {
   "cell_type": "code",
   "execution_count": 94,
   "outputs": [
    {
     "data": {
      "text/plain": "'The Narrator (who is not named in the movie) is a chronic insomniac who is unfulfilled both by his job as an automobile recall specialist and the material wealth it affords him. As a substitute for therapy, he attends support groups for problems he doesn\\'t really have, such as alcoholism and cancer. Another impostor, Marla Singer, begins attending the same groups. Her presence is taken by the Narrator as a constant reminder of his dishonesty, interfering with the therapeutic effect he\\'s after. He confronts Marla, and proposes they divide group attendance, to which she grudgingly agrees. On a flight home from a business trip, the Narrator meets Tyler Durden, a soap salesman, who tells him he is trapped by consumerism. The Narrator\\'s apartment and all of his belongings are destroyed by an explosion, so he moves into Tyler\\'s dilapidated house in an industrial area. The two start having consensual fistfights in the parking lot of a bar, which attracts other men and eventually leads to the formation of Fight Club, which meets in the bar\\'s basement. Marla overdoses on pills while the Narrator ignores her phone call for help, but Tyler saves her and they begin a sexual relationship. The Narrator quits his job and blackmails his boss for the company\\'s assets to support Fight Club. More members join Fight Club, one of them being Robert \"Bob\" Paulson, a man the Narrator had befriended at a cancer support group.'"
     },
     "execution_count": 94,
     "metadata": {},
     "output_type": "execute_result"
    }
   ],
   "source": [
    "nlp = spacy.load('en_core_web_sm')\n",
    "def summarize(text):\n",
    "    doc = nlp(text) # Parse the text with spaCy\n",
    "    sentences = [sent.text for sent in doc.sents]# Create a list of sentences from the parsed text\n",
    "    total_words = len([token.text for token in doc if not token.is_stop]) # Calculate the total number of words in the document\n",
    "    target_words = int(total_words * 0.5)# Calculate the target number of words for the summary (20% of the total words)\n",
    "    running_words = 0 # running total of words added to the summary\n",
    "    summary = ''\n",
    "    for sentence in sentences:\n",
    "        sent = nlp(sentence)\n",
    "        sent_words = len([token.text for token in sent if not token.is_stop]) # Calculate the number of words in the sentence (excluding stop words)\n",
    "        if running_words + sent_words <= target_words: # If adding this sentence to the summary would not exceed the target number of words\n",
    "            summary += sentence.strip() + ' '\n",
    "            running_words += sent_words\n",
    "        else:\n",
    "            break # breaks the loop if word count coes over\n",
    "    return summary.strip()\n",
    "summarize(plot)"
   ],
   "metadata": {
    "collapsed": false,
    "pycharm": {
     "name": "#%%\n"
    }
   }
  },
  {
   "cell_type": "code",
   "execution_count": 95,
   "outputs": [
    {
     "name": "stdout",
     "output_type": "stream",
     "text": [
      "{\n",
      "The Narrator (who is not named in the movie) is a chronic insomniac who is unfulfilled both by his job as an automobile recall specialist and the material wealth it affords him.: 1.9285714285714282, As a substitute for therapy, he attends support groups for problems he doesn't really have, such as alcoholism and cancer.: 0.857142857142857, Another impostor, Marla Singer, begins attending the same groups.: 0.857142857142857, Her presence is taken by the Narrator as a constant reminder of his dishonesty, interfering with the therapeutic effect he's after.: 1.5714285714285712, He confronts Marla, and proposes they divide group attendance, to which she grudgingly agrees.\n",
      "\n",
      ": 0.9285714285714284, On a flight home from a business trip, the Narrator meets Tyler Durden, a soap salesman, who tells him he is trapped by consumerism.: 2.785714285714286, The Narrator's apartment and all of his belongings are destroyed by an explosion, so he moves into Tyler's dilapidated house in an industrial area.: 2.5000000000000004, The two start having consensual fistfights in the parking lot of a bar, which attracts other men and eventually leads to the formation of Fight Club, which meets in the bar's basement.: 1.7142857142857137, Marla overdoses on pills while the Narrator ignores her phone call for help, but Tyler saves her and they begin a sexual relationship.\n",
      "\n",
      ": 2.8571428571428577, The Narrator quits his job and blackmails his boss for the company's assets to support Fight Club.: 2.1428571428571423, More members join Fight Club, one of them being Robert \"Bob\" Paulson, a man the Narrator had befriended at a cancer support group.: 2.785714285714286, Tyler then recruits the men to his new organization, Project Mayhem, which engages in acts of vandalism.: 2.0714285714285716, When the Narrator complains about being excluded, Tyler reveals that he was the one who caused the explosion at the Narrator's condo.: 3.2857142857142856, Tyler disappears, and when Bob is killed by the police during a sabotage operation, the Narrator tries to stop Project Mayhem.: 3.285714285714285, He follows a paper trail to cities Tyler had visited and finds that Project Mayhem has spread throughout the country.: 2.1428571428571432, Marla and the Project members address the Narrator as \"Mr. Durden,\" and he realizes that he and Tyler are the same person.\n",
      "\n",
      ": 3.428571428571429, The Narrator learns that Tyler plans to erase debt by destroying buildings containing credit card records.: 2.5714285714285725, He tries to warn Marla, but she does not believe him.: 0.7142857142857142, He goes to the police and is threatened by officers who reveal they are members of Project Mayhem; he then escapes to try to disarm the explosives in one building but is subdued by Tyler and held at gunpoint on the top floor.: 2.857142857142857, The Narrator realizes that it is actually himself who is holding the gun, and he fires the weapon into his own mouth, blowing a hole through his cheek.: 1.714285714285714, Tyler stands motionless, smoke coiling from his head, and then collapses and vanishes.: 1.2857142857142856, Marla arrives, being brought by Project members and finds the Narrator badly wounded but alive.: 2.5714285714285716, He tells her that she met him \"at a very strange time\" in his life, and they hold hands and watch as the buildings around them explode.\n",
      ": 0.857142857142857}\n",
      "\n",
      " Final Summary:\n",
      " Marla and the Project members address the Narrator as \"Mr. Durden,\" and he realizes that he and Tyler are the same person.\n",
      "\n",
      " When the Narrator complains about being excluded, Tyler reveals that he was the one who caused the explosion at the Narrator's condo. Tyler disappears, and when Bob is killed by the police during a sabotage operation, the Narrator tries to stop Project Mayhem.\n"
     ]
    }
   ],
   "source": [
    "#I thought this was more interesting for the scoring aspect and the potential I think it has but i didn't have time to work with it: https://github.com/kamal2230/text-summarization/blob/master/Summarisation_using_spaCy.ipynb\n",
    "\n",
    "import spacy\n",
    "from spacy.lang.en.stop_words import STOP_WORDS\n",
    "from string import punctuation\n",
    "from collections import Counter\n",
    "from heapq import nlargest\n",
    "\n",
    "doc=plot\n",
    "nlp = spacy.load('en_core_web_sm')\n",
    "doc = nlp(doc)\n",
    "keyword = []\n",
    "stopwords = list(STOP_WORDS)\n",
    "pos_tag = ['PROPN', 'ADJ', 'NOUN', 'VERB']\n",
    "for token in doc:\n",
    "    if(token.text in stopwords or token.text in punctuation):\n",
    "        continue\n",
    "    if(token.pos_ in pos_tag):\n",
    "        keyword.append(token.text)\n",
    "freq_word = Counter(keyword)\n",
    "max_freq = Counter(keyword).most_common(1)[0][1]\n",
    "for word in freq_word.keys():\n",
    "        freq_word[word] = (freq_word[word]/max_freq)\n",
    "freq_word.most_common(5)\n",
    "sent_strength={}\n",
    "for sent in doc.sents:\n",
    "    for word in sent:\n",
    "        if word.text in freq_word.keys():\n",
    "            if sent in sent_strength.keys():\n",
    "                sent_strength[sent]+=freq_word[word.text]\n",
    "            else:\n",
    "                sent_strength[sent]=freq_word[word.text]\n",
    "print(sent_strength)\n",
    "summarized_sentences = nlargest(3, sent_strength, key=sent_strength.get)\n",
    "final_sentences = [ w.text for w in summarized_sentences ]\n",
    "summary = ' '.join(final_sentences)\n",
    "print('\\n Final Summary:\\n',summary)#lol, so the final summary gives away the ending."
   ],
   "metadata": {
    "collapsed": false,
    "pycharm": {
     "name": "#%%\n"
    }
   }
  }
 ],
 "metadata": {
  "kernelspec": {
   "display_name": "Python 3",
   "language": "python",
   "name": "python3"
  },
  "language_info": {
   "codemirror_mode": {
    "name": "ipython",
    "version": 2
   },
   "file_extension": ".py",
   "mimetype": "text/x-python",
   "name": "python",
   "nbconvert_exporter": "python",
   "pygments_lexer": "ipython2",
   "version": "2.7.6"
  }
 },
 "nbformat": 4,
 "nbformat_minor": 0
}